{
  "nbformat": 4,
  "nbformat_minor": 0,
  "metadata": {
    "colab": {
      "name": "regression-challenge",
      "provenance": [],
      "authorship_tag": "ABX9TyNKOQ0EvaaYM8qPn77dXiXK",
      "include_colab_link": true
    },
    "kernelspec": {
      "name": "python3",
      "display_name": "Python 3"
    },
    "language_info": {
      "name": "python"
    },
    "accelerator": "GPU"
  },
  "cells": [
    {
      "cell_type": "markdown",
      "metadata": {
        "id": "view-in-github",
        "colab_type": "text"
      },
      "source": [
        "<a href=\"https://colab.research.google.com/github/icemduru/codecademy_Deep_Learning_Regression_with_Admissions_Data/blob/main/regression_challenge.ipynb\" target=\"_parent\"><img src=\"https://colab.research.google.com/assets/colab-badge.svg\" alt=\"Open In Colab\"/></a>"
      ]
    },
    {
      "cell_type": "code",
      "execution_count": 33,
      "metadata": {
        "id": "hUD59H31oORp"
      },
      "outputs": [],
      "source": [
        "import pandas as pd\n",
        "import numpy as np\n",
        "import matplotlib.pyplot as plt\n",
        "\n",
        "import tensorflow as tf\n",
        "from tensorflow\timport keras\n",
        "from tensorflow.keras.models import Sequential\n",
        "from tensorflow.keras.callbacks import EarlyStopping\n",
        "from tensorflow.keras import layers\n",
        "\n",
        "from sklearn.model_selection import train_test_split\n",
        "from sklearn.preprocessing import StandardScaler\n",
        "from sklearn.preprocessing import Normalizer\n",
        "from sklearn.metrics import r2_score"
      ]
    },
    {
      "cell_type": "code",
      "source": [
        "from google.colab import files\n",
        "uploaded = files.upload()\n"
      ],
      "metadata": {
        "colab": {
          "resources": {
            "http://localhost:8080/nbextensions/google.colab/files.js": {
              "data": "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",
              "ok": true,
              "headers": [
                [
                  "content-type",
                  "application/javascript"
                ]
              ],
              "status": 200,
              "status_text": ""
            }
          },
          "base_uri": "https://localhost:8080/",
          "height": 73
        },
        "id": "Q1MuPwRMobsG",
        "outputId": "12ed3cf3-f755-40b3-efe3-7268770cd7e8"
      },
      "execution_count": 34,
      "outputs": [
        {
          "output_type": "display_data",
          "data": {
            "text/plain": [
              "<IPython.core.display.HTML object>"
            ],
            "text/html": [
              "\n",
              "     <input type=\"file\" id=\"files-6776959e-26e9-4052-b463-dc644ba00497\" name=\"files[]\" multiple disabled\n",
              "        style=\"border:none\" />\n",
              "     <output id=\"result-6776959e-26e9-4052-b463-dc644ba00497\">\n",
              "      Upload widget is only available when the cell has been executed in the\n",
              "      current browser session. Please rerun this cell to enable.\n",
              "      </output>\n",
              "      <script src=\"/nbextensions/google.colab/files.js\"></script> "
            ]
          },
          "metadata": {}
        },
        {
          "output_type": "stream",
          "name": "stdout",
          "text": [
            "Saving admissions_data.csv to admissions_data (1).csv\n"
          ]
        }
      ]
    },
    {
      "cell_type": "code",
      "source": [
        "df = pd.read_csv(\"admissions_data.csv\")"
      ],
      "metadata": {
        "id": "0uqXqkHwpMYY"
      },
      "execution_count": 36,
      "outputs": []
    },
    {
      "cell_type": "code",
      "source": [
        "labels = df.iloc[:,-1]\n",
        "feature = df.iloc[:,1:-1]\n",
        "feature_train, feature_test, labels_train, labels_test = train_test_split(feature,labels,test_size=0.2, random_state=23)"
      ],
      "metadata": {
        "id": "JwYzvTt2pS_o"
      },
      "execution_count": 37,
      "outputs": []
    },
    {
      "cell_type": "code",
      "source": [
        "scaler = StandardScaler()\n",
        "\n",
        "feature_train_scaled = scaler.fit_transform(feature_train)\n",
        "feature_train_scaled = pd.DataFrame(feature_train_scaled)\n",
        "\n",
        "feature_test_scaled = scaler.transform(feature_test)\n",
        "feature_test_scaled = pd.DataFrame(feature_test_scaled)"
      ],
      "metadata": {
        "id": "PIcHgrywpWko"
      },
      "execution_count": 38,
      "outputs": []
    },
    {
      "cell_type": "markdown",
      "source": [
        "Model will include:\n",
        "\n",
        "\n",
        "*   1 hidden layer with 1 dropout\n",
        "*   1 output layer\n",
        "*   adam optimiser with 0.01 learning rate\n",
        "\n"
      ],
      "metadata": {
        "id": "z0dOAnDYsRAX"
      }
    },
    {
      "cell_type": "code",
      "source": [
        "model = Sequential()\n",
        "input_dimention= len(feature_train_scaled.columns)\n",
        "model.add(layers.Dense(23, activation='relu',input_dim=input_dimention))\n",
        "model.add(layers.Dropout(0.1))\n",
        "model.add(layers.Dense(1))\n",
        "\n",
        "opti = keras.optimizers.Adam(learning_rate=0.01)\n",
        "model.compile(loss='mse', optimizer=opti, metrics=['mae'])\n",
        "\n",
        "model.summary()"
      ],
      "metadata": {
        "colab": {
          "base_uri": "https://localhost:8080/"
        },
        "id": "4sI-oT4rry3w",
        "outputId": "df5145d6-4175-480e-dbcd-dd7763fe8459"
      },
      "execution_count": 79,
      "outputs": [
        {
          "output_type": "stream",
          "name": "stdout",
          "text": [
            "Model: \"sequential_4\"\n",
            "_________________________________________________________________\n",
            " Layer (type)                Output Shape              Param #   \n",
            "=================================================================\n",
            " dense_9 (Dense)             (None, 23)                184       \n",
            "                                                                 \n",
            " dropout_5 (Dropout)         (None, 23)                0         \n",
            "                                                                 \n",
            " dense_10 (Dense)            (None, 1)                 24        \n",
            "                                                                 \n",
            "=================================================================\n",
            "Total params: 208\n",
            "Trainable params: 208\n",
            "Non-trainable params: 0\n",
            "_________________________________________________________________\n"
          ]
        }
      ]
    },
    {
      "cell_type": "code",
      "source": [
        "model.fit(feature_train_scaled, labels_train, epochs=30, batch_size=2)"
      ],
      "metadata": {
        "colab": {
          "base_uri": "https://localhost:8080/"
        },
        "id": "NCSVUTvxpbme",
        "outputId": "89ebbffd-d765-43b1-8b19-631ae7b52728"
      },
      "execution_count": 80,
      "outputs": [
        {
          "output_type": "stream",
          "name": "stdout",
          "text": [
            "Epoch 1/30\n",
            "200/200 [==============================] - 1s 3ms/step - loss: 0.0789 - mae: 0.2102\n",
            "Epoch 2/30\n",
            "200/200 [==============================] - 1s 3ms/step - loss: 0.0161 - mae: 0.0990\n",
            "Epoch 3/30\n",
            "200/200 [==============================] - 1s 3ms/step - loss: 0.0109 - mae: 0.0783\n",
            "Epoch 4/30\n",
            "200/200 [==============================] - 1s 3ms/step - loss: 0.0064 - mae: 0.0620\n",
            "Epoch 5/30\n",
            "200/200 [==============================] - 1s 3ms/step - loss: 0.0056 - mae: 0.0577\n",
            "Epoch 6/30\n",
            "200/200 [==============================] - 1s 3ms/step - loss: 0.0052 - mae: 0.0556\n",
            "Epoch 7/30\n",
            "200/200 [==============================] - 1s 3ms/step - loss: 0.0051 - mae: 0.0549\n",
            "Epoch 8/30\n",
            "200/200 [==============================] - 1s 3ms/step - loss: 0.0048 - mae: 0.0522\n",
            "Epoch 9/30\n",
            "200/200 [==============================] - 1s 3ms/step - loss: 0.0048 - mae: 0.0522\n",
            "Epoch 10/30\n",
            "200/200 [==============================] - 1s 3ms/step - loss: 0.0051 - mae: 0.0533\n",
            "Epoch 11/30\n",
            "200/200 [==============================] - 1s 3ms/step - loss: 0.0057 - mae: 0.0561\n",
            "Epoch 12/30\n",
            "200/200 [==============================] - 1s 3ms/step - loss: 0.0050 - mae: 0.0528\n",
            "Epoch 13/30\n",
            "200/200 [==============================] - 1s 3ms/step - loss: 0.0047 - mae: 0.0511\n",
            "Epoch 14/30\n",
            "200/200 [==============================] - 1s 3ms/step - loss: 0.0051 - mae: 0.0546\n",
            "Epoch 15/30\n",
            "200/200 [==============================] - 1s 3ms/step - loss: 0.0053 - mae: 0.0560\n",
            "Epoch 16/30\n",
            "200/200 [==============================] - 1s 3ms/step - loss: 0.0062 - mae: 0.0597\n",
            "Epoch 17/30\n",
            "200/200 [==============================] - 1s 3ms/step - loss: 0.0051 - mae: 0.0540\n",
            "Epoch 18/30\n",
            "200/200 [==============================] - 1s 3ms/step - loss: 0.0057 - mae: 0.0558\n",
            "Epoch 19/30\n",
            "200/200 [==============================] - 1s 3ms/step - loss: 0.0049 - mae: 0.0523\n",
            "Epoch 20/30\n",
            "200/200 [==============================] - 1s 3ms/step - loss: 0.0053 - mae: 0.0547\n",
            "Epoch 21/30\n",
            "200/200 [==============================] - 1s 3ms/step - loss: 0.0050 - mae: 0.0543\n",
            "Epoch 22/30\n",
            "200/200 [==============================] - 1s 3ms/step - loss: 0.0059 - mae: 0.0577\n",
            "Epoch 23/30\n",
            "200/200 [==============================] - 1s 3ms/step - loss: 0.0058 - mae: 0.0582\n",
            "Epoch 24/30\n",
            "200/200 [==============================] - 1s 3ms/step - loss: 0.0052 - mae: 0.0543\n",
            "Epoch 25/30\n",
            "200/200 [==============================] - 1s 3ms/step - loss: 0.0054 - mae: 0.0553\n",
            "Epoch 26/30\n",
            "200/200 [==============================] - 1s 3ms/step - loss: 0.0051 - mae: 0.0513\n",
            "Epoch 27/30\n",
            "200/200 [==============================] - 1s 3ms/step - loss: 0.0054 - mae: 0.0546\n",
            "Epoch 28/30\n",
            "200/200 [==============================] - 1s 3ms/step - loss: 0.0057 - mae: 0.0566\n",
            "Epoch 29/30\n",
            "200/200 [==============================] - 1s 3ms/step - loss: 0.0057 - mae: 0.0574\n",
            "Epoch 30/30\n",
            "200/200 [==============================] - 1s 3ms/step - loss: 0.0056 - mae: 0.0565\n"
          ]
        },
        {
          "output_type": "execute_result",
          "data": {
            "text/plain": [
              "<keras.callbacks.History at 0x7f33326fb750>"
            ]
          },
          "metadata": {},
          "execution_count": 80
        }
      ]
    },
    {
      "cell_type": "code",
      "source": [
        ""
      ],
      "metadata": {
        "id": "uV0mEoHcrwSg"
      },
      "execution_count": 80,
      "outputs": []
    },
    {
      "cell_type": "code",
      "source": [
        "val_mse, val_mae = model.evaluate(feature_test_scaled, labels_test,verbose=0)"
      ],
      "metadata": {
        "id": "UbFyL8xKpoU_"
      },
      "execution_count": 81,
      "outputs": []
    },
    {
      "cell_type": "code",
      "source": [
        "val_mae"
      ],
      "metadata": {
        "colab": {
          "base_uri": "https://localhost:8080/"
        },
        "id": "QfDjplIxtIRC",
        "outputId": "2ffcfd29-f6cd-4f20-b9fe-7ddc86f581e4"
      },
      "execution_count": 82,
      "outputs": [
        {
          "output_type": "execute_result",
          "data": {
            "text/plain": [
              "0.04791311174631119"
            ]
          },
          "metadata": {},
          "execution_count": 82
        }
      ]
    },
    {
      "cell_type": "markdown",
      "source": [
        "# Now with stopping but more epochs."
      ],
      "metadata": {
        "id": "PgIOpufB6598"
      }
    },
    {
      "cell_type": "code",
      "source": [
        "callback = keras.callbacks.EarlyStopping(monitor='mae', patience=33,mode='min')"
      ],
      "metadata": {
        "id": "H3Q5sQQztJkD"
      },
      "execution_count": 83,
      "outputs": []
    },
    {
      "cell_type": "code",
      "source": [
        "history = model.fit(feature_train_scaled, labels_train, epochs=555, batch_size=22, verbose=1, callbacks=[callback])"
      ],
      "metadata": {
        "colab": {
          "base_uri": "https://localhost:8080/"
        },
        "id": "GoCqL-k03oHW",
        "outputId": "a667a02e-6f17-406f-e72d-9f36b4d4b863"
      },
      "execution_count": 84,
      "outputs": [
        {
          "output_type": "stream",
          "name": "stdout",
          "text": [
            "Epoch 1/555\n",
            "19/19 [==============================] - 0s 5ms/step - loss: 0.0045 - mae: 0.0485\n",
            "Epoch 2/555\n",
            "19/19 [==============================] - 0s 5ms/step - loss: 0.0041 - mae: 0.0477\n",
            "Epoch 3/555\n",
            "19/19 [==============================] - 0s 4ms/step - loss: 0.0040 - mae: 0.0447\n",
            "Epoch 4/555\n",
            "19/19 [==============================] - 0s 4ms/step - loss: 0.0039 - mae: 0.0474\n",
            "Epoch 5/555\n",
            "19/19 [==============================] - 0s 5ms/step - loss: 0.0038 - mae: 0.0447\n",
            "Epoch 6/555\n",
            "19/19 [==============================] - 0s 5ms/step - loss: 0.0038 - mae: 0.0462\n",
            "Epoch 7/555\n",
            "19/19 [==============================] - 0s 4ms/step - loss: 0.0037 - mae: 0.0452\n",
            "Epoch 8/555\n",
            "19/19 [==============================] - 0s 4ms/step - loss: 0.0040 - mae: 0.0466\n",
            "Epoch 9/555\n",
            "19/19 [==============================] - 0s 5ms/step - loss: 0.0039 - mae: 0.0455\n",
            "Epoch 10/555\n",
            "19/19 [==============================] - 0s 5ms/step - loss: 0.0041 - mae: 0.0461\n",
            "Epoch 11/555\n",
            "19/19 [==============================] - 0s 5ms/step - loss: 0.0038 - mae: 0.0454\n",
            "Epoch 12/555\n",
            "19/19 [==============================] - 0s 6ms/step - loss: 0.0037 - mae: 0.0441\n",
            "Epoch 13/555\n",
            "19/19 [==============================] - 0s 5ms/step - loss: 0.0037 - mae: 0.0432\n",
            "Epoch 14/555\n",
            "19/19 [==============================] - 0s 4ms/step - loss: 0.0039 - mae: 0.0450\n",
            "Epoch 15/555\n",
            "19/19 [==============================] - 0s 4ms/step - loss: 0.0038 - mae: 0.0444\n",
            "Epoch 16/555\n",
            "19/19 [==============================] - 0s 5ms/step - loss: 0.0038 - mae: 0.0444\n",
            "Epoch 17/555\n",
            "19/19 [==============================] - 0s 5ms/step - loss: 0.0039 - mae: 0.0450\n",
            "Epoch 18/555\n",
            "19/19 [==============================] - 0s 5ms/step - loss: 0.0037 - mae: 0.0441\n",
            "Epoch 19/555\n",
            "19/19 [==============================] - 0s 4ms/step - loss: 0.0040 - mae: 0.0450\n",
            "Epoch 20/555\n",
            "19/19 [==============================] - 0s 4ms/step - loss: 0.0037 - mae: 0.0451\n",
            "Epoch 21/555\n",
            "19/19 [==============================] - 0s 5ms/step - loss: 0.0035 - mae: 0.0422\n",
            "Epoch 22/555\n",
            "19/19 [==============================] - 0s 6ms/step - loss: 0.0037 - mae: 0.0431\n",
            "Epoch 23/555\n",
            "19/19 [==============================] - 0s 5ms/step - loss: 0.0036 - mae: 0.0447\n",
            "Epoch 24/555\n",
            "19/19 [==============================] - 0s 5ms/step - loss: 0.0037 - mae: 0.0437\n",
            "Epoch 25/555\n",
            "19/19 [==============================] - 0s 5ms/step - loss: 0.0039 - mae: 0.0460\n",
            "Epoch 26/555\n",
            "19/19 [==============================] - 0s 4ms/step - loss: 0.0037 - mae: 0.0443\n",
            "Epoch 27/555\n",
            "19/19 [==============================] - 0s 4ms/step - loss: 0.0037 - mae: 0.0436\n",
            "Epoch 28/555\n",
            "19/19 [==============================] - 0s 5ms/step - loss: 0.0042 - mae: 0.0457\n",
            "Epoch 29/555\n",
            "19/19 [==============================] - 0s 5ms/step - loss: 0.0038 - mae: 0.0443\n",
            "Epoch 30/555\n",
            "19/19 [==============================] - 0s 5ms/step - loss: 0.0042 - mae: 0.0480\n",
            "Epoch 31/555\n",
            "19/19 [==============================] - 0s 4ms/step - loss: 0.0038 - mae: 0.0451\n",
            "Epoch 32/555\n",
            "19/19 [==============================] - 0s 5ms/step - loss: 0.0038 - mae: 0.0446\n",
            "Epoch 33/555\n",
            "19/19 [==============================] - 0s 5ms/step - loss: 0.0039 - mae: 0.0450\n",
            "Epoch 34/555\n",
            "19/19 [==============================] - 0s 4ms/step - loss: 0.0039 - mae: 0.0449\n",
            "Epoch 35/555\n",
            "19/19 [==============================] - 0s 4ms/step - loss: 0.0040 - mae: 0.0451\n",
            "Epoch 36/555\n",
            "19/19 [==============================] - 0s 5ms/step - loss: 0.0038 - mae: 0.0446\n",
            "Epoch 37/555\n",
            "19/19 [==============================] - 0s 4ms/step - loss: 0.0038 - mae: 0.0449\n",
            "Epoch 38/555\n",
            "19/19 [==============================] - 0s 4ms/step - loss: 0.0036 - mae: 0.0433\n",
            "Epoch 39/555\n",
            "19/19 [==============================] - 0s 4ms/step - loss: 0.0038 - mae: 0.0448\n",
            "Epoch 40/555\n",
            "19/19 [==============================] - 0s 4ms/step - loss: 0.0035 - mae: 0.0431\n",
            "Epoch 41/555\n",
            "19/19 [==============================] - 0s 4ms/step - loss: 0.0036 - mae: 0.0441\n",
            "Epoch 42/555\n",
            "19/19 [==============================] - 0s 6ms/step - loss: 0.0037 - mae: 0.0430\n",
            "Epoch 43/555\n",
            "19/19 [==============================] - 0s 4ms/step - loss: 0.0038 - mae: 0.0461\n",
            "Epoch 44/555\n",
            "19/19 [==============================] - 0s 5ms/step - loss: 0.0038 - mae: 0.0448\n",
            "Epoch 45/555\n",
            "19/19 [==============================] - 0s 4ms/step - loss: 0.0038 - mae: 0.0449\n",
            "Epoch 46/555\n",
            "19/19 [==============================] - 0s 5ms/step - loss: 0.0036 - mae: 0.0440\n",
            "Epoch 47/555\n",
            "19/19 [==============================] - 0s 5ms/step - loss: 0.0037 - mae: 0.0446\n",
            "Epoch 48/555\n",
            "19/19 [==============================] - 0s 5ms/step - loss: 0.0041 - mae: 0.0484\n",
            "Epoch 49/555\n",
            "19/19 [==============================] - 0s 4ms/step - loss: 0.0036 - mae: 0.0432\n",
            "Epoch 50/555\n",
            "19/19 [==============================] - 0s 5ms/step - loss: 0.0035 - mae: 0.0433\n",
            "Epoch 51/555\n",
            "19/19 [==============================] - 0s 4ms/step - loss: 0.0035 - mae: 0.0432\n",
            "Epoch 52/555\n",
            "19/19 [==============================] - 0s 5ms/step - loss: 0.0037 - mae: 0.0450\n",
            "Epoch 53/555\n",
            "19/19 [==============================] - 0s 4ms/step - loss: 0.0035 - mae: 0.0429\n",
            "Epoch 54/555\n",
            "19/19 [==============================] - 0s 10ms/step - loss: 0.0038 - mae: 0.0452\n"
          ]
        }
      ]
    },
    {
      "cell_type": "code",
      "source": [
        "val_mse, val_mae = model.evaluate(feature_test_scaled, labels_test,verbose=0)"
      ],
      "metadata": {
        "id": "EJ5LB4GK4UGl"
      },
      "execution_count": 85,
      "outputs": []
    },
    {
      "cell_type": "code",
      "source": [
        "val_mae"
      ],
      "metadata": {
        "colab": {
          "base_uri": "https://localhost:8080/"
        },
        "id": "Sb0yB4Os5Gxm",
        "outputId": "22a5f39d-0061-44d7-fefa-9035e8332129"
      },
      "execution_count": 86,
      "outputs": [
        {
          "output_type": "execute_result",
          "data": {
            "text/plain": [
              "0.04472900554537773"
            ]
          },
          "metadata": {},
          "execution_count": 86
        }
      ]
    },
    {
      "cell_type": "code",
      "source": [
        "y_pred = model.predict(feature_test_scaled)"
      ],
      "metadata": {
        "id": "0vAV-5dY5JGk"
      },
      "execution_count": 87,
      "outputs": []
    },
    {
      "cell_type": "code",
      "source": [
        "print(r2_score(labels_test,y_pred))"
      ],
      "metadata": {
        "colab": {
          "base_uri": "https://localhost:8080/"
        },
        "id": "tWIzrrWi9F5P",
        "outputId": "9ed034b7-4b9b-4354-bcea-ef067e5b3f1b"
      },
      "execution_count": 88,
      "outputs": [
        {
          "output_type": "stream",
          "name": "stdout",
          "text": [
            "0.8184747443429957\n"
          ]
        }
      ]
    },
    {
      "cell_type": "markdown",
      "source": [
        "Not bad r2 score !"
      ],
      "metadata": {
        "id": "sigMyc83-Vad"
      }
    },
    {
      "cell_type": "code",
      "source": [
        ""
      ],
      "metadata": {
        "id": "7QXwg5R8-Ybd"
      },
      "execution_count": null,
      "outputs": []
    }
  ]
}