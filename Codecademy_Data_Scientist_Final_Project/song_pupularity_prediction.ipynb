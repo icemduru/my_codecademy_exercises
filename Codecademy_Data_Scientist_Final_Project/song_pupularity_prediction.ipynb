{
 "cells": [
  {
   "cell_type": "code",
   "execution_count": 2,
   "metadata": {},
   "outputs": [],
   "source": [
    "import pandas as pd\n",
    "import seaborn as sns\n",
    "import matplotlib.pyplot as plt\n",
    "import numpy as np\n",
    "plt.rcParams['figure.figsize'] = [10, 8]"
   ]
  },
  {
   "cell_type": "markdown",
   "metadata": {},
   "source": [
    "### datafrom: https://www.kaggle.com/datasets/yasserh/song-popularity-dataset"
   ]
  },
  {
   "cell_type": "code",
   "execution_count": 3,
   "metadata": {},
   "outputs": [],
   "source": [
    "df = pd.read_csv(\"song_data.csv\")"
   ]
  },
  {
   "cell_type": "code",
   "execution_count": 4,
   "metadata": {},
   "outputs": [],
   "source": [
    "df.drop_duplicates(inplace=True)"
   ]
  },
  {
   "cell_type": "code",
   "execution_count": 5,
   "metadata": {},
   "outputs": [
    {
     "data": {
      "text/html": [
       "<div>\n",
       "<style scoped>\n",
       "    .dataframe tbody tr th:only-of-type {\n",
       "        vertical-align: middle;\n",
       "    }\n",
       "\n",
       "    .dataframe tbody tr th {\n",
       "        vertical-align: top;\n",
       "    }\n",
       "\n",
       "    .dataframe thead th {\n",
       "        text-align: right;\n",
       "    }\n",
       "</style>\n",
       "<table border=\"1\" class=\"dataframe\">\n",
       "  <thead>\n",
       "    <tr style=\"text-align: right;\">\n",
       "      <th></th>\n",
       "      <th>song_popularity</th>\n",
       "      <th>song_duration_ms</th>\n",
       "      <th>acousticness</th>\n",
       "      <th>danceability</th>\n",
       "      <th>energy</th>\n",
       "      <th>instrumentalness</th>\n",
       "      <th>key</th>\n",
       "      <th>liveness</th>\n",
       "      <th>loudness</th>\n",
       "      <th>audio_mode</th>\n",
       "      <th>speechiness</th>\n",
       "      <th>tempo</th>\n",
       "      <th>time_signature</th>\n",
       "      <th>audio_valence</th>\n",
       "    </tr>\n",
       "  </thead>\n",
       "  <tbody>\n",
       "    <tr>\n",
       "      <th>count</th>\n",
       "      <td>14926.000000</td>\n",
       "      <td>1.492600e+04</td>\n",
       "      <td>14926.000000</td>\n",
       "      <td>14926.000000</td>\n",
       "      <td>14926.000000</td>\n",
       "      <td>14926.000000</td>\n",
       "      <td>14926.000000</td>\n",
       "      <td>14926.000000</td>\n",
       "      <td>14926.000000</td>\n",
       "      <td>14926.000000</td>\n",
       "      <td>14926.000000</td>\n",
       "      <td>14926.000000</td>\n",
       "      <td>14926.000000</td>\n",
       "      <td>14926.000000</td>\n",
       "    </tr>\n",
       "    <tr>\n",
       "      <th>mean</th>\n",
       "      <td>48.750904</td>\n",
       "      <td>2.189496e+05</td>\n",
       "      <td>0.270453</td>\n",
       "      <td>0.624514</td>\n",
       "      <td>0.639763</td>\n",
       "      <td>0.092067</td>\n",
       "      <td>5.301152</td>\n",
       "      <td>0.180435</td>\n",
       "      <td>-7.677232</td>\n",
       "      <td>0.631917</td>\n",
       "      <td>0.099419</td>\n",
       "      <td>121.105007</td>\n",
       "      <td>3.952968</td>\n",
       "      <td>0.526967</td>\n",
       "    </tr>\n",
       "    <tr>\n",
       "      <th>std</th>\n",
       "      <td>20.379465</td>\n",
       "      <td>6.234080e+04</td>\n",
       "      <td>0.298117</td>\n",
       "      <td>0.158081</td>\n",
       "      <td>0.221756</td>\n",
       "      <td>0.240451</td>\n",
       "      <td>3.592616</td>\n",
       "      <td>0.145097</td>\n",
       "      <td>4.018670</td>\n",
       "      <td>0.482300</td>\n",
       "      <td>0.103546</td>\n",
       "      <td>29.044644</td>\n",
       "      <td>0.316702</td>\n",
       "      <td>0.247758</td>\n",
       "    </tr>\n",
       "    <tr>\n",
       "      <th>min</th>\n",
       "      <td>0.000000</td>\n",
       "      <td>1.200000e+04</td>\n",
       "      <td>0.000001</td>\n",
       "      <td>0.000000</td>\n",
       "      <td>0.001070</td>\n",
       "      <td>0.000000</td>\n",
       "      <td>0.000000</td>\n",
       "      <td>0.010900</td>\n",
       "      <td>-38.768000</td>\n",
       "      <td>0.000000</td>\n",
       "      <td>0.000000</td>\n",
       "      <td>0.000000</td>\n",
       "      <td>0.000000</td>\n",
       "      <td>0.000000</td>\n",
       "    </tr>\n",
       "    <tr>\n",
       "      <th>25%</th>\n",
       "      <td>37.000000</td>\n",
       "      <td>1.839435e+05</td>\n",
       "      <td>0.023600</td>\n",
       "      <td>0.524000</td>\n",
       "      <td>0.496000</td>\n",
       "      <td>0.000000</td>\n",
       "      <td>2.000000</td>\n",
       "      <td>0.093000</td>\n",
       "      <td>-9.389500</td>\n",
       "      <td>0.000000</td>\n",
       "      <td>0.037200</td>\n",
       "      <td>98.125000</td>\n",
       "      <td>4.000000</td>\n",
       "      <td>0.332000</td>\n",
       "    </tr>\n",
       "    <tr>\n",
       "      <th>50%</th>\n",
       "      <td>52.000000</td>\n",
       "      <td>2.118455e+05</td>\n",
       "      <td>0.139000</td>\n",
       "      <td>0.636000</td>\n",
       "      <td>0.672000</td>\n",
       "      <td>0.000021</td>\n",
       "      <td>5.000000</td>\n",
       "      <td>0.122000</td>\n",
       "      <td>-6.750500</td>\n",
       "      <td>1.000000</td>\n",
       "      <td>0.054100</td>\n",
       "      <td>120.016000</td>\n",
       "      <td>4.000000</td>\n",
       "      <td>0.527000</td>\n",
       "    </tr>\n",
       "    <tr>\n",
       "      <th>75%</th>\n",
       "      <td>63.750000</td>\n",
       "      <td>2.447200e+05</td>\n",
       "      <td>0.458000</td>\n",
       "      <td>0.740000</td>\n",
       "      <td>0.818000</td>\n",
       "      <td>0.005105</td>\n",
       "      <td>8.000000</td>\n",
       "      <td>0.224000</td>\n",
       "      <td>-4.991000</td>\n",
       "      <td>1.000000</td>\n",
       "      <td>0.113000</td>\n",
       "      <td>139.940750</td>\n",
       "      <td>4.000000</td>\n",
       "      <td>0.727750</td>\n",
       "    </tr>\n",
       "    <tr>\n",
       "      <th>max</th>\n",
       "      <td>100.000000</td>\n",
       "      <td>1.799346e+06</td>\n",
       "      <td>0.996000</td>\n",
       "      <td>0.987000</td>\n",
       "      <td>0.999000</td>\n",
       "      <td>0.997000</td>\n",
       "      <td>11.000000</td>\n",
       "      <td>0.986000</td>\n",
       "      <td>1.585000</td>\n",
       "      <td>1.000000</td>\n",
       "      <td>0.941000</td>\n",
       "      <td>242.318000</td>\n",
       "      <td>5.000000</td>\n",
       "      <td>0.984000</td>\n",
       "    </tr>\n",
       "  </tbody>\n",
       "</table>\n",
       "</div>"
      ],
      "text/plain": [
       "       song_popularity  song_duration_ms  acousticness  danceability  \\\n",
       "count     14926.000000      1.492600e+04  14926.000000  14926.000000   \n",
       "mean         48.750904      2.189496e+05      0.270453      0.624514   \n",
       "std          20.379465      6.234080e+04      0.298117      0.158081   \n",
       "min           0.000000      1.200000e+04      0.000001      0.000000   \n",
       "25%          37.000000      1.839435e+05      0.023600      0.524000   \n",
       "50%          52.000000      2.118455e+05      0.139000      0.636000   \n",
       "75%          63.750000      2.447200e+05      0.458000      0.740000   \n",
       "max         100.000000      1.799346e+06      0.996000      0.987000   \n",
       "\n",
       "             energy  instrumentalness           key      liveness  \\\n",
       "count  14926.000000      14926.000000  14926.000000  14926.000000   \n",
       "mean       0.639763          0.092067      5.301152      0.180435   \n",
       "std        0.221756          0.240451      3.592616      0.145097   \n",
       "min        0.001070          0.000000      0.000000      0.010900   \n",
       "25%        0.496000          0.000000      2.000000      0.093000   \n",
       "50%        0.672000          0.000021      5.000000      0.122000   \n",
       "75%        0.818000          0.005105      8.000000      0.224000   \n",
       "max        0.999000          0.997000     11.000000      0.986000   \n",
       "\n",
       "           loudness    audio_mode   speechiness         tempo  time_signature  \\\n",
       "count  14926.000000  14926.000000  14926.000000  14926.000000    14926.000000   \n",
       "mean      -7.677232      0.631917      0.099419    121.105007        3.952968   \n",
       "std        4.018670      0.482300      0.103546     29.044644        0.316702   \n",
       "min      -38.768000      0.000000      0.000000      0.000000        0.000000   \n",
       "25%       -9.389500      0.000000      0.037200     98.125000        4.000000   \n",
       "50%       -6.750500      1.000000      0.054100    120.016000        4.000000   \n",
       "75%       -4.991000      1.000000      0.113000    139.940750        4.000000   \n",
       "max        1.585000      1.000000      0.941000    242.318000        5.000000   \n",
       "\n",
       "       audio_valence  \n",
       "count   14926.000000  \n",
       "mean        0.526967  \n",
       "std         0.247758  \n",
       "min         0.000000  \n",
       "25%         0.332000  \n",
       "50%         0.527000  \n",
       "75%         0.727750  \n",
       "max         0.984000  "
      ]
     },
     "execution_count": 5,
     "metadata": {},
     "output_type": "execute_result"
    }
   ],
   "source": [
    "df.describe()"
   ]
  },
  {
   "cell_type": "code",
   "execution_count": 6,
   "metadata": {},
   "outputs": [
    {
     "data": {
      "text/plain": [
       "False"
      ]
     },
     "execution_count": 6,
     "metadata": {},
     "output_type": "execute_result"
    }
   ],
   "source": [
    "df.isnull().values.any()"
   ]
  },
  {
   "cell_type": "code",
   "execution_count": 7,
   "metadata": {},
   "outputs": [
    {
     "data": {
      "text/plain": [
       "<AxesSubplot:xlabel='song_popularity', ylabel='Count'>"
      ]
     },
     "execution_count": 7,
     "metadata": {},
     "output_type": "execute_result"
    },
    {
     "data": {
      "image/png": "[encoded data removed]",
      "text/plain": [
       "<Figure size 432x288 with 1 Axes>"
      ]
     },
     "metadata": {
      "needs_background": "light"
     },
     "output_type": "display_data"
    }
   ],
   "source": [
    "sns.histplot(data=df, x=\"song_popularity\")"
   ]
  },
  {
   "cell_type": "code",
   "execution_count": 8,
   "metadata": {},
   "outputs": [
    {
     "data": {
      "text/html": [
       "<div>\n",
       "<style scoped>\n",
       "    .dataframe tbody tr th:only-of-type {\n",
       "        vertical-align: middle;\n",
       "    }\n",
       "\n",
       "    .dataframe tbody tr th {\n",
       "        vertical-align: top;\n",
       "    }\n",
       "\n",
       "    .dataframe thead th {\n",
       "        text-align: right;\n",
       "    }\n",
       "</style>\n",
       "<table border=\"1\" class=\"dataframe\">\n",
       "  <thead>\n",
       "    <tr style=\"text-align: right;\">\n",
       "      <th></th>\n",
       "      <th>song_name</th>\n",
       "      <th>song_popularity</th>\n",
       "      <th>song_duration_ms</th>\n",
       "      <th>acousticness</th>\n",
       "      <th>danceability</th>\n",
       "      <th>energy</th>\n",
       "      <th>instrumentalness</th>\n",
       "      <th>key</th>\n",
       "      <th>liveness</th>\n",
       "      <th>loudness</th>\n",
       "      <th>audio_mode</th>\n",
       "      <th>speechiness</th>\n",
       "      <th>tempo</th>\n",
       "      <th>time_signature</th>\n",
       "      <th>audio_valence</th>\n",
       "    </tr>\n",
       "  </thead>\n",
       "  <tbody>\n",
       "    <tr>\n",
       "      <th>4299</th>\n",
       "      <td>Happier</td>\n",
       "      <td>100</td>\n",
       "      <td>214289</td>\n",
       "      <td>0.1910</td>\n",
       "      <td>0.687</td>\n",
       "      <td>0.792</td>\n",
       "      <td>0.000000</td>\n",
       "      <td>5</td>\n",
       "      <td>0.1670</td>\n",
       "      <td>-2.749</td>\n",
       "      <td>1</td>\n",
       "      <td>0.0452</td>\n",
       "      <td>100.015</td>\n",
       "      <td>4</td>\n",
       "      <td>0.671</td>\n",
       "    </tr>\n",
       "    <tr>\n",
       "      <th>1229</th>\n",
       "      <td>I Love It (&amp; Lil Pump)</td>\n",
       "      <td>99</td>\n",
       "      <td>127946</td>\n",
       "      <td>0.0114</td>\n",
       "      <td>0.901</td>\n",
       "      <td>0.522</td>\n",
       "      <td>0.000000</td>\n",
       "      <td>2</td>\n",
       "      <td>0.2590</td>\n",
       "      <td>-8.304</td>\n",
       "      <td>1</td>\n",
       "      <td>0.3300</td>\n",
       "      <td>104.053</td>\n",
       "      <td>4</td>\n",
       "      <td>0.329</td>\n",
       "    </tr>\n",
       "    <tr>\n",
       "      <th>61</th>\n",
       "      <td>Taki Taki (with Selena Gomez, Ozuna &amp; Cardi B)</td>\n",
       "      <td>98</td>\n",
       "      <td>212500</td>\n",
       "      <td>0.1530</td>\n",
       "      <td>0.841</td>\n",
       "      <td>0.798</td>\n",
       "      <td>0.000003</td>\n",
       "      <td>1</td>\n",
       "      <td>0.0618</td>\n",
       "      <td>-4.206</td>\n",
       "      <td>0</td>\n",
       "      <td>0.2290</td>\n",
       "      <td>95.948</td>\n",
       "      <td>4</td>\n",
       "      <td>0.591</td>\n",
       "    </tr>\n",
       "    <tr>\n",
       "      <th>4302</th>\n",
       "      <td>Eastside (with Halsey &amp; Khalid)</td>\n",
       "      <td>98</td>\n",
       "      <td>173799</td>\n",
       "      <td>0.5550</td>\n",
       "      <td>0.560</td>\n",
       "      <td>0.680</td>\n",
       "      <td>0.000000</td>\n",
       "      <td>6</td>\n",
       "      <td>0.1160</td>\n",
       "      <td>-7.648</td>\n",
       "      <td>0</td>\n",
       "      <td>0.3210</td>\n",
       "      <td>89.391</td>\n",
       "      <td>4</td>\n",
       "      <td>0.319</td>\n",
       "    </tr>\n",
       "    <tr>\n",
       "      <th>7584</th>\n",
       "      <td>In My Feelings</td>\n",
       "      <td>98</td>\n",
       "      <td>217925</td>\n",
       "      <td>0.0589</td>\n",
       "      <td>0.835</td>\n",
       "      <td>0.626</td>\n",
       "      <td>0.000060</td>\n",
       "      <td>1</td>\n",
       "      <td>0.3960</td>\n",
       "      <td>-5.833</td>\n",
       "      <td>1</td>\n",
       "      <td>0.1250</td>\n",
       "      <td>91.030</td>\n",
       "      <td>4</td>\n",
       "      <td>0.350</td>\n",
       "    </tr>\n",
       "  </tbody>\n",
       "</table>\n",
       "</div>"
      ],
      "text/plain": [
       "                                           song_name  song_popularity  \\\n",
       "4299                                         Happier              100   \n",
       "1229                          I Love It (& Lil Pump)               99   \n",
       "61    Taki Taki (with Selena Gomez, Ozuna & Cardi B)               98   \n",
       "4302                 Eastside (with Halsey & Khalid)               98   \n",
       "7584                                  In My Feelings               98   \n",
       "\n",
       "      song_duration_ms  acousticness  danceability  energy  instrumentalness  \\\n",
       "4299            214289        0.1910         0.687   0.792          0.000000   \n",
       "1229            127946        0.0114         0.901   0.522          0.000000   \n",
       "61              212500        0.1530         0.841   0.798          0.000003   \n",
       "4302            173799        0.5550         0.560   0.680          0.000000   \n",
       "7584            217925        0.0589         0.835   0.626          0.000060   \n",
       "\n",
       "      key  liveness  loudness  audio_mode  speechiness    tempo  \\\n",
       "4299    5    0.1670    -2.749           1       0.0452  100.015   \n",
       "1229    2    0.2590    -8.304           1       0.3300  104.053   \n",
       "61      1    0.0618    -4.206           0       0.2290   95.948   \n",
       "4302    6    0.1160    -7.648           0       0.3210   89.391   \n",
       "7584    1    0.3960    -5.833           1       0.1250   91.030   \n",
       "\n",
       "      time_signature  audio_valence  \n",
       "4299               4          0.671  \n",
       "1229               4          0.329  \n",
       "61                 4          0.591  \n",
       "4302               4          0.319  \n",
       "7584               4          0.350  "
      ]
     },
     "execution_count": 8,
     "metadata": {},
     "output_type": "execute_result"
    }
   ],
   "source": [
    "df.sort_values(by='song_popularity',ascending=False).head(n=5)"
   ]
  },
  {
   "cell_type": "code",
   "execution_count": 9,
   "metadata": {},
   "outputs": [
    {
     "data": {
      "text/plain": [
       "<AxesSubplot:xlabel='song_duration_ms', ylabel='Count'>"
      ]
     },
     "execution_count": 9,
     "metadata": {},
     "output_type": "execute_result"
    },
    {
     "data": {
      "image/png": "[encoded data removed]",
      "text/plain": [
       "<Figure size 432x288 with 1 Axes>"
      ]
     },
     "metadata": {
      "needs_background": "light"
     },
     "output_type": "display_data"
    }
   ],
   "source": [
    "sns.histplot(data=df, x=\"song_duration_ms\")"
   ]
  },
  {
   "cell_type": "code",
   "execution_count": 10,
   "metadata": {},
   "outputs": [
    {
     "data": {
      "text/plain": [
       "<AxesSubplot:xlabel='song_duration_ms'>"
      ]
     },
     "execution_count": 10,
     "metadata": {},
     "output_type": "execute_result"
    },
    {
     "data": {
      "image/png": "[encoded data removed]",
      "text/plain": [
       "<Figure size 432x288 with 1 Axes>"
      ]
     },
     "metadata": {
      "needs_background": "light"
     },
     "output_type": "display_data"
    }
   ],
   "source": [
    "sns.boxplot(data=df, x=\"song_duration_ms\")"
   ]
  },
  {
   "cell_type": "code",
   "execution_count": 11,
   "metadata": {},
   "outputs": [
    {
     "data": {
      "text/plain": [
       "<AxesSubplot:xlabel='acousticness', ylabel='Count'>"
      ]
     },
     "execution_count": 11,
     "metadata": {},
     "output_type": "execute_result"
    },
    {
     "data": {
      "image/png": "[encoded data removed]",
      "text/plain": [
       "<Figure size 432x288 with 1 Axes>"
      ]
     },
     "metadata": {
      "needs_background": "light"
     },
     "output_type": "display_data"
    }
   ],
   "source": [
    "sns.histplot(data=df, x=\"acousticness\")"
   ]
  },
  {
   "cell_type": "code",
   "execution_count": 12,
   "metadata": {},
   "outputs": [
    {
     "data": {
      "text/plain": [
       "<AxesSubplot:xlabel='danceability', ylabel='Count'>"
      ]
     },
     "execution_count": 12,
     "metadata": {},
     "output_type": "execute_result"
    },
    {
     "data": {
      "image/png": "[encoded data removed]",
      "text/plain": [
       "<Figure size 432x288 with 1 Axes>"
      ]
     },
     "metadata": {
      "needs_background": "light"
     },
     "output_type": "display_data"
    }
   ],
   "source": [
    "sns.histplot(data=df, x=\"danceability\")"
   ]
  },
  {
   "cell_type": "code",
   "execution_count": 13,
   "metadata": {},
   "outputs": [
    {
     "data": {
      "text/plain": [
       "<AxesSubplot:xlabel='energy', ylabel='Count'>"
      ]
     },
     "execution_count": 13,
     "metadata": {},
     "output_type": "execute_result"
    },
    {
     "data": {
      "image/png": "[encoded data removed]",
      "text/plain": [
       "<Figure size 432x288 with 1 Axes>"
      ]
     },
     "metadata": {
      "needs_background": "light"
     },
     "output_type": "display_data"
    }
   ],
   "source": [
    "sns.histplot(data=df, x=\"energy\")"
   ]
  },
  {
   "cell_type": "code",
   "execution_count": 14,
   "metadata": {},
   "outputs": [
    {
     "data": {
      "text/plain": [
       "<AxesSubplot:xlabel='instrumentalness', ylabel='Count'>"
      ]
     },
     "execution_count": 14,
     "metadata": {},
     "output_type": "execute_result"
    },
    {
     "data": {
      "image/png": "[encoded data removed]",
      "text/plain": [
       "<Figure size 432x288 with 1 Axes>"
      ]
     },
     "metadata": {
      "needs_background": "light"
     },
     "output_type": "display_data"
    }
   ],
   "source": [
    "sns.histplot(data=df, x=\"instrumentalness\")"
   ]
  },
  {
   "cell_type": "code",
   "execution_count": 15,
   "metadata": {},
   "outputs": [
    {
     "data": {
      "text/plain": [
       "<AxesSubplot:xlabel='instrumentalness'>"
      ]
     },
     "execution_count": 15,
     "metadata": {},
     "output_type": "execute_result"
    },
    {
     "data": {
      "image/png": "[encoded data removed]",
      "text/plain": [
       "<Figure size 432x288 with 1 Axes>"
      ]
     },
     "metadata": {
      "needs_background": "light"
     },
     "output_type": "display_data"
    }
   ],
   "source": [
    "sns.boxplot(data=df, x=\"instrumentalness\")"
   ]
  },
  {
   "cell_type": "code",
   "execution_count": 16,
   "metadata": {},
   "outputs": [
    {
     "data": {
      "text/plain": [
       "<AxesSubplot:xlabel='key', ylabel='Count'>"
      ]
     },
     "execution_count": 16,
     "metadata": {},
     "output_type": "execute_result"
    },
    {
     "data": {
      "image/png": "[encoded data removed]",
      "text/plain": [
       "<Figure size 432x288 with 1 Axes>"
      ]
     },
     "metadata": {
      "needs_background": "light"
     },
     "output_type": "display_data"
    }
   ],
   "source": [
    "sns.histplot(data=df, x=\"key\")"
   ]
  },
  {
   "cell_type": "code",
   "execution_count": 17,
   "metadata": {},
   "outputs": [
    {
     "data": {
      "text/plain": [
       "<AxesSubplot:xlabel='liveness', ylabel='Count'>"
      ]
     },
     "execution_count": 17,
     "metadata": {},
     "output_type": "execute_result"
    },
    {
     "data": {
      "image/png": "[encoded data removed]",
      "text/plain": [
       "<Figure size 432x288 with 1 Axes>"
      ]
     },
     "metadata": {
      "needs_background": "light"
     },
     "output_type": "display_data"
    }
   ],
   "source": [
    "sns.histplot(data=df, x=\"liveness\")"
   ]
  },
  {
   "cell_type": "code",
   "execution_count": 18,
   "metadata": {},
   "outputs": [
    {
     "data": {
      "text/plain": [
       "<AxesSubplot:xlabel='loudness', ylabel='Count'>"
      ]
     },
     "execution_count": 18,
     "metadata": {},
     "output_type": "execute_result"
    },
    {
     "data": {
      "image/png": "[encoded data removed]",
      "text/plain": [
       "<Figure size 432x288 with 1 Axes>"
      ]
     },
     "metadata": {
      "needs_background": "light"
     },
     "output_type": "display_data"
    }
   ],
   "source": [
    "sns.histplot(data=df, x=\"loudness\")"
   ]
  },
  {
   "cell_type": "code",
   "execution_count": 19,
   "metadata": {},
   "outputs": [
    {
     "data": {
      "text/plain": [
       "<AxesSubplot:xlabel='audio_mode', ylabel='Count'>"
      ]
     },
     "execution_count": 19,
     "metadata": {},
     "output_type": "execute_result"
    },
    {
     "data": {
      "image/png": "[encoded data removed]",
      "text/plain": [
       "<Figure size 432x288 with 1 Axes>"
      ]
     },
     "metadata": {
      "needs_background": "light"
     },
     "output_type": "display_data"
    }
   ],
   "source": [
    "sns.histplot(data=df, x=\"audio_mode\")"
   ]
  },
  {
   "cell_type": "code",
   "execution_count": 20,
   "metadata": {},
   "outputs": [
    {
     "data": {
      "text/plain": [
       "<AxesSubplot:xlabel='speechiness', ylabel='Count'>"
      ]
     },
     "execution_count": 20,
     "metadata": {},
     "output_type": "execute_result"
    },
    {
     "data": {
      "image/png": "[encoded data removed]",
      "text/plain": [
       "<Figure size 432x288 with 1 Axes>"
      ]
     },
     "metadata": {
      "needs_background": "light"
     },
     "output_type": "display_data"
    }
   ],
   "source": [
    "sns.histplot(data=df, x=\"speechiness\")"
   ]
  },
  {
   "cell_type": "code",
   "execution_count": 21,
   "metadata": {},
   "outputs": [
    {
     "data": {
      "text/plain": [
       "<AxesSubplot:xlabel='tempo', ylabel='Count'>"
      ]
     },
     "execution_count": 21,
     "metadata": {},
     "output_type": "execute_result"
    },
    {
     "data": {
      "image/png": "[encoded data removed]",
      "text/plain": [
       "<Figure size 432x288 with 1 Axes>"
      ]
     },
     "metadata": {
      "needs_background": "light"
     },
     "output_type": "display_data"
    }
   ],
   "source": [
    "sns.histplot(data=df, x=\"tempo\")"
   ]
  },
  {
   "cell_type": "code",
   "execution_count": 22,
   "metadata": {},
   "outputs": [
    {
     "data": {
      "text/plain": [
       "<AxesSubplot:xlabel='time_signature', ylabel='Count'>"
      ]
     },
     "execution_count": 22,
     "metadata": {},
     "output_type": "execute_result"
    },
    {
     "data": {
      "image/png": "[encoded data removed]",
      "text/plain": [
       "<Figure size 432x288 with 1 Axes>"
      ]
     },
     "metadata": {
      "needs_background": "light"
     },
     "output_type": "display_data"
    }
   ],
   "source": [
    "sns.histplot(data=df, x=\"time_signature\")"
   ]
  },
  {
   "cell_type": "code",
   "execution_count": 23,
   "metadata": {},
   "outputs": [
    {
     "data": {
      "text/plain": [
       "<AxesSubplot:xlabel='audio_valence', ylabel='Count'>"
      ]
     },
     "execution_count": 23,
     "metadata": {},
     "output_type": "execute_result"
    },
    {
     "data": {
      "image/png": "[encoded data removed]",
      "text/plain": [
       "<Figure size 432x288 with 1 Axes>"
      ]
     },
     "metadata": {
      "needs_background": "light"
     },
     "output_type": "display_data"
    }
   ],
   "source": [
    "sns.histplot(data=df, x=\"audio_valence\")"
   ]
  },
  {
   "cell_type": "code",
   "execution_count": 24,
   "metadata": {},
   "outputs": [
    {
     "data": {
      "text/plain": [
       "<AxesSubplot:>"
      ]
     },
     "execution_count": 24,
     "metadata": {},
     "output_type": "execute_result"
    },
    {
     "data": {
      "image/png": "[encoded data removed]",
      "text/plain": [
       "<Figure size 720x720 with 2 Axes>"
      ]
     },
     "metadata": {
      "needs_background": "light"
     },
     "output_type": "display_data"
    }
   ],
   "source": [
    "plt.rcParams['figure.figsize'] = [10, 10]\n",
    "sns.heatmap(df.corr(), vmin=-1, cmap='coolwarm', annot=True)"
   ]
  },
  {
   "cell_type": "code",
   "execution_count": 25,
   "metadata": {},
   "outputs": [
    {
     "data": {
      "text/html": [
       "<div>\n",
       "<style scoped>\n",
       "    .dataframe tbody tr th:only-of-type {\n",
       "        vertical-align: middle;\n",
       "    }\n",
       "\n",
       "    .dataframe tbody tr th {\n",
       "        vertical-align: top;\n",
       "    }\n",
       "\n",
       "    .dataframe thead th {\n",
       "        text-align: right;\n",
       "    }\n",
       "</style>\n",
       "<table border=\"1\" class=\"dataframe\">\n",
       "  <thead>\n",
       "    <tr style=\"text-align: right;\">\n",
       "      <th></th>\n",
       "      <th>song_popularity</th>\n",
       "      <th>song_duration_ms</th>\n",
       "      <th>acousticness</th>\n",
       "      <th>danceability</th>\n",
       "      <th>energy</th>\n",
       "      <th>instrumentalness</th>\n",
       "      <th>key</th>\n",
       "      <th>liveness</th>\n",
       "      <th>loudness</th>\n",
       "      <th>audio_mode</th>\n",
       "      <th>speechiness</th>\n",
       "      <th>tempo</th>\n",
       "      <th>time_signature</th>\n",
       "      <th>audio_valence</th>\n",
       "    </tr>\n",
       "  </thead>\n",
       "  <tbody>\n",
       "    <tr>\n",
       "      <th>instrumentalness</th>\n",
       "      <td>-0.093032</td>\n",
       "      <td>-0.024850</td>\n",
       "      <td>0.179259</td>\n",
       "      <td>-0.124926</td>\n",
       "      <td>-0.221755</td>\n",
       "      <td>1.000000</td>\n",
       "      <td>-0.008496</td>\n",
       "      <td>-0.039821</td>\n",
       "      <td>-0.398912</td>\n",
       "      <td>-0.018852</td>\n",
       "      <td>-0.076705</td>\n",
       "      <td>-0.041032</td>\n",
       "      <td>-0.068656</td>\n",
       "      <td>-0.197783</td>\n",
       "    </tr>\n",
       "    <tr>\n",
       "      <th>audio_valence</th>\n",
       "      <td>-0.043963</td>\n",
       "      <td>-0.069763</td>\n",
       "      <td>-0.126915</td>\n",
       "      <td>0.350012</td>\n",
       "      <td>0.315023</td>\n",
       "      <td>-0.197783</td>\n",
       "      <td>0.023626</td>\n",
       "      <td>0.016572</td>\n",
       "      <td>0.209803</td>\n",
       "      <td>0.002254</td>\n",
       "      <td>0.012884</td>\n",
       "      <td>0.051648</td>\n",
       "      <td>0.090684</td>\n",
       "      <td>1.000000</td>\n",
       "    </tr>\n",
       "    <tr>\n",
       "      <th>liveness</th>\n",
       "      <td>-0.038553</td>\n",
       "      <td>0.020757</td>\n",
       "      <td>-0.085242</td>\n",
       "      <td>-0.094373</td>\n",
       "      <td>0.175979</td>\n",
       "      <td>-0.039821</td>\n",
       "      <td>-0.003254</td>\n",
       "      <td>1.000000</td>\n",
       "      <td>0.111716</td>\n",
       "      <td>-0.001729</td>\n",
       "      <td>0.094229</td>\n",
       "      <td>0.025681</td>\n",
       "      <td>0.014792</td>\n",
       "      <td>0.016572</td>\n",
       "    </tr>\n",
       "    <tr>\n",
       "      <th>acousticness</th>\n",
       "      <td>-0.031658</td>\n",
       "      <td>-0.113314</td>\n",
       "      <td>1.000000</td>\n",
       "      <td>-0.171859</td>\n",
       "      <td>-0.679235</td>\n",
       "      <td>0.179259</td>\n",
       "      <td>-0.000632</td>\n",
       "      <td>-0.085242</td>\n",
       "      <td>-0.569681</td>\n",
       "      <td>0.059443</td>\n",
       "      <td>-0.085435</td>\n",
       "      <td>-0.144736</td>\n",
       "      <td>-0.151180</td>\n",
       "      <td>-0.126915</td>\n",
       "    </tr>\n",
       "    <tr>\n",
       "      <th>tempo</th>\n",
       "      <td>-0.029560</td>\n",
       "      <td>0.013608</td>\n",
       "      <td>-0.144736</td>\n",
       "      <td>-0.127313</td>\n",
       "      <td>0.182517</td>\n",
       "      <td>-0.041032</td>\n",
       "      <td>-0.005033</td>\n",
       "      <td>0.025681</td>\n",
       "      <td>0.140217</td>\n",
       "      <td>0.021863</td>\n",
       "      <td>0.056411</td>\n",
       "      <td>1.000000</td>\n",
       "      <td>0.008326</td>\n",
       "      <td>0.051648</td>\n",
       "    </tr>\n",
       "    <tr>\n",
       "      <th>energy</th>\n",
       "      <td>-0.016468</td>\n",
       "      <td>0.096375</td>\n",
       "      <td>-0.679235</td>\n",
       "      <td>0.053657</td>\n",
       "      <td>1.000000</td>\n",
       "      <td>-0.221755</td>\n",
       "      <td>0.014653</td>\n",
       "      <td>0.175979</td>\n",
       "      <td>0.765706</td>\n",
       "      <td>-0.049040</td>\n",
       "      <td>0.072138</td>\n",
       "      <td>0.182517</td>\n",
       "      <td>0.143516</td>\n",
       "      <td>0.315023</td>\n",
       "    </tr>\n",
       "    <tr>\n",
       "      <th>song_duration_ms</th>\n",
       "      <td>-0.007766</td>\n",
       "      <td>1.000000</td>\n",
       "      <td>-0.113314</td>\n",
       "      <td>-0.089338</td>\n",
       "      <td>0.096375</td>\n",
       "      <td>-0.024850</td>\n",
       "      <td>-0.006749</td>\n",
       "      <td>0.020757</td>\n",
       "      <td>0.027837</td>\n",
       "      <td>-0.028056</td>\n",
       "      <td>-0.079438</td>\n",
       "      <td>0.013608</td>\n",
       "      <td>0.004080</td>\n",
       "      <td>-0.069763</td>\n",
       "    </tr>\n",
       "    <tr>\n",
       "      <th>key</th>\n",
       "      <td>-0.003878</td>\n",
       "      <td>-0.006749</td>\n",
       "      <td>-0.000632</td>\n",
       "      <td>0.007599</td>\n",
       "      <td>0.014653</td>\n",
       "      <td>-0.008496</td>\n",
       "      <td>1.000000</td>\n",
       "      <td>-0.003254</td>\n",
       "      <td>0.008002</td>\n",
       "      <td>-0.174955</td>\n",
       "      <td>0.028565</td>\n",
       "      <td>-0.005033</td>\n",
       "      <td>-0.008750</td>\n",
       "      <td>0.023626</td>\n",
       "    </tr>\n",
       "    <tr>\n",
       "      <th>speechiness</th>\n",
       "      <td>-0.001971</td>\n",
       "      <td>-0.079438</td>\n",
       "      <td>-0.085435</td>\n",
       "      <td>0.200715</td>\n",
       "      <td>0.072138</td>\n",
       "      <td>-0.076705</td>\n",
       "      <td>0.028565</td>\n",
       "      <td>0.094229</td>\n",
       "      <td>0.078418</td>\n",
       "      <td>-0.110686</td>\n",
       "      <td>1.000000</td>\n",
       "      <td>0.056411</td>\n",
       "      <td>0.050777</td>\n",
       "      <td>0.012884</td>\n",
       "    </tr>\n",
       "    <tr>\n",
       "      <th>audio_mode</th>\n",
       "      <td>0.008824</td>\n",
       "      <td>-0.028056</td>\n",
       "      <td>0.059443</td>\n",
       "      <td>-0.099039</td>\n",
       "      <td>-0.049040</td>\n",
       "      <td>-0.018852</td>\n",
       "      <td>-0.174955</td>\n",
       "      <td>-0.001729</td>\n",
       "      <td>-0.055793</td>\n",
       "      <td>1.000000</td>\n",
       "      <td>-0.110686</td>\n",
       "      <td>0.021863</td>\n",
       "      <td>-0.020789</td>\n",
       "      <td>0.002254</td>\n",
       "    </tr>\n",
       "    <tr>\n",
       "      <th>time_signature</th>\n",
       "      <td>0.023307</td>\n",
       "      <td>0.004080</td>\n",
       "      <td>-0.151180</td>\n",
       "      <td>0.136211</td>\n",
       "      <td>0.143516</td>\n",
       "      <td>-0.068656</td>\n",
       "      <td>-0.008750</td>\n",
       "      <td>0.014792</td>\n",
       "      <td>0.112596</td>\n",
       "      <td>-0.020789</td>\n",
       "      <td>0.050777</td>\n",
       "      <td>0.008326</td>\n",
       "      <td>1.000000</td>\n",
       "      <td>0.090684</td>\n",
       "    </tr>\n",
       "    <tr>\n",
       "      <th>loudness</th>\n",
       "      <td>0.052114</td>\n",
       "      <td>0.027837</td>\n",
       "      <td>-0.569681</td>\n",
       "      <td>0.173495</td>\n",
       "      <td>0.765706</td>\n",
       "      <td>-0.398912</td>\n",
       "      <td>0.008002</td>\n",
       "      <td>0.111716</td>\n",
       "      <td>1.000000</td>\n",
       "      <td>-0.055793</td>\n",
       "      <td>0.078418</td>\n",
       "      <td>0.140217</td>\n",
       "      <td>0.112596</td>\n",
       "      <td>0.209803</td>\n",
       "    </tr>\n",
       "    <tr>\n",
       "      <th>danceability</th>\n",
       "      <td>0.056415</td>\n",
       "      <td>-0.089338</td>\n",
       "      <td>-0.171859</td>\n",
       "      <td>1.000000</td>\n",
       "      <td>0.053657</td>\n",
       "      <td>-0.124926</td>\n",
       "      <td>0.007599</td>\n",
       "      <td>-0.094373</td>\n",
       "      <td>0.173495</td>\n",
       "      <td>-0.099039</td>\n",
       "      <td>0.200715</td>\n",
       "      <td>-0.127313</td>\n",
       "      <td>0.136211</td>\n",
       "      <td>0.350012</td>\n",
       "    </tr>\n",
       "    <tr>\n",
       "      <th>song_popularity</th>\n",
       "      <td>1.000000</td>\n",
       "      <td>-0.007766</td>\n",
       "      <td>-0.031658</td>\n",
       "      <td>0.056415</td>\n",
       "      <td>-0.016468</td>\n",
       "      <td>-0.093032</td>\n",
       "      <td>-0.003878</td>\n",
       "      <td>-0.038553</td>\n",
       "      <td>0.052114</td>\n",
       "      <td>0.008824</td>\n",
       "      <td>-0.001971</td>\n",
       "      <td>-0.029560</td>\n",
       "      <td>0.023307</td>\n",
       "      <td>-0.043963</td>\n",
       "    </tr>\n",
       "  </tbody>\n",
       "</table>\n",
       "</div>"
      ],
      "text/plain": [
       "                  song_popularity  song_duration_ms  acousticness  \\\n",
       "instrumentalness        -0.093032         -0.024850      0.179259   \n",
       "audio_valence           -0.043963         -0.069763     -0.126915   \n",
       "liveness                -0.038553          0.020757     -0.085242   \n",
       "acousticness            -0.031658         -0.113314      1.000000   \n",
       "tempo                   -0.029560          0.013608     -0.144736   \n",
       "energy                  -0.016468          0.096375     -0.679235   \n",
       "song_duration_ms        -0.007766          1.000000     -0.113314   \n",
       "key                     -0.003878         -0.006749     -0.000632   \n",
       "speechiness             -0.001971         -0.079438     -0.085435   \n",
       "audio_mode               0.008824         -0.028056      0.059443   \n",
       "time_signature           0.023307          0.004080     -0.151180   \n",
       "loudness                 0.052114          0.027837     -0.569681   \n",
       "danceability             0.056415         -0.089338     -0.171859   \n",
       "song_popularity          1.000000         -0.007766     -0.031658   \n",
       "\n",
       "                  danceability    energy  instrumentalness       key  \\\n",
       "instrumentalness     -0.124926 -0.221755          1.000000 -0.008496   \n",
       "audio_valence         0.350012  0.315023         -0.197783  0.023626   \n",
       "liveness             -0.094373  0.175979         -0.039821 -0.003254   \n",
       "acousticness         -0.171859 -0.679235          0.179259 -0.000632   \n",
       "tempo                -0.127313  0.182517         -0.041032 -0.005033   \n",
       "energy                0.053657  1.000000         -0.221755  0.014653   \n",
       "song_duration_ms     -0.089338  0.096375         -0.024850 -0.006749   \n",
       "key                   0.007599  0.014653         -0.008496  1.000000   \n",
       "speechiness           0.200715  0.072138         -0.076705  0.028565   \n",
       "audio_mode           -0.099039 -0.049040         -0.018852 -0.174955   \n",
       "time_signature        0.136211  0.143516         -0.068656 -0.008750   \n",
       "loudness              0.173495  0.765706         -0.398912  0.008002   \n",
       "danceability          1.000000  0.053657         -0.124926  0.007599   \n",
       "song_popularity       0.056415 -0.016468         -0.093032 -0.003878   \n",
       "\n",
       "                  liveness  loudness  audio_mode  speechiness     tempo  \\\n",
       "instrumentalness -0.039821 -0.398912   -0.018852    -0.076705 -0.041032   \n",
       "audio_valence     0.016572  0.209803    0.002254     0.012884  0.051648   \n",
       "liveness          1.000000  0.111716   -0.001729     0.094229  0.025681   \n",
       "acousticness     -0.085242 -0.569681    0.059443    -0.085435 -0.144736   \n",
       "tempo             0.025681  0.140217    0.021863     0.056411  1.000000   \n",
       "energy            0.175979  0.765706   -0.049040     0.072138  0.182517   \n",
       "song_duration_ms  0.020757  0.027837   -0.028056    -0.079438  0.013608   \n",
       "key              -0.003254  0.008002   -0.174955     0.028565 -0.005033   \n",
       "speechiness       0.094229  0.078418   -0.110686     1.000000  0.056411   \n",
       "audio_mode       -0.001729 -0.055793    1.000000    -0.110686  0.021863   \n",
       "time_signature    0.014792  0.112596   -0.020789     0.050777  0.008326   \n",
       "loudness          0.111716  1.000000   -0.055793     0.078418  0.140217   \n",
       "danceability     -0.094373  0.173495   -0.099039     0.200715 -0.127313   \n",
       "song_popularity  -0.038553  0.052114    0.008824    -0.001971 -0.029560   \n",
       "\n",
       "                  time_signature  audio_valence  \n",
       "instrumentalness       -0.068656      -0.197783  \n",
       "audio_valence           0.090684       1.000000  \n",
       "liveness                0.014792       0.016572  \n",
       "acousticness           -0.151180      -0.126915  \n",
       "tempo                   0.008326       0.051648  \n",
       "energy                  0.143516       0.315023  \n",
       "song_duration_ms        0.004080      -0.069763  \n",
       "key                    -0.008750       0.023626  \n",
       "speechiness             0.050777       0.012884  \n",
       "audio_mode             -0.020789       0.002254  \n",
       "time_signature          1.000000       0.090684  \n",
       "loudness                0.112596       0.209803  \n",
       "danceability            0.136211       0.350012  \n",
       "song_popularity         0.023307      -0.043963  "
      ]
     },
     "execution_count": 25,
     "metadata": {},
     "output_type": "execute_result"
    }
   ],
   "source": [
    "df.corr().sort_values(by=['song_popularity'])"
   ]
  },
  {
   "cell_type": "markdown",
   "metadata": {},
   "source": [
    "we can see some juicy correlation between some pairs. For example, loudness and enery significantly correlate. There is also negative correlation between acoisticness and enery."
   ]
  },
  {
   "cell_type": "markdown",
   "metadata": {},
   "source": [
    "# Feature selection"
   ]
  },
  {
   "cell_type": "code",
   "execution_count": 26,
   "metadata": {},
   "outputs": [
    {
     "data": {
      "text/plain": [
       "['song_name',\n",
       " 'song_popularity',\n",
       " 'song_duration_ms',\n",
       " 'acousticness',\n",
       " 'danceability',\n",
       " 'energy',\n",
       " 'instrumentalness',\n",
       " 'key',\n",
       " 'liveness',\n",
       " 'loudness',\n",
       " 'audio_mode',\n",
       " 'speechiness',\n",
       " 'tempo',\n",
       " 'time_signature',\n",
       " 'audio_valence']"
      ]
     },
     "execution_count": 26,
     "metadata": {},
     "output_type": "execute_result"
    }
   ],
   "source": [
    "df.columns.values.tolist()"
   ]
  },
  {
   "cell_type": "markdown",
   "metadata": {},
   "source": [
    "## checking models with all features"
   ]
  },
  {
   "cell_type": "code",
   "execution_count": 27,
   "metadata": {},
   "outputs": [],
   "source": [
    "X = df[['song_duration_ms',\n",
    " 'acousticness',\n",
    " 'danceability',\n",
    " 'energy',\n",
    " 'instrumentalness',\n",
    " 'key',\n",
    " 'liveness',\n",
    " 'loudness',\n",
    " 'audio_mode',\n",
    " 'speechiness',\n",
    " 'tempo',\n",
    " 'time_signature',\n",
    " 'audio_valence']]\n",
    "y = df['song_popularity']\n",
    "\n",
    "from sklearn.model_selection import train_test_split\n",
    "X_train, X_test, y_train, y_test = train_test_split(X, y, test_size = 0.2, random_state = 0)"
   ]
  },
  {
   "cell_type": "markdown",
   "metadata": {},
   "source": [
    "# normalize or not normalize"
   ]
  },
  {
   "cell_type": "code",
   "execution_count": 28,
   "metadata": {},
   "outputs": [],
   "source": [
    "from sklearn.preprocessing import RobustScaler\n",
    "X_train, X_test, y_train, y_test = train_test_split(RobustScaler().fit_transform(X), y, test_size = 0.2, random_state = 0)"
   ]
  },
  {
   "cell_type": "markdown",
   "metadata": {},
   "source": [
    "# RandomForestRegressor"
   ]
  },
  {
   "cell_type": "code",
   "execution_count": 29,
   "metadata": {},
   "outputs": [
    {
     "data": {
      "text/plain": [
       "0.01884381872155816"
      ]
     },
     "execution_count": 29,
     "metadata": {},
     "output_type": "execute_result"
    }
   ],
   "source": [
    "from sklearn.ensemble import RandomForestRegressor\n",
    "from sklearn.metrics import r2_score\n",
    "#from sklearn.preprocessing import StandardScaler\n",
    "\n",
    "\n",
    "regressor = RandomForestRegressor(n_estimators = 100)\n",
    "rfr_model = regressor.fit(X_train, y_train)\n",
    "rfr_predictions = rfr_model.predict(X_test)\n",
    "r2_score(y_test, rfr_predictions)"
   ]
  },
  {
   "cell_type": "markdown",
   "metadata": {},
   "source": [
    "# Logistic Regression"
   ]
  },
  {
   "cell_type": "code",
   "execution_count": 30,
   "metadata": {},
   "outputs": [
    {
     "name": "stderr",
     "output_type": "stream",
     "text": [
      "/home/iduru/anaconda3/lib/python3.7/site-packages/sklearn/linear_model/logistic.py:433: FutureWarning: Default solver will be changed to 'lbfgs' in 0.22. Specify a solver to silence this warning.\n",
      "  FutureWarning)\n",
      "/home/iduru/anaconda3/lib/python3.7/site-packages/sklearn/linear_model/logistic.py:460: FutureWarning: Default multi_class will be changed to 'auto' in 0.22. Specify the multi_class option to silence this warning.\n",
      "  \"this warning.\", FutureWarning)\n"
     ]
    },
    {
     "data": {
      "text/plain": [
       "-0.36465204175783916"
      ]
     },
     "execution_count": 30,
     "metadata": {},
     "output_type": "execute_result"
    }
   ],
   "source": [
    "from sklearn.linear_model import LogisticRegression\n",
    "log_reg = LogisticRegression()\n",
    "log_model=log_reg.fit(X_train, y_train)\n",
    "log_reg_pred = log_reg.predict(X_test)\n",
    "r2_score(y_test, log_reg_pred)\n"
   ]
  },
  {
   "cell_type": "markdown",
   "metadata": {},
   "source": [
    "# Support Vector"
   ]
  },
  {
   "cell_type": "code",
   "execution_count": 31,
   "metadata": {},
   "outputs": [
    {
     "name": "stderr",
     "output_type": "stream",
     "text": [
      "/home/iduru/anaconda3/lib/python3.7/site-packages/sklearn/svm/base.py:196: FutureWarning: The default value of gamma will change from 'auto' to 'scale' in version 0.22 to account better for unscaled features. Set gamma explicitly to 'auto' or 'scale' to avoid this warning.\n",
      "  \"avoid this warning.\", FutureWarning)\n"
     ]
    },
    {
     "data": {
      "text/plain": [
       "0.03191512374398042"
      ]
     },
     "execution_count": 31,
     "metadata": {},
     "output_type": "execute_result"
    }
   ],
   "source": [
    "from sklearn.svm import SVR\n",
    "sv_reg = SVR()\n",
    "sv_reg.fit(X_train, y_train)\n",
    "sv_reg_pred = sv_reg.predict(X_test)\n",
    "r2_score(y_test, sv_reg_pred)\n"
   ]
  },
  {
   "cell_type": "markdown",
   "metadata": {},
   "source": [
    "# KNeighbors"
   ]
  },
  {
   "cell_type": "code",
   "execution_count": 32,
   "metadata": {},
   "outputs": [
    {
     "data": {
      "text/plain": [
       "-0.01029476207591884"
      ]
     },
     "execution_count": 32,
     "metadata": {},
     "output_type": "execute_result"
    }
   ],
   "source": [
    "from sklearn.neighbors import KNeighborsRegressor\n",
    "neigh = KNeighborsRegressor(n_neighbors=15)\n",
    "neigh.fit(X_train, y_train)\n",
    "neigh_pred = neigh.predict(X_test)\n",
    "r2_score(y_test, neigh_pred)"
   ]
  },
  {
   "cell_type": "markdown",
   "metadata": {},
   "source": [
    "# DecisionTreeRegressor"
   ]
  },
  {
   "cell_type": "code",
   "execution_count": 33,
   "metadata": {},
   "outputs": [
    {
     "data": {
      "text/plain": [
       "-0.9061379294939387"
      ]
     },
     "execution_count": 33,
     "metadata": {},
     "output_type": "execute_result"
    }
   ],
   "source": [
    "from sklearn.tree import DecisionTreeRegressor\n",
    "dtr = DecisionTreeRegressor()\n",
    "dtr.fit(X_train, y_train)\n",
    "dtr_pred = dtr.predict(X_test)\n",
    "r2_score(y_test, dtr_pred)"
   ]
  },
  {
   "cell_type": "markdown",
   "metadata": {},
   "source": [
    "# GradientBoostingRegressor"
   ]
  },
  {
   "cell_type": "code",
   "execution_count": 34,
   "metadata": {},
   "outputs": [
    {
     "data": {
      "text/plain": [
       "0.050394180658970944"
      ]
     },
     "execution_count": 34,
     "metadata": {},
     "output_type": "execute_result"
    }
   ],
   "source": [
    "from sklearn.ensemble import GradientBoostingRegressor\n",
    "gbr = GradientBoostingRegressor()\n",
    "gbr.fit(X_train, y_train)\n",
    "gbr_pred = gbr.predict(X_test)\n",
    "r2_score(y_test, gbr_pred)"
   ]
  },
  {
   "cell_type": "markdown",
   "metadata": {},
   "source": [
    "# catboost"
   ]
  },
  {
   "cell_type": "code",
   "execution_count": 35,
   "metadata": {},
   "outputs": [
    {
     "name": "stdout",
     "output_type": "stream",
     "text": [
      "Learning rate set to 0.060582\n",
      "0:\tlearn: 20.2920302\ttotal: 49.4ms\tremaining: 49.4s\n",
      "1:\tlearn: 20.2525987\ttotal: 52.4ms\tremaining: 26.1s\n",
      "2:\tlearn: 20.2150257\ttotal: 55.3ms\tremaining: 18.4s\n",
      "3:\tlearn: 20.1869267\ttotal: 58.1ms\tremaining: 14.5s\n",
      "4:\tlearn: 20.1528239\ttotal: 60.8ms\tremaining: 12.1s\n",
      "5:\tlearn: 20.1248903\ttotal: 63.5ms\tremaining: 10.5s\n",
      "6:\tlearn: 20.0900104\ttotal: 66.3ms\tremaining: 9.4s\n",
      "7:\tlearn: 20.0588961\ttotal: 68.9ms\tremaining: 8.55s\n",
      "8:\tlearn: 20.0308519\ttotal: 71.6ms\tremaining: 7.88s\n",
      "9:\tlearn: 20.0051699\ttotal: 74.1ms\tremaining: 7.33s\n",
      "10:\tlearn: 19.9800833\ttotal: 76.6ms\tremaining: 6.89s\n",
      "11:\tlearn: 19.9612073\ttotal: 79.2ms\tremaining: 6.52s\n",
      "12:\tlearn: 19.9322299\ttotal: 81.7ms\tremaining: 6.21s\n",
      "13:\tlearn: 19.9160797\ttotal: 84.3ms\tremaining: 5.93s\n",
      "14:\tlearn: 19.8994070\ttotal: 86.8ms\tremaining: 5.7s\n",
      "15:\tlearn: 19.8811683\ttotal: 89.3ms\tremaining: 5.49s\n",
      "16:\tlearn: 19.8645818\ttotal: 91.7ms\tremaining: 5.3s\n",
      "17:\tlearn: 19.8494918\ttotal: 94.1ms\tremaining: 5.13s\n",
      "18:\tlearn: 19.8328814\ttotal: 96.5ms\tremaining: 4.98s\n",
      "19:\tlearn: 19.8178199\ttotal: 99ms\tremaining: 4.85s\n",
      "20:\tlearn: 19.8048808\ttotal: 101ms\tremaining: 4.73s\n",
      "21:\tlearn: 19.7925238\ttotal: 104ms\tremaining: 4.61s\n",
      "22:\tlearn: 19.7772552\ttotal: 106ms\tremaining: 4.51s\n",
      "23:\tlearn: 19.7664987\ttotal: 108ms\tremaining: 4.41s\n",
      "24:\tlearn: 19.7566761\ttotal: 111ms\tremaining: 4.32s\n",
      "25:\tlearn: 19.7475552\ttotal: 113ms\tremaining: 4.23s\n",
      "26:\tlearn: 19.7344141\ttotal: 115ms\tremaining: 4.16s\n",
      "27:\tlearn: 19.7228362\ttotal: 118ms\tremaining: 4.09s\n",
      "28:\tlearn: 19.7096516\ttotal: 120ms\tremaining: 4.02s\n",
      "29:\tlearn: 19.7006694\ttotal: 122ms\tremaining: 3.96s\n",
      "30:\tlearn: 19.6924682\ttotal: 125ms\tremaining: 3.9s\n",
      "31:\tlearn: 19.6803768\ttotal: 127ms\tremaining: 3.84s\n",
      "32:\tlearn: 19.6700186\ttotal: 129ms\tremaining: 3.79s\n",
      "33:\tlearn: 19.6621999\ttotal: 131ms\tremaining: 3.73s\n",
      "34:\tlearn: 19.6519634\ttotal: 134ms\tremaining: 3.68s\n",
      "35:\tlearn: 19.6446457\ttotal: 136ms\tremaining: 3.64s\n",
      "36:\tlearn: 19.6368767\ttotal: 138ms\tremaining: 3.59s\n",
      "37:\tlearn: 19.6269106\ttotal: 140ms\tremaining: 3.54s\n",
      "38:\tlearn: 19.6154381\ttotal: 142ms\tremaining: 3.5s\n",
      "39:\tlearn: 19.6038097\ttotal: 144ms\tremaining: 3.47s\n",
      "40:\tlearn: 19.5933135\ttotal: 147ms\tremaining: 3.43s\n",
      "41:\tlearn: 19.5854563\ttotal: 149ms\tremaining: 3.39s\n",
      "42:\tlearn: 19.5777072\ttotal: 151ms\tremaining: 3.35s\n",
      "43:\tlearn: 19.5704428\ttotal: 153ms\tremaining: 3.32s\n",
      "44:\tlearn: 19.5629672\ttotal: 155ms\tremaining: 3.29s\n",
      "45:\tlearn: 19.5533707\ttotal: 157ms\tremaining: 3.25s\n",
      "46:\tlearn: 19.5469520\ttotal: 159ms\tremaining: 3.22s\n",
      "47:\tlearn: 19.5397390\ttotal: 161ms\tremaining: 3.19s\n",
      "48:\tlearn: 19.5344341\ttotal: 163ms\tremaining: 3.16s\n",
      "49:\tlearn: 19.5286763\ttotal: 165ms\tremaining: 3.13s\n",
      "50:\tlearn: 19.5210887\ttotal: 167ms\tremaining: 3.1s\n",
      "51:\tlearn: 19.5126431\ttotal: 169ms\tremaining: 3.08s\n",
      "52:\tlearn: 19.5080264\ttotal: 171ms\tremaining: 3.05s\n",
      "53:\tlearn: 19.5008163\ttotal: 173ms\tremaining: 3.03s\n",
      "54:\tlearn: 19.4937118\ttotal: 175ms\tremaining: 3s\n",
      "55:\tlearn: 19.4863742\ttotal: 177ms\tremaining: 2.98s\n",
      "56:\tlearn: 19.4815522\ttotal: 179ms\tremaining: 2.96s\n",
      "57:\tlearn: 19.4754126\ttotal: 181ms\tremaining: 2.93s\n",
      "58:\tlearn: 19.4686510\ttotal: 183ms\tremaining: 2.91s\n",
      "59:\tlearn: 19.4632328\ttotal: 184ms\tremaining: 2.89s\n",
      "60:\tlearn: 19.4564632\ttotal: 186ms\tremaining: 2.87s\n",
      "61:\tlearn: 19.4507044\ttotal: 188ms\tremaining: 2.85s\n",
      "62:\tlearn: 19.4439525\ttotal: 190ms\tremaining: 2.83s\n",
      "63:\tlearn: 19.4366868\ttotal: 193ms\tremaining: 2.82s\n",
      "64:\tlearn: 19.4304426\ttotal: 195ms\tremaining: 2.81s\n",
      "65:\tlearn: 19.4234109\ttotal: 198ms\tremaining: 2.8s\n",
      "66:\tlearn: 19.4182500\ttotal: 200ms\tremaining: 2.78s\n",
      "67:\tlearn: 19.4153301\ttotal: 202ms\tremaining: 2.76s\n",
      "68:\tlearn: 19.4063534\ttotal: 203ms\tremaining: 2.75s\n",
      "69:\tlearn: 19.4000724\ttotal: 205ms\tremaining: 2.73s\n",
      "70:\tlearn: 19.3925344\ttotal: 207ms\tremaining: 2.71s\n",
      "71:\tlearn: 19.3852584\ttotal: 209ms\tremaining: 2.69s\n",
      "72:\tlearn: 19.3790757\ttotal: 211ms\tremaining: 2.68s\n",
      "73:\tlearn: 19.3693859\ttotal: 213ms\tremaining: 2.67s\n",
      "74:\tlearn: 19.3642232\ttotal: 215ms\tremaining: 2.65s\n",
      "75:\tlearn: 19.3588421\ttotal: 217ms\tremaining: 2.64s\n",
      "76:\tlearn: 19.3523128\ttotal: 219ms\tremaining: 2.62s\n",
      "77:\tlearn: 19.3467281\ttotal: 221ms\tremaining: 2.61s\n",
      "78:\tlearn: 19.3411558\ttotal: 222ms\tremaining: 2.59s\n",
      "79:\tlearn: 19.3353486\ttotal: 224ms\tremaining: 2.58s\n",
      "80:\tlearn: 19.3307490\ttotal: 226ms\tremaining: 2.57s\n",
      "81:\tlearn: 19.3265250\ttotal: 228ms\tremaining: 2.55s\n",
      "82:\tlearn: 19.3196698\ttotal: 230ms\tremaining: 2.54s\n",
      "83:\tlearn: 19.3110158\ttotal: 232ms\tremaining: 2.53s\n",
      "84:\tlearn: 19.3071350\ttotal: 234ms\tremaining: 2.52s\n",
      "85:\tlearn: 19.3034625\ttotal: 236ms\tremaining: 2.5s\n",
      "86:\tlearn: 19.2980622\ttotal: 237ms\tremaining: 2.49s\n",
      "87:\tlearn: 19.2904844\ttotal: 239ms\tremaining: 2.48s\n",
      "88:\tlearn: 19.2839079\ttotal: 241ms\tremaining: 2.47s\n",
      "89:\tlearn: 19.2766649\ttotal: 243ms\tremaining: 2.46s\n",
      "90:\tlearn: 19.2725215\ttotal: 245ms\tremaining: 2.45s\n",
      "91:\tlearn: 19.2654509\ttotal: 247ms\tremaining: 2.44s\n",
      "92:\tlearn: 19.2612899\ttotal: 249ms\tremaining: 2.42s\n",
      "93:\tlearn: 19.2582359\ttotal: 251ms\tremaining: 2.41s\n",
      "94:\tlearn: 19.2532025\ttotal: 252ms\tremaining: 2.4s\n",
      "95:\tlearn: 19.2473437\ttotal: 254ms\tremaining: 2.39s\n",
      "96:\tlearn: 19.2405767\ttotal: 256ms\tremaining: 2.38s\n",
      "97:\tlearn: 19.2337209\ttotal: 258ms\tremaining: 2.38s\n",
      "98:\tlearn: 19.2241240\ttotal: 260ms\tremaining: 2.37s\n",
      "99:\tlearn: 19.2173641\ttotal: 262ms\tremaining: 2.35s\n",
      "100:\tlearn: 19.2139325\ttotal: 264ms\tremaining: 2.35s\n",
      "101:\tlearn: 19.2090435\ttotal: 266ms\tremaining: 2.34s\n",
      "102:\tlearn: 19.2027811\ttotal: 267ms\tremaining: 2.33s\n",
      "103:\tlearn: 19.1976750\ttotal: 269ms\tremaining: 2.32s\n",
      "104:\tlearn: 19.1932673\ttotal: 271ms\tremaining: 2.31s\n",
      "105:\tlearn: 19.1882875\ttotal: 273ms\tremaining: 2.3s\n",
      "106:\tlearn: 19.1808446\ttotal: 275ms\tremaining: 2.29s\n",
      "107:\tlearn: 19.1774165\ttotal: 277ms\tremaining: 2.29s\n",
      "108:\tlearn: 19.1713907\ttotal: 279ms\tremaining: 2.28s\n",
      "109:\tlearn: 19.1659664\ttotal: 281ms\tremaining: 2.27s\n",
      "110:\tlearn: 19.1610650\ttotal: 283ms\tremaining: 2.26s\n",
      "111:\tlearn: 19.1571354\ttotal: 284ms\tremaining: 2.25s\n",
      "112:\tlearn: 19.1472789\ttotal: 286ms\tremaining: 2.25s\n",
      "113:\tlearn: 19.1434396\ttotal: 288ms\tremaining: 2.24s\n",
      "114:\tlearn: 19.1395313\ttotal: 290ms\tremaining: 2.23s\n",
      "115:\tlearn: 19.1364704\ttotal: 292ms\tremaining: 2.23s\n",
      "116:\tlearn: 19.1325337\ttotal: 294ms\tremaining: 2.22s\n",
      "117:\tlearn: 19.1247152\ttotal: 296ms\tremaining: 2.21s\n",
      "118:\tlearn: 19.1193985\ttotal: 298ms\tremaining: 2.21s\n",
      "119:\tlearn: 19.1155424\ttotal: 300ms\tremaining: 2.2s\n",
      "120:\tlearn: 19.1097394\ttotal: 302ms\tremaining: 2.19s\n",
      "121:\tlearn: 19.1042156\ttotal: 304ms\tremaining: 2.19s\n",
      "122:\tlearn: 19.0970140\ttotal: 306ms\tremaining: 2.18s\n",
      "123:\tlearn: 19.0890570\ttotal: 308ms\tremaining: 2.17s\n",
      "124:\tlearn: 19.0825945\ttotal: 310ms\tremaining: 2.17s\n",
      "125:\tlearn: 19.0757189\ttotal: 312ms\tremaining: 2.16s\n",
      "126:\tlearn: 19.0677086\ttotal: 313ms\tremaining: 2.15s\n",
      "127:\tlearn: 19.0613318\ttotal: 315ms\tremaining: 2.15s\n",
      "128:\tlearn: 19.0578592\ttotal: 317ms\tremaining: 2.14s\n",
      "129:\tlearn: 19.0520276\ttotal: 320ms\tremaining: 2.14s\n",
      "130:\tlearn: 19.0474804\ttotal: 321ms\tremaining: 2.13s\n",
      "131:\tlearn: 19.0439573\ttotal: 323ms\tremaining: 2.13s\n",
      "132:\tlearn: 19.0359319\ttotal: 325ms\tremaining: 2.12s\n",
      "133:\tlearn: 19.0308049\ttotal: 327ms\tremaining: 2.11s\n",
      "134:\tlearn: 19.0243940\ttotal: 329ms\tremaining: 2.11s\n",
      "135:\tlearn: 19.0152508\ttotal: 331ms\tremaining: 2.1s\n",
      "136:\tlearn: 19.0105365\ttotal: 333ms\tremaining: 2.1s\n",
      "137:\tlearn: 19.0052223\ttotal: 335ms\tremaining: 2.09s\n",
      "138:\tlearn: 18.9983364\ttotal: 336ms\tremaining: 2.08s\n",
      "139:\tlearn: 18.9941184\ttotal: 338ms\tremaining: 2.08s\n",
      "140:\tlearn: 18.9901875\ttotal: 340ms\tremaining: 2.07s\n",
      "141:\tlearn: 18.9848434\ttotal: 342ms\tremaining: 2.07s\n",
      "142:\tlearn: 18.9791056\ttotal: 344ms\tremaining: 2.06s\n",
      "143:\tlearn: 18.9723606\ttotal: 346ms\tremaining: 2.06s\n",
      "144:\tlearn: 18.9689121\ttotal: 348ms\tremaining: 2.05s\n",
      "145:\tlearn: 18.9645485\ttotal: 350ms\tremaining: 2.05s\n",
      "146:\tlearn: 18.9607155\ttotal: 352ms\tremaining: 2.04s\n",
      "147:\tlearn: 18.9554136\ttotal: 354ms\tremaining: 2.04s\n",
      "148:\tlearn: 18.9487020\ttotal: 356ms\tremaining: 2.03s\n",
      "149:\tlearn: 18.9445593\ttotal: 358ms\tremaining: 2.03s\n",
      "150:\tlearn: 18.9407187\ttotal: 359ms\tremaining: 2.02s\n",
      "151:\tlearn: 18.9362098\ttotal: 361ms\tremaining: 2.02s\n",
      "152:\tlearn: 18.9297218\ttotal: 363ms\tremaining: 2.01s\n",
      "153:\tlearn: 18.9259529\ttotal: 365ms\tremaining: 2s\n",
      "154:\tlearn: 18.9189494\ttotal: 367ms\tremaining: 2s\n",
      "155:\tlearn: 18.9100832\ttotal: 369ms\tremaining: 2s\n",
      "156:\tlearn: 18.9062024\ttotal: 371ms\tremaining: 1.99s\n",
      "157:\tlearn: 18.9020389\ttotal: 372ms\tremaining: 1.98s\n",
      "158:\tlearn: 18.8952448\ttotal: 374ms\tremaining: 1.98s\n",
      "159:\tlearn: 18.8908451\ttotal: 376ms\tremaining: 1.97s\n",
      "160:\tlearn: 18.8856601\ttotal: 378ms\tremaining: 1.97s\n",
      "161:\tlearn: 18.8802440\ttotal: 380ms\tremaining: 1.96s\n",
      "162:\tlearn: 18.8745469\ttotal: 382ms\tremaining: 1.96s\n",
      "163:\tlearn: 18.8654634\ttotal: 384ms\tremaining: 1.96s\n"
     ]
    },
    {
     "name": "stdout",
     "output_type": "stream",
     "text": [
      "164:\tlearn: 18.8610919\ttotal: 386ms\tremaining: 1.95s\n",
      "165:\tlearn: 18.8560592\ttotal: 389ms\tremaining: 1.95s\n",
      "166:\tlearn: 18.8509950\ttotal: 391ms\tremaining: 1.95s\n",
      "167:\tlearn: 18.8470286\ttotal: 393ms\tremaining: 1.95s\n",
      "168:\tlearn: 18.8430787\ttotal: 395ms\tremaining: 1.94s\n",
      "169:\tlearn: 18.8373462\ttotal: 397ms\tremaining: 1.94s\n",
      "170:\tlearn: 18.8324583\ttotal: 399ms\tremaining: 1.93s\n",
      "171:\tlearn: 18.8280496\ttotal: 400ms\tremaining: 1.93s\n",
      "172:\tlearn: 18.8213305\ttotal: 402ms\tremaining: 1.92s\n",
      "173:\tlearn: 18.8149524\ttotal: 404ms\tremaining: 1.92s\n",
      "174:\tlearn: 18.8083312\ttotal: 406ms\tremaining: 1.91s\n",
      "175:\tlearn: 18.8037817\ttotal: 408ms\tremaining: 1.91s\n",
      "176:\tlearn: 18.7982770\ttotal: 410ms\tremaining: 1.91s\n",
      "177:\tlearn: 18.7921107\ttotal: 412ms\tremaining: 1.9s\n",
      "178:\tlearn: 18.7846683\ttotal: 413ms\tremaining: 1.9s\n",
      "179:\tlearn: 18.7816000\ttotal: 415ms\tremaining: 1.89s\n",
      "180:\tlearn: 18.7761146\ttotal: 417ms\tremaining: 1.89s\n",
      "181:\tlearn: 18.7706107\ttotal: 419ms\tremaining: 1.88s\n",
      "182:\tlearn: 18.7644820\ttotal: 421ms\tremaining: 1.88s\n",
      "183:\tlearn: 18.7604660\ttotal: 423ms\tremaining: 1.87s\n",
      "184:\tlearn: 18.7563446\ttotal: 424ms\tremaining: 1.87s\n",
      "185:\tlearn: 18.7499512\ttotal: 426ms\tremaining: 1.86s\n",
      "186:\tlearn: 18.7461863\ttotal: 428ms\tremaining: 1.86s\n",
      "187:\tlearn: 18.7397523\ttotal: 430ms\tremaining: 1.86s\n",
      "188:\tlearn: 18.7360685\ttotal: 432ms\tremaining: 1.85s\n",
      "189:\tlearn: 18.7312852\ttotal: 434ms\tremaining: 1.85s\n",
      "190:\tlearn: 18.7263274\ttotal: 435ms\tremaining: 1.84s\n",
      "191:\tlearn: 18.7219401\ttotal: 437ms\tremaining: 1.84s\n",
      "192:\tlearn: 18.7171743\ttotal: 439ms\tremaining: 1.83s\n",
      "193:\tlearn: 18.7105271\ttotal: 441ms\tremaining: 1.83s\n",
      "194:\tlearn: 18.7058180\ttotal: 443ms\tremaining: 1.83s\n",
      "195:\tlearn: 18.7012411\ttotal: 444ms\tremaining: 1.82s\n",
      "196:\tlearn: 18.6962355\ttotal: 446ms\tremaining: 1.82s\n",
      "197:\tlearn: 18.6906263\ttotal: 448ms\tremaining: 1.81s\n",
      "198:\tlearn: 18.6846629\ttotal: 450ms\tremaining: 1.81s\n",
      "199:\tlearn: 18.6816517\ttotal: 452ms\tremaining: 1.81s\n",
      "200:\tlearn: 18.6739763\ttotal: 454ms\tremaining: 1.8s\n",
      "201:\tlearn: 18.6695887\ttotal: 456ms\tremaining: 1.8s\n",
      "202:\tlearn: 18.6629461\ttotal: 458ms\tremaining: 1.8s\n",
      "203:\tlearn: 18.6580482\ttotal: 460ms\tremaining: 1.79s\n",
      "204:\tlearn: 18.6535750\ttotal: 461ms\tremaining: 1.79s\n",
      "205:\tlearn: 18.6500747\ttotal: 464ms\tremaining: 1.79s\n",
      "206:\tlearn: 18.6451781\ttotal: 465ms\tremaining: 1.78s\n",
      "207:\tlearn: 18.6375248\ttotal: 467ms\tremaining: 1.78s\n",
      "208:\tlearn: 18.6330938\ttotal: 469ms\tremaining: 1.77s\n",
      "209:\tlearn: 18.6286089\ttotal: 471ms\tremaining: 1.77s\n",
      "210:\tlearn: 18.6239998\ttotal: 473ms\tremaining: 1.77s\n",
      "211:\tlearn: 18.6182451\ttotal: 475ms\tremaining: 1.76s\n",
      "212:\tlearn: 18.6133975\ttotal: 477ms\tremaining: 1.76s\n",
      "213:\tlearn: 18.6076090\ttotal: 479ms\tremaining: 1.76s\n",
      "214:\tlearn: 18.6018916\ttotal: 480ms\tremaining: 1.75s\n",
      "215:\tlearn: 18.5972128\ttotal: 482ms\tremaining: 1.75s\n",
      "216:\tlearn: 18.5908630\ttotal: 484ms\tremaining: 1.75s\n",
      "217:\tlearn: 18.5820250\ttotal: 486ms\tremaining: 1.74s\n",
      "218:\tlearn: 18.5762721\ttotal: 488ms\tremaining: 1.74s\n",
      "219:\tlearn: 18.5712003\ttotal: 490ms\tremaining: 1.74s\n",
      "220:\tlearn: 18.5628687\ttotal: 492ms\tremaining: 1.73s\n",
      "221:\tlearn: 18.5590895\ttotal: 494ms\tremaining: 1.73s\n",
      "222:\tlearn: 18.5541504\ttotal: 496ms\tremaining: 1.73s\n",
      "223:\tlearn: 18.5506029\ttotal: 498ms\tremaining: 1.72s\n",
      "224:\tlearn: 18.5462532\ttotal: 499ms\tremaining: 1.72s\n",
      "225:\tlearn: 18.5427829\ttotal: 501ms\tremaining: 1.72s\n",
      "226:\tlearn: 18.5381374\ttotal: 503ms\tremaining: 1.71s\n",
      "227:\tlearn: 18.5301396\ttotal: 505ms\tremaining: 1.71s\n",
      "228:\tlearn: 18.5243139\ttotal: 507ms\tremaining: 1.71s\n",
      "229:\tlearn: 18.5184112\ttotal: 509ms\tremaining: 1.7s\n",
      "230:\tlearn: 18.5127931\ttotal: 511ms\tremaining: 1.7s\n",
      "231:\tlearn: 18.5051166\ttotal: 513ms\tremaining: 1.7s\n",
      "232:\tlearn: 18.4998679\ttotal: 515ms\tremaining: 1.69s\n",
      "233:\tlearn: 18.4943218\ttotal: 517ms\tremaining: 1.69s\n",
      "234:\tlearn: 18.4900279\ttotal: 518ms\tremaining: 1.69s\n",
      "235:\tlearn: 18.4857345\ttotal: 520ms\tremaining: 1.68s\n",
      "236:\tlearn: 18.4805163\ttotal: 522ms\tremaining: 1.68s\n",
      "237:\tlearn: 18.4758687\ttotal: 524ms\tremaining: 1.68s\n",
      "238:\tlearn: 18.4713570\ttotal: 526ms\tremaining: 1.68s\n",
      "239:\tlearn: 18.4654706\ttotal: 528ms\tremaining: 1.67s\n",
      "240:\tlearn: 18.4610121\ttotal: 530ms\tremaining: 1.67s\n",
      "241:\tlearn: 18.4557079\ttotal: 532ms\tremaining: 1.67s\n",
      "242:\tlearn: 18.4483646\ttotal: 534ms\tremaining: 1.66s\n",
      "243:\tlearn: 18.4424423\ttotal: 536ms\tremaining: 1.66s\n",
      "244:\tlearn: 18.4374994\ttotal: 538ms\tremaining: 1.66s\n",
      "245:\tlearn: 18.4320869\ttotal: 539ms\tremaining: 1.65s\n",
      "246:\tlearn: 18.4263904\ttotal: 541ms\tremaining: 1.65s\n",
      "247:\tlearn: 18.4212427\ttotal: 543ms\tremaining: 1.65s\n",
      "248:\tlearn: 18.4159138\ttotal: 545ms\tremaining: 1.64s\n",
      "249:\tlearn: 18.4094087\ttotal: 547ms\tremaining: 1.64s\n",
      "250:\tlearn: 18.4036944\ttotal: 549ms\tremaining: 1.64s\n",
      "251:\tlearn: 18.3981808\ttotal: 551ms\tremaining: 1.63s\n",
      "252:\tlearn: 18.3899825\ttotal: 553ms\tremaining: 1.63s\n",
      "253:\tlearn: 18.3865074\ttotal: 554ms\tremaining: 1.63s\n",
      "254:\tlearn: 18.3817702\ttotal: 557ms\tremaining: 1.63s\n",
      "255:\tlearn: 18.3754922\ttotal: 559ms\tremaining: 1.62s\n",
      "256:\tlearn: 18.3702066\ttotal: 560ms\tremaining: 1.62s\n",
      "257:\tlearn: 18.3649265\ttotal: 562ms\tremaining: 1.62s\n",
      "258:\tlearn: 18.3594480\ttotal: 564ms\tremaining: 1.61s\n",
      "259:\tlearn: 18.3522082\ttotal: 566ms\tremaining: 1.61s\n",
      "260:\tlearn: 18.3474706\ttotal: 568ms\tremaining: 1.61s\n",
      "261:\tlearn: 18.3411748\ttotal: 570ms\tremaining: 1.6s\n",
      "262:\tlearn: 18.3352157\ttotal: 572ms\tremaining: 1.6s\n",
      "263:\tlearn: 18.3304483\ttotal: 574ms\tremaining: 1.6s\n",
      "264:\tlearn: 18.3267645\ttotal: 576ms\tremaining: 1.6s\n",
      "265:\tlearn: 18.3200970\ttotal: 578ms\tremaining: 1.59s\n",
      "266:\tlearn: 18.3137277\ttotal: 580ms\tremaining: 1.59s\n",
      "267:\tlearn: 18.3065367\ttotal: 583ms\tremaining: 1.59s\n",
      "268:\tlearn: 18.3004025\ttotal: 585ms\tremaining: 1.59s\n",
      "269:\tlearn: 18.2941196\ttotal: 587ms\tremaining: 1.59s\n",
      "270:\tlearn: 18.2896158\ttotal: 589ms\tremaining: 1.58s\n",
      "271:\tlearn: 18.2851866\ttotal: 591ms\tremaining: 1.58s\n",
      "272:\tlearn: 18.2786377\ttotal: 593ms\tremaining: 1.58s\n",
      "273:\tlearn: 18.2728618\ttotal: 595ms\tremaining: 1.57s\n",
      "274:\tlearn: 18.2689111\ttotal: 596ms\tremaining: 1.57s\n",
      "275:\tlearn: 18.2618712\ttotal: 598ms\tremaining: 1.57s\n",
      "276:\tlearn: 18.2566900\ttotal: 600ms\tremaining: 1.57s\n",
      "277:\tlearn: 18.2512010\ttotal: 602ms\tremaining: 1.56s\n",
      "278:\tlearn: 18.2469730\ttotal: 604ms\tremaining: 1.56s\n",
      "279:\tlearn: 18.2395731\ttotal: 606ms\tremaining: 1.56s\n",
      "280:\tlearn: 18.2350710\ttotal: 608ms\tremaining: 1.55s\n",
      "281:\tlearn: 18.2317945\ttotal: 610ms\tremaining: 1.55s\n",
      "282:\tlearn: 18.2267892\ttotal: 612ms\tremaining: 1.55s\n",
      "283:\tlearn: 18.2224342\ttotal: 613ms\tremaining: 1.55s\n",
      "284:\tlearn: 18.2179795\ttotal: 615ms\tremaining: 1.54s\n",
      "285:\tlearn: 18.2117862\ttotal: 617ms\tremaining: 1.54s\n",
      "286:\tlearn: 18.2062742\ttotal: 619ms\tremaining: 1.54s\n",
      "287:\tlearn: 18.1993420\ttotal: 621ms\tremaining: 1.53s\n",
      "288:\tlearn: 18.1952776\ttotal: 623ms\tremaining: 1.53s\n",
      "289:\tlearn: 18.1914137\ttotal: 625ms\tremaining: 1.53s\n",
      "290:\tlearn: 18.1857102\ttotal: 627ms\tremaining: 1.53s\n",
      "291:\tlearn: 18.1786914\ttotal: 629ms\tremaining: 1.52s\n",
      "292:\tlearn: 18.1731140\ttotal: 631ms\tremaining: 1.52s\n",
      "293:\tlearn: 18.1649479\ttotal: 633ms\tremaining: 1.52s\n",
      "294:\tlearn: 18.1603155\ttotal: 635ms\tremaining: 1.52s\n",
      "295:\tlearn: 18.1558989\ttotal: 637ms\tremaining: 1.51s\n",
      "296:\tlearn: 18.1521563\ttotal: 639ms\tremaining: 1.51s\n",
      "297:\tlearn: 18.1493579\ttotal: 641ms\tremaining: 1.51s\n",
      "298:\tlearn: 18.1454157\ttotal: 643ms\tremaining: 1.51s\n",
      "299:\tlearn: 18.1398349\ttotal: 645ms\tremaining: 1.5s\n",
      "300:\tlearn: 18.1367359\ttotal: 647ms\tremaining: 1.5s\n",
      "301:\tlearn: 18.1336350\ttotal: 648ms\tremaining: 1.5s\n",
      "302:\tlearn: 18.1296976\ttotal: 650ms\tremaining: 1.5s\n",
      "303:\tlearn: 18.1238576\ttotal: 652ms\tremaining: 1.49s\n",
      "304:\tlearn: 18.1194638\ttotal: 654ms\tremaining: 1.49s\n",
      "305:\tlearn: 18.1145557\ttotal: 656ms\tremaining: 1.49s\n",
      "306:\tlearn: 18.1083798\ttotal: 658ms\tremaining: 1.49s\n",
      "307:\tlearn: 18.1050010\ttotal: 660ms\tremaining: 1.48s\n",
      "308:\tlearn: 18.0990362\ttotal: 662ms\tremaining: 1.48s\n",
      "309:\tlearn: 18.0906901\ttotal: 664ms\tremaining: 1.48s\n",
      "310:\tlearn: 18.0837513\ttotal: 665ms\tremaining: 1.47s\n",
      "311:\tlearn: 18.0796463\ttotal: 667ms\tremaining: 1.47s\n",
      "312:\tlearn: 18.0751431\ttotal: 669ms\tremaining: 1.47s\n",
      "313:\tlearn: 18.0697381\ttotal: 671ms\tremaining: 1.47s\n",
      "314:\tlearn: 18.0657355\ttotal: 673ms\tremaining: 1.46s\n",
      "315:\tlearn: 18.0601265\ttotal: 675ms\tremaining: 1.46s\n",
      "316:\tlearn: 18.0546147\ttotal: 677ms\tremaining: 1.46s\n",
      "317:\tlearn: 18.0502852\ttotal: 679ms\tremaining: 1.46s\n",
      "318:\tlearn: 18.0455922\ttotal: 681ms\tremaining: 1.45s\n",
      "319:\tlearn: 18.0423842\ttotal: 683ms\tremaining: 1.45s\n",
      "320:\tlearn: 18.0378680\ttotal: 685ms\tremaining: 1.45s\n",
      "321:\tlearn: 18.0324937\ttotal: 687ms\tremaining: 1.45s\n",
      "322:\tlearn: 18.0260591\ttotal: 689ms\tremaining: 1.44s\n",
      "323:\tlearn: 18.0218360\ttotal: 691ms\tremaining: 1.44s\n",
      "324:\tlearn: 18.0143831\ttotal: 692ms\tremaining: 1.44s\n",
      "325:\tlearn: 18.0106933\ttotal: 694ms\tremaining: 1.44s\n",
      "326:\tlearn: 18.0058491\ttotal: 696ms\tremaining: 1.43s\n",
      "327:\tlearn: 18.0020646\ttotal: 698ms\tremaining: 1.43s\n",
      "328:\tlearn: 17.9979496\ttotal: 700ms\tremaining: 1.43s\n",
      "329:\tlearn: 17.9916908\ttotal: 702ms\tremaining: 1.43s\n",
      "330:\tlearn: 17.9857181\ttotal: 704ms\tremaining: 1.42s\n",
      "331:\tlearn: 17.9825044\ttotal: 706ms\tremaining: 1.42s\n",
      "332:\tlearn: 17.9797587\ttotal: 708ms\tremaining: 1.42s\n",
      "333:\tlearn: 17.9736731\ttotal: 710ms\tremaining: 1.42s\n",
      "334:\tlearn: 17.9699469\ttotal: 712ms\tremaining: 1.41s\n",
      "335:\tlearn: 17.9666035\ttotal: 713ms\tremaining: 1.41s\n",
      "336:\tlearn: 17.9590342\ttotal: 715ms\tremaining: 1.41s\n",
      "337:\tlearn: 17.9557145\ttotal: 717ms\tremaining: 1.4s\n",
      "338:\tlearn: 17.9525883\ttotal: 719ms\tremaining: 1.4s\n",
      "339:\tlearn: 17.9448978\ttotal: 721ms\tremaining: 1.4s\n",
      "340:\tlearn: 17.9430762\ttotal: 723ms\tremaining: 1.4s\n",
      "341:\tlearn: 17.9389190\ttotal: 725ms\tremaining: 1.39s\n",
      "342:\tlearn: 17.9348278\ttotal: 726ms\tremaining: 1.39s\n",
      "343:\tlearn: 17.9293599\ttotal: 728ms\tremaining: 1.39s\n",
      "344:\tlearn: 17.9256518\ttotal: 730ms\tremaining: 1.39s\n",
      "345:\tlearn: 17.9216862\ttotal: 732ms\tremaining: 1.38s\n",
      "346:\tlearn: 17.9144782\ttotal: 734ms\tremaining: 1.38s\n",
      "347:\tlearn: 17.9107191\ttotal: 736ms\tremaining: 1.38s\n",
      "348:\tlearn: 17.9072580\ttotal: 738ms\tremaining: 1.38s\n",
      "349:\tlearn: 17.9040888\ttotal: 740ms\tremaining: 1.37s\n",
      "350:\tlearn: 17.8974263\ttotal: 742ms\tremaining: 1.37s\n",
      "351:\tlearn: 17.8927344\ttotal: 744ms\tremaining: 1.37s\n",
      "352:\tlearn: 17.8875636\ttotal: 745ms\tremaining: 1.37s\n",
      "353:\tlearn: 17.8821711\ttotal: 747ms\tremaining: 1.36s\n",
      "354:\tlearn: 17.8778563\ttotal: 749ms\tremaining: 1.36s\n",
      "355:\tlearn: 17.8708680\ttotal: 751ms\tremaining: 1.36s\n",
      "356:\tlearn: 17.8638808\ttotal: 753ms\tremaining: 1.36s\n",
      "357:\tlearn: 17.8580635\ttotal: 755ms\tremaining: 1.35s\n",
      "358:\tlearn: 17.8561472\ttotal: 757ms\tremaining: 1.35s\n",
      "359:\tlearn: 17.8520745\ttotal: 759ms\tremaining: 1.35s\n",
      "360:\tlearn: 17.8485347\ttotal: 761ms\tremaining: 1.35s\n",
      "361:\tlearn: 17.8431282\ttotal: 763ms\tremaining: 1.34s\n",
      "362:\tlearn: 17.8366367\ttotal: 765ms\tremaining: 1.34s\n",
      "363:\tlearn: 17.8311859\ttotal: 766ms\tremaining: 1.34s\n",
      "364:\tlearn: 17.8288565\ttotal: 768ms\tremaining: 1.34s\n",
      "365:\tlearn: 17.8255964\ttotal: 770ms\tremaining: 1.33s\n",
      "366:\tlearn: 17.8195920\ttotal: 772ms\tremaining: 1.33s\n"
     ]
    },
    {
     "name": "stdout",
     "output_type": "stream",
     "text": [
      "367:\tlearn: 17.8167084\ttotal: 774ms\tremaining: 1.33s\n",
      "368:\tlearn: 17.8116327\ttotal: 777ms\tremaining: 1.33s\n",
      "369:\tlearn: 17.8083964\ttotal: 779ms\tremaining: 1.33s\n",
      "370:\tlearn: 17.8034588\ttotal: 781ms\tremaining: 1.32s\n",
      "371:\tlearn: 17.7983459\ttotal: 783ms\tremaining: 1.32s\n",
      "372:\tlearn: 17.7942607\ttotal: 785ms\tremaining: 1.32s\n",
      "373:\tlearn: 17.7900037\ttotal: 787ms\tremaining: 1.32s\n",
      "374:\tlearn: 17.7866447\ttotal: 789ms\tremaining: 1.31s\n",
      "375:\tlearn: 17.7834017\ttotal: 791ms\tremaining: 1.31s\n",
      "376:\tlearn: 17.7791446\ttotal: 793ms\tremaining: 1.31s\n",
      "377:\tlearn: 17.7727873\ttotal: 795ms\tremaining: 1.31s\n",
      "378:\tlearn: 17.7686921\ttotal: 797ms\tremaining: 1.3s\n",
      "379:\tlearn: 17.7658819\ttotal: 799ms\tremaining: 1.3s\n",
      "380:\tlearn: 17.7617080\ttotal: 801ms\tremaining: 1.3s\n",
      "381:\tlearn: 17.7570496\ttotal: 802ms\tremaining: 1.3s\n",
      "382:\tlearn: 17.7520915\ttotal: 804ms\tremaining: 1.29s\n",
      "383:\tlearn: 17.7470807\ttotal: 806ms\tremaining: 1.29s\n",
      "384:\tlearn: 17.7431529\ttotal: 808ms\tremaining: 1.29s\n",
      "385:\tlearn: 17.7401035\ttotal: 810ms\tremaining: 1.29s\n",
      "386:\tlearn: 17.7357489\ttotal: 812ms\tremaining: 1.28s\n",
      "387:\tlearn: 17.7323690\ttotal: 814ms\tremaining: 1.28s\n",
      "388:\tlearn: 17.7264465\ttotal: 816ms\tremaining: 1.28s\n",
      "389:\tlearn: 17.7223088\ttotal: 818ms\tremaining: 1.28s\n",
      "390:\tlearn: 17.7181263\ttotal: 820ms\tremaining: 1.28s\n",
      "391:\tlearn: 17.7136346\ttotal: 821ms\tremaining: 1.27s\n",
      "392:\tlearn: 17.7093979\ttotal: 823ms\tremaining: 1.27s\n",
      "393:\tlearn: 17.7063492\ttotal: 825ms\tremaining: 1.27s\n",
      "394:\tlearn: 17.7030801\ttotal: 827ms\tremaining: 1.27s\n",
      "395:\tlearn: 17.6992034\ttotal: 829ms\tremaining: 1.26s\n",
      "396:\tlearn: 17.6957837\ttotal: 831ms\tremaining: 1.26s\n",
      "397:\tlearn: 17.6920599\ttotal: 833ms\tremaining: 1.26s\n",
      "398:\tlearn: 17.6869222\ttotal: 835ms\tremaining: 1.26s\n",
      "399:\tlearn: 17.6842061\ttotal: 837ms\tremaining: 1.25s\n",
      "400:\tlearn: 17.6807679\ttotal: 839ms\tremaining: 1.25s\n",
      "401:\tlearn: 17.6764727\ttotal: 841ms\tremaining: 1.25s\n",
      "402:\tlearn: 17.6728449\ttotal: 843ms\tremaining: 1.25s\n",
      "403:\tlearn: 17.6701312\ttotal: 844ms\tremaining: 1.25s\n",
      "404:\tlearn: 17.6632583\ttotal: 846ms\tremaining: 1.24s\n",
      "405:\tlearn: 17.6581143\ttotal: 848ms\tremaining: 1.24s\n",
      "406:\tlearn: 17.6533118\ttotal: 850ms\tremaining: 1.24s\n",
      "407:\tlearn: 17.6462581\ttotal: 852ms\tremaining: 1.24s\n",
      "408:\tlearn: 17.6423505\ttotal: 854ms\tremaining: 1.23s\n",
      "409:\tlearn: 17.6397177\ttotal: 856ms\tremaining: 1.23s\n",
      "410:\tlearn: 17.6357825\ttotal: 858ms\tremaining: 1.23s\n",
      "411:\tlearn: 17.6336193\ttotal: 860ms\tremaining: 1.23s\n",
      "412:\tlearn: 17.6307092\ttotal: 862ms\tremaining: 1.23s\n",
      "413:\tlearn: 17.6265387\ttotal: 864ms\tremaining: 1.22s\n",
      "414:\tlearn: 17.6215365\ttotal: 866ms\tremaining: 1.22s\n",
      "415:\tlearn: 17.6174792\ttotal: 868ms\tremaining: 1.22s\n",
      "416:\tlearn: 17.6151385\ttotal: 870ms\tremaining: 1.22s\n",
      "417:\tlearn: 17.6100653\ttotal: 872ms\tremaining: 1.21s\n",
      "418:\tlearn: 17.6062984\ttotal: 874ms\tremaining: 1.21s\n",
      "419:\tlearn: 17.6021518\ttotal: 876ms\tremaining: 1.21s\n",
      "420:\tlearn: 17.5985701\ttotal: 878ms\tremaining: 1.21s\n",
      "421:\tlearn: 17.5950377\ttotal: 879ms\tremaining: 1.2s\n",
      "422:\tlearn: 17.5922960\ttotal: 881ms\tremaining: 1.2s\n",
      "423:\tlearn: 17.5891604\ttotal: 883ms\tremaining: 1.2s\n",
      "424:\tlearn: 17.5836689\ttotal: 886ms\tremaining: 1.2s\n",
      "425:\tlearn: 17.5805880\ttotal: 887ms\tremaining: 1.2s\n",
      "426:\tlearn: 17.5771982\ttotal: 889ms\tremaining: 1.19s\n",
      "427:\tlearn: 17.5726046\ttotal: 891ms\tremaining: 1.19s\n",
      "428:\tlearn: 17.5681231\ttotal: 893ms\tremaining: 1.19s\n",
      "429:\tlearn: 17.5634271\ttotal: 895ms\tremaining: 1.19s\n",
      "430:\tlearn: 17.5582079\ttotal: 897ms\tremaining: 1.18s\n",
      "431:\tlearn: 17.5557826\ttotal: 899ms\tremaining: 1.18s\n",
      "432:\tlearn: 17.5515390\ttotal: 901ms\tremaining: 1.18s\n",
      "433:\tlearn: 17.5464809\ttotal: 903ms\tremaining: 1.18s\n",
      "434:\tlearn: 17.5410536\ttotal: 905ms\tremaining: 1.18s\n",
      "435:\tlearn: 17.5364706\ttotal: 907ms\tremaining: 1.17s\n",
      "436:\tlearn: 17.5322666\ttotal: 909ms\tremaining: 1.17s\n",
      "437:\tlearn: 17.5293085\ttotal: 910ms\tremaining: 1.17s\n",
      "438:\tlearn: 17.5254771\ttotal: 912ms\tremaining: 1.17s\n",
      "439:\tlearn: 17.5217341\ttotal: 914ms\tremaining: 1.16s\n",
      "440:\tlearn: 17.5175513\ttotal: 916ms\tremaining: 1.16s\n",
      "441:\tlearn: 17.5147706\ttotal: 918ms\tremaining: 1.16s\n",
      "442:\tlearn: 17.5101371\ttotal: 920ms\tremaining: 1.16s\n",
      "443:\tlearn: 17.5062975\ttotal: 922ms\tremaining: 1.15s\n",
      "444:\tlearn: 17.5019879\ttotal: 924ms\tremaining: 1.15s\n",
      "445:\tlearn: 17.4971720\ttotal: 926ms\tremaining: 1.15s\n",
      "446:\tlearn: 17.4918279\ttotal: 928ms\tremaining: 1.15s\n",
      "447:\tlearn: 17.4867583\ttotal: 930ms\tremaining: 1.15s\n",
      "448:\tlearn: 17.4836692\ttotal: 932ms\tremaining: 1.14s\n",
      "449:\tlearn: 17.4802059\ttotal: 933ms\tremaining: 1.14s\n",
      "450:\tlearn: 17.4755356\ttotal: 935ms\tremaining: 1.14s\n",
      "451:\tlearn: 17.4708294\ttotal: 937ms\tremaining: 1.14s\n",
      "452:\tlearn: 17.4677548\ttotal: 939ms\tremaining: 1.13s\n",
      "453:\tlearn: 17.4627991\ttotal: 941ms\tremaining: 1.13s\n",
      "454:\tlearn: 17.4600568\ttotal: 943ms\tremaining: 1.13s\n",
      "455:\tlearn: 17.4575035\ttotal: 945ms\tremaining: 1.13s\n",
      "456:\tlearn: 17.4518663\ttotal: 946ms\tremaining: 1.12s\n",
      "457:\tlearn: 17.4473190\ttotal: 948ms\tremaining: 1.12s\n",
      "458:\tlearn: 17.4428576\ttotal: 950ms\tremaining: 1.12s\n",
      "459:\tlearn: 17.4360516\ttotal: 952ms\tremaining: 1.12s\n",
      "460:\tlearn: 17.4318199\ttotal: 954ms\tremaining: 1.11s\n",
      "461:\tlearn: 17.4259600\ttotal: 956ms\tremaining: 1.11s\n",
      "462:\tlearn: 17.4230006\ttotal: 958ms\tremaining: 1.11s\n",
      "463:\tlearn: 17.4191605\ttotal: 960ms\tremaining: 1.11s\n",
      "464:\tlearn: 17.4147343\ttotal: 963ms\tremaining: 1.11s\n",
      "465:\tlearn: 17.4112090\ttotal: 966ms\tremaining: 1.11s\n",
      "466:\tlearn: 17.4057723\ttotal: 969ms\tremaining: 1.11s\n",
      "467:\tlearn: 17.4020501\ttotal: 971ms\tremaining: 1.1s\n",
      "468:\tlearn: 17.3986990\ttotal: 973ms\tremaining: 1.1s\n",
      "469:\tlearn: 17.3937963\ttotal: 975ms\tremaining: 1.1s\n",
      "470:\tlearn: 17.3924313\ttotal: 977ms\tremaining: 1.1s\n",
      "471:\tlearn: 17.3899737\ttotal: 979ms\tremaining: 1.09s\n",
      "472:\tlearn: 17.3853148\ttotal: 981ms\tremaining: 1.09s\n",
      "473:\tlearn: 17.3816504\ttotal: 983ms\tremaining: 1.09s\n",
      "474:\tlearn: 17.3778565\ttotal: 984ms\tremaining: 1.09s\n",
      "475:\tlearn: 17.3726218\ttotal: 986ms\tremaining: 1.08s\n",
      "476:\tlearn: 17.3693741\ttotal: 988ms\tremaining: 1.08s\n",
      "477:\tlearn: 17.3662321\ttotal: 990ms\tremaining: 1.08s\n",
      "478:\tlearn: 17.3630444\ttotal: 992ms\tremaining: 1.08s\n",
      "479:\tlearn: 17.3600105\ttotal: 994ms\tremaining: 1.08s\n",
      "480:\tlearn: 17.3558625\ttotal: 996ms\tremaining: 1.07s\n",
      "481:\tlearn: 17.3517018\ttotal: 997ms\tremaining: 1.07s\n",
      "482:\tlearn: 17.3480286\ttotal: 1000ms\tremaining: 1.07s\n",
      "483:\tlearn: 17.3430147\ttotal: 1s\tremaining: 1.07s\n",
      "484:\tlearn: 17.3398319\ttotal: 1s\tremaining: 1.06s\n",
      "485:\tlearn: 17.3366682\ttotal: 1s\tremaining: 1.06s\n",
      "486:\tlearn: 17.3301876\ttotal: 1.01s\tremaining: 1.06s\n",
      "487:\tlearn: 17.3277948\ttotal: 1.01s\tremaining: 1.06s\n",
      "488:\tlearn: 17.3224291\ttotal: 1.01s\tremaining: 1.06s\n",
      "489:\tlearn: 17.3187773\ttotal: 1.01s\tremaining: 1.05s\n",
      "490:\tlearn: 17.3141899\ttotal: 1.02s\tremaining: 1.05s\n",
      "491:\tlearn: 17.3105533\ttotal: 1.05s\tremaining: 1.08s\n",
      "492:\tlearn: 17.3064646\ttotal: 1.06s\tremaining: 1.09s\n",
      "493:\tlearn: 17.3036633\ttotal: 1.06s\tremaining: 1.09s\n",
      "494:\tlearn: 17.3007800\ttotal: 1.07s\tremaining: 1.09s\n",
      "495:\tlearn: 17.2978327\ttotal: 1.07s\tremaining: 1.09s\n",
      "496:\tlearn: 17.2948992\ttotal: 1.07s\tremaining: 1.08s\n",
      "497:\tlearn: 17.2909331\ttotal: 1.07s\tremaining: 1.08s\n",
      "498:\tlearn: 17.2881598\ttotal: 1.07s\tremaining: 1.08s\n",
      "499:\tlearn: 17.2839638\ttotal: 1.08s\tremaining: 1.08s\n",
      "500:\tlearn: 17.2793359\ttotal: 1.08s\tremaining: 1.07s\n",
      "501:\tlearn: 17.2758624\ttotal: 1.08s\tremaining: 1.07s\n",
      "502:\tlearn: 17.2716075\ttotal: 1.08s\tremaining: 1.07s\n",
      "503:\tlearn: 17.2667072\ttotal: 1.09s\tremaining: 1.07s\n",
      "504:\tlearn: 17.2633104\ttotal: 1.09s\tremaining: 1.07s\n",
      "505:\tlearn: 17.2591391\ttotal: 1.09s\tremaining: 1.07s\n",
      "506:\tlearn: 17.2562523\ttotal: 1.09s\tremaining: 1.06s\n",
      "507:\tlearn: 17.2522011\ttotal: 1.09s\tremaining: 1.06s\n",
      "508:\tlearn: 17.2469703\ttotal: 1.1s\tremaining: 1.06s\n",
      "509:\tlearn: 17.2428070\ttotal: 1.1s\tremaining: 1.06s\n",
      "510:\tlearn: 17.2399586\ttotal: 1.1s\tremaining: 1.05s\n",
      "511:\tlearn: 17.2383141\ttotal: 1.1s\tremaining: 1.05s\n",
      "512:\tlearn: 17.2325842\ttotal: 1.11s\tremaining: 1.05s\n",
      "513:\tlearn: 17.2282992\ttotal: 1.11s\tremaining: 1.05s\n",
      "514:\tlearn: 17.2252280\ttotal: 1.11s\tremaining: 1.04s\n",
      "515:\tlearn: 17.2221844\ttotal: 1.11s\tremaining: 1.04s\n",
      "516:\tlearn: 17.2170989\ttotal: 1.11s\tremaining: 1.04s\n",
      "517:\tlearn: 17.2143444\ttotal: 1.12s\tremaining: 1.04s\n",
      "518:\tlearn: 17.2096111\ttotal: 1.12s\tremaining: 1.04s\n",
      "519:\tlearn: 17.2051818\ttotal: 1.12s\tremaining: 1.03s\n",
      "520:\tlearn: 17.2018045\ttotal: 1.12s\tremaining: 1.03s\n",
      "521:\tlearn: 17.1978860\ttotal: 1.13s\tremaining: 1.03s\n",
      "522:\tlearn: 17.1948284\ttotal: 1.13s\tremaining: 1.03s\n",
      "523:\tlearn: 17.1925023\ttotal: 1.13s\tremaining: 1.03s\n",
      "524:\tlearn: 17.1886041\ttotal: 1.13s\tremaining: 1.02s\n",
      "525:\tlearn: 17.1833621\ttotal: 1.14s\tremaining: 1.02s\n",
      "526:\tlearn: 17.1789052\ttotal: 1.14s\tremaining: 1.02s\n",
      "527:\tlearn: 17.1738881\ttotal: 1.14s\tremaining: 1.02s\n",
      "528:\tlearn: 17.1699667\ttotal: 1.14s\tremaining: 1.02s\n",
      "529:\tlearn: 17.1661569\ttotal: 1.14s\tremaining: 1.01s\n",
      "530:\tlearn: 17.1618461\ttotal: 1.15s\tremaining: 1.01s\n",
      "531:\tlearn: 17.1573453\ttotal: 1.15s\tremaining: 1.01s\n",
      "532:\tlearn: 17.1535840\ttotal: 1.15s\tremaining: 1.01s\n",
      "533:\tlearn: 17.1489738\ttotal: 1.16s\tremaining: 1.01s\n",
      "534:\tlearn: 17.1459909\ttotal: 1.16s\tremaining: 1.01s\n",
      "535:\tlearn: 17.1431972\ttotal: 1.16s\tremaining: 1s\n"
     ]
    },
    {
     "name": "stdout",
     "output_type": "stream",
     "text": [
      "536:\tlearn: 17.1375297\ttotal: 1.17s\tremaining: 1.01s\n",
      "537:\tlearn: 17.1350010\ttotal: 1.17s\tremaining: 1.01s\n",
      "538:\tlearn: 17.1323135\ttotal: 1.18s\tremaining: 1s\n",
      "539:\tlearn: 17.1284006\ttotal: 1.18s\tremaining: 1s\n",
      "540:\tlearn: 17.1245344\ttotal: 1.18s\tremaining: 1s\n",
      "541:\tlearn: 17.1218641\ttotal: 1.19s\tremaining: 1s\n",
      "542:\tlearn: 17.1187385\ttotal: 1.19s\tremaining: 1000ms\n",
      "543:\tlearn: 17.1148277\ttotal: 1.19s\tremaining: 997ms\n",
      "544:\tlearn: 17.1120526\ttotal: 1.19s\tremaining: 995ms\n",
      "545:\tlearn: 17.1078826\ttotal: 1.19s\tremaining: 992ms\n",
      "546:\tlearn: 17.1049030\ttotal: 1.2s\tremaining: 990ms\n",
      "547:\tlearn: 17.1031478\ttotal: 1.2s\tremaining: 987ms\n",
      "548:\tlearn: 17.1001198\ttotal: 1.2s\tremaining: 986ms\n",
      "549:\tlearn: 17.0958838\ttotal: 1.2s\tremaining: 984ms\n",
      "550:\tlearn: 17.0901316\ttotal: 1.2s\tremaining: 981ms\n",
      "551:\tlearn: 17.0867228\ttotal: 1.21s\tremaining: 979ms\n",
      "552:\tlearn: 17.0837519\ttotal: 1.21s\tremaining: 976ms\n",
      "553:\tlearn: 17.0806888\ttotal: 1.21s\tremaining: 974ms\n",
      "554:\tlearn: 17.0780157\ttotal: 1.21s\tremaining: 971ms\n",
      "555:\tlearn: 17.0720922\ttotal: 1.21s\tremaining: 969ms\n",
      "556:\tlearn: 17.0663801\ttotal: 1.22s\tremaining: 967ms\n",
      "557:\tlearn: 17.0612919\ttotal: 1.22s\tremaining: 965ms\n",
      "558:\tlearn: 17.0569684\ttotal: 1.22s\tremaining: 963ms\n",
      "559:\tlearn: 17.0529406\ttotal: 1.22s\tremaining: 961ms\n",
      "560:\tlearn: 17.0493304\ttotal: 1.22s\tremaining: 958ms\n",
      "561:\tlearn: 17.0471898\ttotal: 1.23s\tremaining: 956ms\n",
      "562:\tlearn: 17.0449951\ttotal: 1.23s\tremaining: 953ms\n",
      "563:\tlearn: 17.0414689\ttotal: 1.23s\tremaining: 952ms\n",
      "564:\tlearn: 17.0377707\ttotal: 1.23s\tremaining: 950ms\n",
      "565:\tlearn: 17.0357677\ttotal: 1.24s\tremaining: 948ms\n",
      "566:\tlearn: 17.0286479\ttotal: 1.24s\tremaining: 945ms\n",
      "567:\tlearn: 17.0243525\ttotal: 1.24s\tremaining: 943ms\n",
      "568:\tlearn: 17.0211776\ttotal: 1.24s\tremaining: 940ms\n",
      "569:\tlearn: 17.0167228\ttotal: 1.24s\tremaining: 938ms\n",
      "570:\tlearn: 17.0132639\ttotal: 1.25s\tremaining: 935ms\n",
      "571:\tlearn: 17.0103891\ttotal: 1.25s\tremaining: 933ms\n",
      "572:\tlearn: 17.0078503\ttotal: 1.25s\tremaining: 931ms\n",
      "573:\tlearn: 17.0041912\ttotal: 1.25s\tremaining: 929ms\n",
      "574:\tlearn: 17.0009814\ttotal: 1.25s\tremaining: 927ms\n",
      "575:\tlearn: 16.9970311\ttotal: 1.26s\tremaining: 925ms\n",
      "576:\tlearn: 16.9940235\ttotal: 1.26s\tremaining: 922ms\n",
      "577:\tlearn: 16.9894926\ttotal: 1.26s\tremaining: 920ms\n",
      "578:\tlearn: 16.9857936\ttotal: 1.27s\tremaining: 921ms\n",
      "579:\tlearn: 16.9812994\ttotal: 1.27s\tremaining: 919ms\n",
      "580:\tlearn: 16.9775661\ttotal: 1.27s\tremaining: 917ms\n",
      "581:\tlearn: 16.9753279\ttotal: 1.27s\tremaining: 914ms\n",
      "582:\tlearn: 16.9707620\ttotal: 1.27s\tremaining: 912ms\n",
      "583:\tlearn: 16.9662000\ttotal: 1.28s\tremaining: 910ms\n",
      "584:\tlearn: 16.9621931\ttotal: 1.28s\tremaining: 908ms\n",
      "585:\tlearn: 16.9579167\ttotal: 1.28s\tremaining: 906ms\n",
      "586:\tlearn: 16.9543624\ttotal: 1.28s\tremaining: 904ms\n",
      "587:\tlearn: 16.9517931\ttotal: 1.29s\tremaining: 902ms\n",
      "588:\tlearn: 16.9483388\ttotal: 1.29s\tremaining: 899ms\n",
      "589:\tlearn: 16.9442527\ttotal: 1.29s\tremaining: 897ms\n",
      "590:\tlearn: 16.9403056\ttotal: 1.29s\tremaining: 895ms\n",
      "591:\tlearn: 16.9339026\ttotal: 1.29s\tremaining: 893ms\n",
      "592:\tlearn: 16.9296912\ttotal: 1.3s\tremaining: 891ms\n",
      "593:\tlearn: 16.9279484\ttotal: 1.3s\tremaining: 889ms\n",
      "594:\tlearn: 16.9255895\ttotal: 1.3s\tremaining: 887ms\n",
      "595:\tlearn: 16.9224852\ttotal: 1.3s\tremaining: 885ms\n",
      "596:\tlearn: 16.9186955\ttotal: 1.31s\tremaining: 884ms\n",
      "597:\tlearn: 16.9145034\ttotal: 1.31s\tremaining: 882ms\n",
      "598:\tlearn: 16.9093227\ttotal: 1.31s\tremaining: 880ms\n",
      "599:\tlearn: 16.9058157\ttotal: 1.32s\tremaining: 878ms\n",
      "600:\tlearn: 16.9018080\ttotal: 1.32s\tremaining: 876ms\n",
      "601:\tlearn: 16.8959458\ttotal: 1.32s\tremaining: 874ms\n",
      "602:\tlearn: 16.8926603\ttotal: 1.32s\tremaining: 871ms\n",
      "603:\tlearn: 16.8887963\ttotal: 1.32s\tremaining: 869ms\n",
      "604:\tlearn: 16.8844582\ttotal: 1.33s\tremaining: 867ms\n",
      "605:\tlearn: 16.8818837\ttotal: 1.33s\tremaining: 865ms\n",
      "606:\tlearn: 16.8777718\ttotal: 1.33s\tremaining: 862ms\n",
      "607:\tlearn: 16.8740116\ttotal: 1.33s\tremaining: 860ms\n",
      "608:\tlearn: 16.8719830\ttotal: 1.33s\tremaining: 858ms\n",
      "609:\tlearn: 16.8671626\ttotal: 1.34s\tremaining: 855ms\n",
      "610:\tlearn: 16.8643497\ttotal: 1.34s\tremaining: 853ms\n",
      "611:\tlearn: 16.8607895\ttotal: 1.34s\tremaining: 851ms\n",
      "612:\tlearn: 16.8546968\ttotal: 1.34s\tremaining: 849ms\n",
      "613:\tlearn: 16.8522673\ttotal: 1.35s\tremaining: 847ms\n",
      "614:\tlearn: 16.8471835\ttotal: 1.35s\tremaining: 844ms\n",
      "615:\tlearn: 16.8424458\ttotal: 1.35s\tremaining: 842ms\n",
      "616:\tlearn: 16.8375216\ttotal: 1.35s\tremaining: 840ms\n",
      "617:\tlearn: 16.8346463\ttotal: 1.35s\tremaining: 837ms\n",
      "618:\tlearn: 16.8312678\ttotal: 1.36s\tremaining: 835ms\n",
      "619:\tlearn: 16.8268787\ttotal: 1.36s\tremaining: 833ms\n",
      "620:\tlearn: 16.8226093\ttotal: 1.36s\tremaining: 831ms\n",
      "621:\tlearn: 16.8180888\ttotal: 1.36s\tremaining: 829ms\n",
      "622:\tlearn: 16.8149900\ttotal: 1.37s\tremaining: 827ms\n",
      "623:\tlearn: 16.8098109\ttotal: 1.37s\tremaining: 825ms\n",
      "624:\tlearn: 16.8054465\ttotal: 1.37s\tremaining: 822ms\n",
      "625:\tlearn: 16.8019676\ttotal: 1.37s\tremaining: 820ms\n",
      "626:\tlearn: 16.7978330\ttotal: 1.38s\tremaining: 818ms\n",
      "627:\tlearn: 16.7955327\ttotal: 1.38s\tremaining: 816ms\n",
      "628:\tlearn: 16.7928693\ttotal: 1.38s\tremaining: 814ms\n",
      "629:\tlearn: 16.7878599\ttotal: 1.38s\tremaining: 811ms\n",
      "630:\tlearn: 16.7831930\ttotal: 1.38s\tremaining: 809ms\n",
      "631:\tlearn: 16.7797131\ttotal: 1.39s\tremaining: 807ms\n",
      "632:\tlearn: 16.7757240\ttotal: 1.39s\tremaining: 804ms\n",
      "633:\tlearn: 16.7721352\ttotal: 1.39s\tremaining: 802ms\n",
      "634:\tlearn: 16.7677043\ttotal: 1.39s\tremaining: 800ms\n",
      "635:\tlearn: 16.7630353\ttotal: 1.39s\tremaining: 798ms\n",
      "636:\tlearn: 16.7612828\ttotal: 1.4s\tremaining: 796ms\n",
      "637:\tlearn: 16.7588148\ttotal: 1.4s\tremaining: 793ms\n",
      "638:\tlearn: 16.7555582\ttotal: 1.4s\tremaining: 791ms\n",
      "639:\tlearn: 16.7505475\ttotal: 1.4s\tremaining: 789ms\n",
      "640:\tlearn: 16.7465312\ttotal: 1.4s\tremaining: 786ms\n",
      "641:\tlearn: 16.7431371\ttotal: 1.41s\tremaining: 784ms\n",
      "642:\tlearn: 16.7381263\ttotal: 1.41s\tremaining: 782ms\n",
      "643:\tlearn: 16.7344042\ttotal: 1.41s\tremaining: 780ms\n",
      "644:\tlearn: 16.7297155\ttotal: 1.41s\tremaining: 777ms\n",
      "645:\tlearn: 16.7241729\ttotal: 1.41s\tremaining: 775ms\n",
      "646:\tlearn: 16.7203709\ttotal: 1.42s\tremaining: 773ms\n",
      "647:\tlearn: 16.7146447\ttotal: 1.42s\tremaining: 770ms\n",
      "648:\tlearn: 16.7123109\ttotal: 1.42s\tremaining: 768ms\n",
      "649:\tlearn: 16.7065715\ttotal: 1.42s\tremaining: 766ms\n",
      "650:\tlearn: 16.7018465\ttotal: 1.42s\tremaining: 764ms\n",
      "651:\tlearn: 16.6965344\ttotal: 1.43s\tremaining: 761ms\n",
      "652:\tlearn: 16.6949794\ttotal: 1.43s\tremaining: 759ms\n",
      "653:\tlearn: 16.6909627\ttotal: 1.43s\tremaining: 757ms\n",
      "654:\tlearn: 16.6873743\ttotal: 1.43s\tremaining: 754ms\n",
      "655:\tlearn: 16.6845217\ttotal: 1.43s\tremaining: 752ms\n",
      "656:\tlearn: 16.6810802\ttotal: 1.44s\tremaining: 749ms\n",
      "657:\tlearn: 16.6768421\ttotal: 1.44s\tremaining: 747ms\n",
      "658:\tlearn: 16.6718222\ttotal: 1.44s\tremaining: 745ms\n",
      "659:\tlearn: 16.6665741\ttotal: 1.44s\tremaining: 743ms\n",
      "660:\tlearn: 16.6640505\ttotal: 1.44s\tremaining: 740ms\n",
      "661:\tlearn: 16.6609702\ttotal: 1.45s\tremaining: 738ms\n",
      "662:\tlearn: 16.6567791\ttotal: 1.45s\tremaining: 736ms\n",
      "663:\tlearn: 16.6546769\ttotal: 1.45s\tremaining: 734ms\n",
      "664:\tlearn: 16.6512036\ttotal: 1.45s\tremaining: 731ms\n",
      "665:\tlearn: 16.6462557\ttotal: 1.45s\tremaining: 729ms\n",
      "666:\tlearn: 16.6427304\ttotal: 1.46s\tremaining: 727ms\n",
      "667:\tlearn: 16.6395608\ttotal: 1.46s\tremaining: 725ms\n",
      "668:\tlearn: 16.6372381\ttotal: 1.46s\tremaining: 722ms\n",
      "669:\tlearn: 16.6332803\ttotal: 1.46s\tremaining: 720ms\n",
      "670:\tlearn: 16.6295487\ttotal: 1.46s\tremaining: 718ms\n",
      "671:\tlearn: 16.6268989\ttotal: 1.47s\tremaining: 715ms\n",
      "672:\tlearn: 16.6224752\ttotal: 1.47s\tremaining: 713ms\n",
      "673:\tlearn: 16.6203443\ttotal: 1.47s\tremaining: 711ms\n",
      "674:\tlearn: 16.6173951\ttotal: 1.47s\tremaining: 709ms\n",
      "675:\tlearn: 16.6109556\ttotal: 1.47s\tremaining: 706ms\n",
      "676:\tlearn: 16.6069747\ttotal: 1.48s\tremaining: 704ms\n",
      "677:\tlearn: 16.6037198\ttotal: 1.48s\tremaining: 702ms\n",
      "678:\tlearn: 16.5993869\ttotal: 1.48s\tremaining: 699ms\n",
      "679:\tlearn: 16.5948084\ttotal: 1.48s\tremaining: 697ms\n",
      "680:\tlearn: 16.5908402\ttotal: 1.48s\tremaining: 695ms\n",
      "681:\tlearn: 16.5871164\ttotal: 1.48s\tremaining: 692ms\n",
      "682:\tlearn: 16.5821580\ttotal: 1.49s\tremaining: 690ms\n",
      "683:\tlearn: 16.5756962\ttotal: 1.49s\tremaining: 688ms\n",
      "684:\tlearn: 16.5720573\ttotal: 1.49s\tremaining: 686ms\n",
      "685:\tlearn: 16.5669415\ttotal: 1.49s\tremaining: 683ms\n",
      "686:\tlearn: 16.5630797\ttotal: 1.49s\tremaining: 681ms\n",
      "687:\tlearn: 16.5579837\ttotal: 1.5s\tremaining: 679ms\n",
      "688:\tlearn: 16.5546937\ttotal: 1.5s\tremaining: 676ms\n",
      "689:\tlearn: 16.5504537\ttotal: 1.5s\tremaining: 674ms\n",
      "690:\tlearn: 16.5465299\ttotal: 1.5s\tremaining: 672ms\n",
      "691:\tlearn: 16.5417169\ttotal: 1.5s\tremaining: 670ms\n",
      "692:\tlearn: 16.5379148\ttotal: 1.51s\tremaining: 668ms\n",
      "693:\tlearn: 16.5353401\ttotal: 1.51s\tremaining: 665ms\n",
      "694:\tlearn: 16.5330762\ttotal: 1.51s\tremaining: 663ms\n",
      "695:\tlearn: 16.5303944\ttotal: 1.51s\tremaining: 661ms\n",
      "696:\tlearn: 16.5265558\ttotal: 1.51s\tremaining: 659ms\n",
      "697:\tlearn: 16.5224319\ttotal: 1.52s\tremaining: 656ms\n",
      "698:\tlearn: 16.5181927\ttotal: 1.52s\tremaining: 654ms\n",
      "699:\tlearn: 16.5125384\ttotal: 1.52s\tremaining: 652ms\n",
      "700:\tlearn: 16.5092625\ttotal: 1.52s\tremaining: 650ms\n",
      "701:\tlearn: 16.5055446\ttotal: 1.52s\tremaining: 647ms\n",
      "702:\tlearn: 16.5016725\ttotal: 1.53s\tremaining: 645ms\n",
      "703:\tlearn: 16.4980012\ttotal: 1.53s\tremaining: 643ms\n",
      "704:\tlearn: 16.4935559\ttotal: 1.53s\tremaining: 641ms\n",
      "705:\tlearn: 16.4893202\ttotal: 1.53s\tremaining: 638ms\n",
      "706:\tlearn: 16.4830405\ttotal: 1.53s\tremaining: 636ms\n",
      "707:\tlearn: 16.4781508\ttotal: 1.54s\tremaining: 634ms\n",
      "708:\tlearn: 16.4744827\ttotal: 1.54s\tremaining: 632ms\n",
      "709:\tlearn: 16.4699516\ttotal: 1.54s\tremaining: 630ms\n",
      "710:\tlearn: 16.4657247\ttotal: 1.54s\tremaining: 627ms\n",
      "711:\tlearn: 16.4634925\ttotal: 1.54s\tremaining: 625ms\n",
      "712:\tlearn: 16.4598504\ttotal: 1.55s\tremaining: 623ms\n",
      "713:\tlearn: 16.4565507\ttotal: 1.55s\tremaining: 621ms\n",
      "714:\tlearn: 16.4538634\ttotal: 1.55s\tremaining: 619ms\n",
      "715:\tlearn: 16.4511087\ttotal: 1.55s\tremaining: 616ms\n",
      "716:\tlearn: 16.4467976\ttotal: 1.56s\tremaining: 614ms\n",
      "717:\tlearn: 16.4440370\ttotal: 1.56s\tremaining: 612ms\n",
      "718:\tlearn: 16.4417542\ttotal: 1.56s\tremaining: 610ms\n"
     ]
    },
    {
     "name": "stdout",
     "output_type": "stream",
     "text": [
      "719:\tlearn: 16.4385920\ttotal: 1.56s\tremaining: 608ms\n",
      "720:\tlearn: 16.4360861\ttotal: 1.56s\tremaining: 606ms\n",
      "721:\tlearn: 16.4314861\ttotal: 1.57s\tremaining: 604ms\n",
      "722:\tlearn: 16.4288357\ttotal: 1.57s\tremaining: 602ms\n",
      "723:\tlearn: 16.4263081\ttotal: 1.57s\tremaining: 600ms\n",
      "724:\tlearn: 16.4224850\ttotal: 1.58s\tremaining: 598ms\n",
      "725:\tlearn: 16.4195956\ttotal: 1.58s\tremaining: 596ms\n",
      "726:\tlearn: 16.4161628\ttotal: 1.58s\tremaining: 593ms\n",
      "727:\tlearn: 16.4123443\ttotal: 1.58s\tremaining: 591ms\n",
      "728:\tlearn: 16.4086829\ttotal: 1.58s\tremaining: 589ms\n",
      "729:\tlearn: 16.4056295\ttotal: 1.59s\tremaining: 587ms\n",
      "730:\tlearn: 16.4038422\ttotal: 1.59s\tremaining: 585ms\n",
      "731:\tlearn: 16.4011135\ttotal: 1.59s\tremaining: 583ms\n",
      "732:\tlearn: 16.3975573\ttotal: 1.59s\tremaining: 580ms\n",
      "733:\tlearn: 16.3929529\ttotal: 1.59s\tremaining: 578ms\n",
      "734:\tlearn: 16.3897129\ttotal: 1.6s\tremaining: 576ms\n",
      "735:\tlearn: 16.3857795\ttotal: 1.6s\tremaining: 574ms\n",
      "736:\tlearn: 16.3821933\ttotal: 1.6s\tremaining: 572ms\n",
      "737:\tlearn: 16.3791685\ttotal: 1.6s\tremaining: 569ms\n",
      "738:\tlearn: 16.3758882\ttotal: 1.6s\tremaining: 567ms\n",
      "739:\tlearn: 16.3732705\ttotal: 1.61s\tremaining: 565ms\n",
      "740:\tlearn: 16.3706034\ttotal: 1.61s\tremaining: 563ms\n",
      "741:\tlearn: 16.3670767\ttotal: 1.61s\tremaining: 560ms\n",
      "742:\tlearn: 16.3624031\ttotal: 1.61s\tremaining: 558ms\n",
      "743:\tlearn: 16.3586905\ttotal: 1.62s\tremaining: 556ms\n",
      "744:\tlearn: 16.3534652\ttotal: 1.62s\tremaining: 554ms\n",
      "745:\tlearn: 16.3480505\ttotal: 1.62s\tremaining: 552ms\n",
      "746:\tlearn: 16.3436776\ttotal: 1.62s\tremaining: 549ms\n",
      "747:\tlearn: 16.3404195\ttotal: 1.62s\tremaining: 547ms\n",
      "748:\tlearn: 16.3381414\ttotal: 1.63s\tremaining: 545ms\n",
      "749:\tlearn: 16.3322034\ttotal: 1.63s\tremaining: 543ms\n",
      "750:\tlearn: 16.3279179\ttotal: 1.63s\tremaining: 540ms\n",
      "751:\tlearn: 16.3252654\ttotal: 1.63s\tremaining: 538ms\n",
      "752:\tlearn: 16.3215897\ttotal: 1.63s\tremaining: 536ms\n",
      "753:\tlearn: 16.3177986\ttotal: 1.64s\tremaining: 534ms\n",
      "754:\tlearn: 16.3129563\ttotal: 1.64s\tremaining: 532ms\n",
      "755:\tlearn: 16.3096345\ttotal: 1.64s\tremaining: 529ms\n",
      "756:\tlearn: 16.3057333\ttotal: 1.64s\tremaining: 527ms\n",
      "757:\tlearn: 16.3026158\ttotal: 1.64s\tremaining: 525ms\n",
      "758:\tlearn: 16.2997531\ttotal: 1.65s\tremaining: 523ms\n",
      "759:\tlearn: 16.2939952\ttotal: 1.65s\tremaining: 521ms\n",
      "760:\tlearn: 16.2903455\ttotal: 1.65s\tremaining: 518ms\n",
      "761:\tlearn: 16.2869271\ttotal: 1.65s\tremaining: 516ms\n",
      "762:\tlearn: 16.2835197\ttotal: 1.65s\tremaining: 514ms\n",
      "763:\tlearn: 16.2784821\ttotal: 1.66s\tremaining: 512ms\n",
      "764:\tlearn: 16.2750562\ttotal: 1.66s\tremaining: 509ms\n",
      "765:\tlearn: 16.2703260\ttotal: 1.66s\tremaining: 508ms\n",
      "766:\tlearn: 16.2671742\ttotal: 1.67s\tremaining: 506ms\n",
      "767:\tlearn: 16.2629265\ttotal: 1.67s\tremaining: 504ms\n",
      "768:\tlearn: 16.2583648\ttotal: 1.67s\tremaining: 501ms\n",
      "769:\tlearn: 16.2542065\ttotal: 1.67s\tremaining: 499ms\n",
      "770:\tlearn: 16.2505713\ttotal: 1.67s\tremaining: 497ms\n",
      "771:\tlearn: 16.2461913\ttotal: 1.67s\tremaining: 495ms\n",
      "772:\tlearn: 16.2429596\ttotal: 1.68s\tremaining: 493ms\n",
      "773:\tlearn: 16.2401688\ttotal: 1.68s\tremaining: 491ms\n",
      "774:\tlearn: 16.2353977\ttotal: 1.68s\tremaining: 489ms\n",
      "775:\tlearn: 16.2304159\ttotal: 1.69s\tremaining: 487ms\n",
      "776:\tlearn: 16.2272702\ttotal: 1.69s\tremaining: 484ms\n",
      "777:\tlearn: 16.2246682\ttotal: 1.69s\tremaining: 482ms\n",
      "778:\tlearn: 16.2198198\ttotal: 1.69s\tremaining: 480ms\n",
      "779:\tlearn: 16.2151967\ttotal: 1.7s\tremaining: 479ms\n",
      "780:\tlearn: 16.2123840\ttotal: 1.7s\tremaining: 476ms\n",
      "781:\tlearn: 16.2080206\ttotal: 1.7s\tremaining: 474ms\n",
      "782:\tlearn: 16.2052576\ttotal: 1.7s\tremaining: 472ms\n",
      "783:\tlearn: 16.2008556\ttotal: 1.7s\tremaining: 470ms\n",
      "784:\tlearn: 16.1951827\ttotal: 1.71s\tremaining: 467ms\n",
      "785:\tlearn: 16.1913892\ttotal: 1.71s\tremaining: 465ms\n",
      "786:\tlearn: 16.1887151\ttotal: 1.71s\tremaining: 463ms\n",
      "787:\tlearn: 16.1849903\ttotal: 1.71s\tremaining: 461ms\n",
      "788:\tlearn: 16.1821862\ttotal: 1.72s\tremaining: 459ms\n",
      "789:\tlearn: 16.1773987\ttotal: 1.72s\tremaining: 456ms\n",
      "790:\tlearn: 16.1709686\ttotal: 1.72s\tremaining: 454ms\n",
      "791:\tlearn: 16.1670550\ttotal: 1.72s\tremaining: 452ms\n",
      "792:\tlearn: 16.1636894\ttotal: 1.72s\tremaining: 450ms\n",
      "793:\tlearn: 16.1601380\ttotal: 1.73s\tremaining: 448ms\n",
      "794:\tlearn: 16.1559882\ttotal: 1.73s\tremaining: 446ms\n",
      "795:\tlearn: 16.1522819\ttotal: 1.73s\tremaining: 443ms\n",
      "796:\tlearn: 16.1468300\ttotal: 1.73s\tremaining: 441ms\n",
      "797:\tlearn: 16.1417191\ttotal: 1.73s\tremaining: 439ms\n",
      "798:\tlearn: 16.1393989\ttotal: 1.74s\tremaining: 437ms\n",
      "799:\tlearn: 16.1360446\ttotal: 1.74s\tremaining: 435ms\n",
      "800:\tlearn: 16.1323047\ttotal: 1.74s\tremaining: 432ms\n",
      "801:\tlearn: 16.1290849\ttotal: 1.74s\tremaining: 430ms\n",
      "802:\tlearn: 16.1266494\ttotal: 1.74s\tremaining: 428ms\n",
      "803:\tlearn: 16.1229701\ttotal: 1.75s\tremaining: 426ms\n",
      "804:\tlearn: 16.1207082\ttotal: 1.75s\tremaining: 424ms\n",
      "805:\tlearn: 16.1158256\ttotal: 1.75s\tremaining: 421ms\n",
      "806:\tlearn: 16.1129814\ttotal: 1.75s\tremaining: 419ms\n",
      "807:\tlearn: 16.1073128\ttotal: 1.75s\tremaining: 417ms\n",
      "808:\tlearn: 16.1045268\ttotal: 1.76s\tremaining: 415ms\n",
      "809:\tlearn: 16.1019372\ttotal: 1.76s\tremaining: 413ms\n",
      "810:\tlearn: 16.0989899\ttotal: 1.76s\tremaining: 411ms\n",
      "811:\tlearn: 16.0956355\ttotal: 1.76s\tremaining: 409ms\n",
      "812:\tlearn: 16.0907627\ttotal: 1.77s\tremaining: 407ms\n",
      "813:\tlearn: 16.0881825\ttotal: 1.77s\tremaining: 404ms\n",
      "814:\tlearn: 16.0853033\ttotal: 1.77s\tremaining: 402ms\n",
      "815:\tlearn: 16.0810295\ttotal: 1.78s\tremaining: 401ms\n",
      "816:\tlearn: 16.0784426\ttotal: 1.78s\tremaining: 399ms\n",
      "817:\tlearn: 16.0745750\ttotal: 1.78s\tremaining: 396ms\n",
      "818:\tlearn: 16.0716380\ttotal: 1.78s\tremaining: 394ms\n",
      "819:\tlearn: 16.0677051\ttotal: 1.78s\tremaining: 392ms\n",
      "820:\tlearn: 16.0643167\ttotal: 1.79s\tremaining: 390ms\n",
      "821:\tlearn: 16.0616693\ttotal: 1.79s\tremaining: 388ms\n",
      "822:\tlearn: 16.0584159\ttotal: 1.79s\tremaining: 385ms\n",
      "823:\tlearn: 16.0528137\ttotal: 1.79s\tremaining: 383ms\n",
      "824:\tlearn: 16.0486718\ttotal: 1.8s\tremaining: 381ms\n",
      "825:\tlearn: 16.0454307\ttotal: 1.8s\tremaining: 379ms\n",
      "826:\tlearn: 16.0408293\ttotal: 1.8s\tremaining: 377ms\n",
      "827:\tlearn: 16.0384181\ttotal: 1.8s\tremaining: 374ms\n",
      "828:\tlearn: 16.0341082\ttotal: 1.8s\tremaining: 372ms\n",
      "829:\tlearn: 16.0304039\ttotal: 1.81s\tremaining: 370ms\n",
      "830:\tlearn: 16.0271810\ttotal: 1.81s\tremaining: 368ms\n",
      "831:\tlearn: 16.0245998\ttotal: 1.81s\tremaining: 366ms\n",
      "832:\tlearn: 16.0206247\ttotal: 1.81s\tremaining: 364ms\n",
      "833:\tlearn: 16.0166152\ttotal: 1.81s\tremaining: 361ms\n",
      "834:\tlearn: 16.0132056\ttotal: 1.82s\tremaining: 359ms\n",
      "835:\tlearn: 16.0098415\ttotal: 1.82s\tremaining: 357ms\n",
      "836:\tlearn: 16.0063843\ttotal: 1.82s\tremaining: 355ms\n",
      "837:\tlearn: 16.0030981\ttotal: 1.82s\tremaining: 353ms\n",
      "838:\tlearn: 15.9988938\ttotal: 1.83s\tremaining: 351ms\n",
      "839:\tlearn: 15.9966854\ttotal: 1.83s\tremaining: 349ms\n",
      "840:\tlearn: 15.9917893\ttotal: 1.83s\tremaining: 346ms\n",
      "841:\tlearn: 15.9891319\ttotal: 1.83s\tremaining: 344ms\n",
      "842:\tlearn: 15.9855582\ttotal: 1.83s\tremaining: 342ms\n",
      "843:\tlearn: 15.9829350\ttotal: 1.84s\tremaining: 340ms\n",
      "844:\tlearn: 15.9805147\ttotal: 1.84s\tremaining: 338ms\n",
      "845:\tlearn: 15.9775671\ttotal: 1.84s\tremaining: 336ms\n",
      "846:\tlearn: 15.9749641\ttotal: 1.85s\tremaining: 334ms\n",
      "847:\tlearn: 15.9694571\ttotal: 1.85s\tremaining: 331ms\n",
      "848:\tlearn: 15.9654573\ttotal: 1.85s\tremaining: 329ms\n",
      "849:\tlearn: 15.9626188\ttotal: 1.85s\tremaining: 328ms\n",
      "850:\tlearn: 15.9572938\ttotal: 1.86s\tremaining: 325ms\n",
      "851:\tlearn: 15.9541132\ttotal: 1.86s\tremaining: 323ms\n",
      "852:\tlearn: 15.9502833\ttotal: 1.86s\tremaining: 321ms\n",
      "853:\tlearn: 15.9483174\ttotal: 1.86s\tremaining: 319ms\n",
      "854:\tlearn: 15.9461664\ttotal: 1.86s\tremaining: 316ms\n",
      "855:\tlearn: 15.9436250\ttotal: 1.87s\tremaining: 314ms\n",
      "856:\tlearn: 15.9411280\ttotal: 1.87s\tremaining: 312ms\n",
      "857:\tlearn: 15.9368634\ttotal: 1.87s\tremaining: 310ms\n",
      "858:\tlearn: 15.9318323\ttotal: 1.88s\tremaining: 308ms\n",
      "859:\tlearn: 15.9289034\ttotal: 1.88s\tremaining: 306ms\n",
      "860:\tlearn: 15.9249814\ttotal: 1.88s\tremaining: 304ms\n",
      "861:\tlearn: 15.9210227\ttotal: 1.88s\tremaining: 301ms\n",
      "862:\tlearn: 15.9176876\ttotal: 1.89s\tremaining: 300ms\n",
      "863:\tlearn: 15.9142454\ttotal: 1.89s\tremaining: 298ms\n",
      "864:\tlearn: 15.9107753\ttotal: 1.89s\tremaining: 295ms\n",
      "865:\tlearn: 15.9071290\ttotal: 1.89s\tremaining: 293ms\n",
      "866:\tlearn: 15.9032904\ttotal: 1.9s\tremaining: 291ms\n",
      "867:\tlearn: 15.8996100\ttotal: 1.9s\tremaining: 289ms\n",
      "868:\tlearn: 15.8965968\ttotal: 1.9s\tremaining: 287ms\n",
      "869:\tlearn: 15.8910493\ttotal: 1.9s\tremaining: 284ms\n",
      "870:\tlearn: 15.8881478\ttotal: 1.9s\tremaining: 282ms\n",
      "871:\tlearn: 15.8846727\ttotal: 1.91s\tremaining: 280ms\n",
      "872:\tlearn: 15.8817715\ttotal: 1.91s\tremaining: 278ms\n",
      "873:\tlearn: 15.8770576\ttotal: 1.91s\tremaining: 275ms\n",
      "874:\tlearn: 15.8729151\ttotal: 1.91s\tremaining: 273ms\n",
      "875:\tlearn: 15.8707864\ttotal: 1.91s\tremaining: 271ms\n",
      "876:\tlearn: 15.8680883\ttotal: 1.92s\tremaining: 269ms\n",
      "877:\tlearn: 15.8653934\ttotal: 1.92s\tremaining: 267ms\n",
      "878:\tlearn: 15.8617722\ttotal: 1.92s\tremaining: 264ms\n",
      "879:\tlearn: 15.8575987\ttotal: 1.92s\tremaining: 262ms\n",
      "880:\tlearn: 15.8551405\ttotal: 1.92s\tremaining: 260ms\n",
      "881:\tlearn: 15.8525954\ttotal: 1.93s\tremaining: 258ms\n",
      "882:\tlearn: 15.8496550\ttotal: 1.93s\tremaining: 255ms\n",
      "883:\tlearn: 15.8470568\ttotal: 1.93s\tremaining: 253ms\n",
      "884:\tlearn: 15.8445941\ttotal: 1.93s\tremaining: 251ms\n",
      "885:\tlearn: 15.8399748\ttotal: 1.93s\tremaining: 249ms\n",
      "886:\tlearn: 15.8365764\ttotal: 1.94s\tremaining: 247ms\n",
      "887:\tlearn: 15.8323826\ttotal: 1.94s\tremaining: 245ms\n",
      "888:\tlearn: 15.8276386\ttotal: 1.94s\tremaining: 242ms\n",
      "889:\tlearn: 15.8243728\ttotal: 1.94s\tremaining: 240ms\n",
      "890:\tlearn: 15.8213951\ttotal: 1.95s\tremaining: 238ms\n",
      "891:\tlearn: 15.8187271\ttotal: 1.95s\tremaining: 236ms\n"
     ]
    },
    {
     "name": "stdout",
     "output_type": "stream",
     "text": [
      "892:\tlearn: 15.8147794\ttotal: 1.95s\tremaining: 234ms\n",
      "893:\tlearn: 15.8116321\ttotal: 1.96s\tremaining: 232ms\n",
      "894:\tlearn: 15.8073130\ttotal: 1.96s\tremaining: 230ms\n",
      "895:\tlearn: 15.8020102\ttotal: 1.96s\tremaining: 228ms\n",
      "896:\tlearn: 15.7994145\ttotal: 1.96s\tremaining: 226ms\n",
      "897:\tlearn: 15.7956393\ttotal: 1.97s\tremaining: 223ms\n",
      "898:\tlearn: 15.7927265\ttotal: 1.97s\tremaining: 222ms\n",
      "899:\tlearn: 15.7892174\ttotal: 1.98s\tremaining: 220ms\n",
      "900:\tlearn: 15.7854507\ttotal: 1.98s\tremaining: 217ms\n",
      "901:\tlearn: 15.7819889\ttotal: 1.98s\tremaining: 215ms\n",
      "902:\tlearn: 15.7770801\ttotal: 1.98s\tremaining: 213ms\n",
      "903:\tlearn: 15.7738162\ttotal: 1.99s\tremaining: 211ms\n",
      "904:\tlearn: 15.7716141\ttotal: 1.99s\tremaining: 209ms\n",
      "905:\tlearn: 15.7689933\ttotal: 1.99s\tremaining: 207ms\n",
      "906:\tlearn: 15.7655391\ttotal: 1.99s\tremaining: 204ms\n",
      "907:\tlearn: 15.7634564\ttotal: 2s\tremaining: 202ms\n",
      "908:\tlearn: 15.7608403\ttotal: 2s\tremaining: 200ms\n",
      "909:\tlearn: 15.7571711\ttotal: 2s\tremaining: 198ms\n",
      "910:\tlearn: 15.7525762\ttotal: 2.01s\tremaining: 196ms\n",
      "911:\tlearn: 15.7497648\ttotal: 2.02s\tremaining: 194ms\n",
      "912:\tlearn: 15.7471693\ttotal: 2.02s\tremaining: 193ms\n",
      "913:\tlearn: 15.7435342\ttotal: 2.02s\tremaining: 190ms\n",
      "914:\tlearn: 15.7400629\ttotal: 2.04s\tremaining: 189ms\n",
      "915:\tlearn: 15.7362873\ttotal: 2.04s\tremaining: 188ms\n",
      "916:\tlearn: 15.7330523\ttotal: 2.05s\tremaining: 185ms\n",
      "917:\tlearn: 15.7296508\ttotal: 2.05s\tremaining: 183ms\n",
      "918:\tlearn: 15.7266181\ttotal: 2.05s\tremaining: 181ms\n",
      "919:\tlearn: 15.7242902\ttotal: 2.06s\tremaining: 179ms\n",
      "920:\tlearn: 15.7225919\ttotal: 2.06s\tremaining: 177ms\n",
      "921:\tlearn: 15.7197366\ttotal: 2.06s\tremaining: 174ms\n",
      "922:\tlearn: 15.7160296\ttotal: 2.06s\tremaining: 172ms\n",
      "923:\tlearn: 15.7132991\ttotal: 2.07s\tremaining: 170ms\n",
      "924:\tlearn: 15.7100184\ttotal: 2.07s\tremaining: 168ms\n",
      "925:\tlearn: 15.7060233\ttotal: 2.07s\tremaining: 166ms\n",
      "926:\tlearn: 15.7037633\ttotal: 2.08s\tremaining: 164ms\n",
      "927:\tlearn: 15.7007864\ttotal: 2.08s\tremaining: 161ms\n",
      "928:\tlearn: 15.6973894\ttotal: 2.08s\tremaining: 159ms\n",
      "929:\tlearn: 15.6928267\ttotal: 2.09s\tremaining: 157ms\n",
      "930:\tlearn: 15.6870001\ttotal: 2.09s\tremaining: 155ms\n",
      "931:\tlearn: 15.6833841\ttotal: 2.09s\tremaining: 153ms\n",
      "932:\tlearn: 15.6800245\ttotal: 2.1s\tremaining: 151ms\n",
      "933:\tlearn: 15.6786394\ttotal: 2.1s\tremaining: 148ms\n",
      "934:\tlearn: 15.6758457\ttotal: 2.1s\tremaining: 146ms\n",
      "935:\tlearn: 15.6709493\ttotal: 2.1s\tremaining: 144ms\n",
      "936:\tlearn: 15.6677023\ttotal: 2.11s\tremaining: 142ms\n",
      "937:\tlearn: 15.6633225\ttotal: 2.11s\tremaining: 139ms\n",
      "938:\tlearn: 15.6603568\ttotal: 2.11s\tremaining: 137ms\n",
      "939:\tlearn: 15.6567178\ttotal: 2.12s\tremaining: 135ms\n",
      "940:\tlearn: 15.6524771\ttotal: 2.13s\tremaining: 133ms\n",
      "941:\tlearn: 15.6497112\ttotal: 2.13s\tremaining: 131ms\n",
      "942:\tlearn: 15.6438229\ttotal: 2.13s\tremaining: 129ms\n",
      "943:\tlearn: 15.6404657\ttotal: 2.13s\tremaining: 127ms\n",
      "944:\tlearn: 15.6382419\ttotal: 2.14s\tremaining: 124ms\n",
      "945:\tlearn: 15.6349524\ttotal: 2.14s\tremaining: 122ms\n",
      "946:\tlearn: 15.6318539\ttotal: 2.14s\tremaining: 120ms\n",
      "947:\tlearn: 15.6287808\ttotal: 2.15s\tremaining: 118ms\n",
      "948:\tlearn: 15.6255356\ttotal: 2.15s\tremaining: 116ms\n",
      "949:\tlearn: 15.6227334\ttotal: 2.15s\tremaining: 113ms\n",
      "950:\tlearn: 15.6204075\ttotal: 2.16s\tremaining: 111ms\n",
      "951:\tlearn: 15.6167091\ttotal: 2.16s\tremaining: 109ms\n",
      "952:\tlearn: 15.6124089\ttotal: 2.16s\tremaining: 107ms\n",
      "953:\tlearn: 15.6090889\ttotal: 2.17s\tremaining: 105ms\n",
      "954:\tlearn: 15.6057366\ttotal: 2.17s\tremaining: 102ms\n",
      "955:\tlearn: 15.6029058\ttotal: 2.17s\tremaining: 100ms\n",
      "956:\tlearn: 15.5993013\ttotal: 2.18s\tremaining: 97.8ms\n",
      "957:\tlearn: 15.5965331\ttotal: 2.18s\tremaining: 95.6ms\n",
      "958:\tlearn: 15.5919407\ttotal: 2.19s\tremaining: 93.5ms\n",
      "959:\tlearn: 15.5896094\ttotal: 2.19s\tremaining: 91.2ms\n",
      "960:\tlearn: 15.5865999\ttotal: 2.19s\tremaining: 89ms\n",
      "961:\tlearn: 15.5824156\ttotal: 2.2s\tremaining: 86.8ms\n",
      "962:\tlearn: 15.5787328\ttotal: 2.2s\tremaining: 84.5ms\n",
      "963:\tlearn: 15.5747478\ttotal: 2.2s\tremaining: 82.3ms\n",
      "964:\tlearn: 15.5726343\ttotal: 2.21s\tremaining: 80ms\n",
      "965:\tlearn: 15.5697796\ttotal: 2.21s\tremaining: 77.8ms\n",
      "966:\tlearn: 15.5663752\ttotal: 2.21s\tremaining: 75.6ms\n",
      "967:\tlearn: 15.5617127\ttotal: 2.22s\tremaining: 73.4ms\n",
      "968:\tlearn: 15.5594034\ttotal: 2.22s\tremaining: 71.2ms\n",
      "969:\tlearn: 15.5562389\ttotal: 2.23s\tremaining: 69ms\n",
      "970:\tlearn: 15.5543261\ttotal: 2.23s\tremaining: 66.7ms\n",
      "971:\tlearn: 15.5491730\ttotal: 2.24s\tremaining: 64.4ms\n",
      "972:\tlearn: 15.5445685\ttotal: 2.24s\tremaining: 62.1ms\n",
      "973:\tlearn: 15.5395148\ttotal: 2.24s\tremaining: 59.9ms\n",
      "974:\tlearn: 15.5362196\ttotal: 2.24s\tremaining: 57.5ms\n",
      "975:\tlearn: 15.5320515\ttotal: 2.25s\tremaining: 55.2ms\n",
      "976:\tlearn: 15.5299776\ttotal: 2.25s\tremaining: 52.9ms\n",
      "977:\tlearn: 15.5259941\ttotal: 2.25s\tremaining: 50.6ms\n",
      "978:\tlearn: 15.5229019\ttotal: 2.25s\tremaining: 48.3ms\n",
      "979:\tlearn: 15.5193873\ttotal: 2.26s\tremaining: 46.1ms\n",
      "980:\tlearn: 15.5170218\ttotal: 2.26s\tremaining: 43.8ms\n",
      "981:\tlearn: 15.5131715\ttotal: 2.27s\tremaining: 41.5ms\n",
      "982:\tlearn: 15.5106979\ttotal: 2.27s\tremaining: 39.2ms\n",
      "983:\tlearn: 15.5085826\ttotal: 2.27s\tremaining: 37ms\n",
      "984:\tlearn: 15.5039104\ttotal: 2.28s\tremaining: 34.7ms\n",
      "985:\tlearn: 15.5018580\ttotal: 2.28s\tremaining: 32.4ms\n",
      "986:\tlearn: 15.4978543\ttotal: 2.28s\tremaining: 30.1ms\n",
      "987:\tlearn: 15.4943870\ttotal: 2.29s\tremaining: 27.8ms\n",
      "988:\tlearn: 15.4910707\ttotal: 2.29s\tremaining: 25.5ms\n",
      "989:\tlearn: 15.4895813\ttotal: 2.29s\tremaining: 23.1ms\n",
      "990:\tlearn: 15.4859712\ttotal: 2.29s\tremaining: 20.8ms\n",
      "991:\tlearn: 15.4827979\ttotal: 2.3s\tremaining: 18.5ms\n",
      "992:\tlearn: 15.4780172\ttotal: 2.3s\tremaining: 16.2ms\n",
      "993:\tlearn: 15.4758513\ttotal: 2.3s\tremaining: 13.9ms\n",
      "994:\tlearn: 15.4722861\ttotal: 2.31s\tremaining: 11.6ms\n",
      "995:\tlearn: 15.4692038\ttotal: 2.31s\tremaining: 9.28ms\n",
      "996:\tlearn: 15.4656696\ttotal: 2.31s\tremaining: 6.96ms\n",
      "997:\tlearn: 15.4618483\ttotal: 2.32s\tremaining: 4.64ms\n",
      "998:\tlearn: 15.4570907\ttotal: 2.32s\tremaining: 2.32ms\n",
      "999:\tlearn: 15.4563621\ttotal: 2.33s\tremaining: 0us\n"
     ]
    },
    {
     "data": {
      "text/plain": [
       "0.023759932205076217"
      ]
     },
     "execution_count": 35,
     "metadata": {},
     "output_type": "execute_result"
    }
   ],
   "source": [
    "from catboost import CatBoostRegressor\n",
    "cat_reg = CatBoostRegressor()\n",
    "cat_reg.fit(X_train,y_train)\n",
    "cat_pred = cat_reg.predict(X_test)\n",
    "r2_score(y_test, cat_pred)"
   ]
  },
  {
   "cell_type": "markdown",
   "metadata": {},
   "source": [
    "# xgboost"
   ]
  },
  {
   "cell_type": "code",
   "execution_count": 36,
   "metadata": {},
   "outputs": [
    {
     "data": {
      "text/plain": [
       "0.05716499368633665"
      ]
     },
     "execution_count": 36,
     "metadata": {},
     "output_type": "execute_result"
    }
   ],
   "source": [
    "import xgboost\n",
    "xgb_reg = xgboost.XGBRFRegressor()\n",
    "xgb_reg.fit(X_train,y_train)\n",
    "xgb_pred = xgb_reg.predict(X_test)\n",
    "r2_score(y_test, xgb_pred)"
   ]
  },
  {
   "cell_type": "markdown",
   "metadata": {},
   "source": [
    "# lightgbm"
   ]
  },
  {
   "cell_type": "code",
   "execution_count": 37,
   "metadata": {
    "scrolled": true
   },
   "outputs": [
    {
     "name": "stderr",
     "output_type": "stream",
     "text": [
      "/home/iduru/anaconda3/lib/python3.7/site-packages/dask/config.py:161: YAMLLoadWarning: calling yaml.load() without Loader=... is deprecated, as the default Loader is unsafe. Please read https://msg.pyyaml.org/load for full details.\n",
      "  data = yaml.load(f.read()) or {}\n",
      "/home/iduru/anaconda3/lib/python3.7/site-packages/dask/dataframe/utils.py:13: FutureWarning: pandas.util.testing is deprecated. Use the functions in the public API at pandas.testing instead.\n",
      "  import pandas.util.testing as tm\n",
      "/home/iduru/anaconda3/lib/python3.7/site-packages/distributed/config.py:20: YAMLLoadWarning: calling yaml.load() without Loader=... is deprecated, as the default Loader is unsafe. Please read https://msg.pyyaml.org/load for full details.\n",
      "  defaults = yaml.load(f)\n"
     ]
    },
    {
     "data": {
      "text/plain": [
       "0.04366492785270615"
      ]
     },
     "execution_count": 37,
     "metadata": {},
     "output_type": "execute_result"
    }
   ],
   "source": [
    "import lightgbm\n",
    "lgb_reg = lightgbm.LGBMRegressor()\n",
    "lgb_reg.fit(X_train,y_train)\n",
    "lgb_pred = lgb_reg.predict(X_test)\n",
    "r2_score(y_test, lgb_pred)"
   ]
  },
  {
   "cell_type": "markdown",
   "metadata": {},
   "source": [
    "### R2 scores are quite terrible, even with normalized data, let's first try to select features manually"
   ]
  },
  {
   "cell_type": "code",
   "execution_count": 38,
   "metadata": {},
   "outputs": [],
   "source": [
    "X = df[['danceability','loudness','time_signature','instrumentalness','audio_valence','liveness']]\n",
    "y = df['song_popularity']\n",
    "\n",
    "from sklearn.model_selection import train_test_split\n",
    "X_train, X_test, y_train, y_test = train_test_split(X, y, test_size = 0.2, random_state = 0)"
   ]
  },
  {
   "cell_type": "code",
   "execution_count": 39,
   "metadata": {},
   "outputs": [
    {
     "data": {
      "text/plain": [
       "-0.032366568282345964"
      ]
     },
     "execution_count": 39,
     "metadata": {},
     "output_type": "execute_result"
    }
   ],
   "source": [
    "from sklearn.ensemble import RandomForestRegressor\n",
    "from sklearn.metrics import r2_score\n",
    "#from sklearn.preprocessing import StandardScaler\n",
    "\n",
    "\n",
    "regressor = RandomForestRegressor(n_estimators = 100)\n",
    "rfr_model = regressor.fit(X_train, y_train)\n",
    "rfr_predictions = rfr_model.predict(X_test)\n",
    "r2_score(y_test, rfr_predictions)"
   ]
  },
  {
   "cell_type": "code",
   "execution_count": 40,
   "metadata": {},
   "outputs": [],
   "source": [
    "from sklearn.preprocessing import RobustScaler\n",
    "X_train, X_test, y_train, y_test = train_test_split(RobustScaler().fit_transform(X), y, test_size = 0.2, random_state = 0)"
   ]
  },
  {
   "cell_type": "code",
   "execution_count": 41,
   "metadata": {},
   "outputs": [
    {
     "data": {
      "text/plain": [
       "-0.03357471394804179"
      ]
     },
     "execution_count": 41,
     "metadata": {},
     "output_type": "execute_result"
    }
   ],
   "source": [
    "regressor = RandomForestRegressor(n_estimators = 100)\n",
    "rfr_model = regressor.fit(X_train, y_train)\n",
    "rfr_predictions = rfr_model.predict(X_test)\n",
    "r2_score(y_test, rfr_predictions)"
   ]
  },
  {
   "cell_type": "code",
   "execution_count": 42,
   "metadata": {},
   "outputs": [
    {
     "name": "stderr",
     "output_type": "stream",
     "text": [
      "/home/iduru/anaconda3/lib/python3.7/site-packages/sklearn/linear_model/logistic.py:433: FutureWarning: Default solver will be changed to 'lbfgs' in 0.22. Specify a solver to silence this warning.\n",
      "  FutureWarning)\n",
      "/home/iduru/anaconda3/lib/python3.7/site-packages/sklearn/linear_model/logistic.py:460: FutureWarning: Default multi_class will be changed to 'auto' in 0.22. Specify the multi_class option to silence this warning.\n",
      "  \"this warning.\", FutureWarning)\n"
     ]
    },
    {
     "data": {
      "text/plain": [
       "-0.19330541567650594"
      ]
     },
     "execution_count": 42,
     "metadata": {},
     "output_type": "execute_result"
    }
   ],
   "source": [
    "from sklearn.linear_model import LogisticRegression\n",
    "log_reg = LogisticRegression()\n",
    "log_model=log_reg.fit(X_train, y_train)\n",
    "log_reg_pred = log_reg.predict(X_test)\n",
    "r2_score(y_test, log_reg_pred)"
   ]
  },
  {
   "cell_type": "code",
   "execution_count": 43,
   "metadata": {},
   "outputs": [
    {
     "name": "stderr",
     "output_type": "stream",
     "text": [
      "/home/iduru/anaconda3/lib/python3.7/site-packages/sklearn/svm/base.py:196: FutureWarning: The default value of gamma will change from 'auto' to 'scale' in version 0.22 to account better for unscaled features. Set gamma explicitly to 'auto' or 'scale' to avoid this warning.\n",
      "  \"avoid this warning.\", FutureWarning)\n"
     ]
    },
    {
     "data": {
      "text/plain": [
       "0.023452632832389964"
      ]
     },
     "execution_count": 43,
     "metadata": {},
     "output_type": "execute_result"
    }
   ],
   "source": [
    "from sklearn.svm import SVR\n",
    "sv_reg = SVR()\n",
    "sv_reg.fit(X_train, y_train)\n",
    "sv_reg_pred = sv_reg.predict(X_test)\n",
    "r2_score(y_test, sv_reg_pred)"
   ]
  },
  {
   "cell_type": "code",
   "execution_count": 44,
   "metadata": {},
   "outputs": [
    {
     "data": {
      "text/plain": [
       "-0.02403891024997651"
      ]
     },
     "execution_count": 44,
     "metadata": {},
     "output_type": "execute_result"
    }
   ],
   "source": [
    "from sklearn.neighbors import KNeighborsRegressor\n",
    "neigh = KNeighborsRegressor(n_neighbors=15)\n",
    "neigh.fit(X_train, y_train)\n",
    "neigh_pred = neigh.predict(X_test)\n",
    "r2_score(y_test, neigh_pred)"
   ]
  },
  {
   "cell_type": "code",
   "execution_count": 45,
   "metadata": {},
   "outputs": [
    {
     "data": {
      "text/plain": [
       "0.039990442112164404"
      ]
     },
     "execution_count": 45,
     "metadata": {},
     "output_type": "execute_result"
    }
   ],
   "source": [
    "from sklearn.ensemble import GradientBoostingRegressor\n",
    "gbr = GradientBoostingRegressor()\n",
    "gbr.fit(X_train, y_train)\n",
    "gbr_pred = gbr.predict(X_test)\n",
    "r2_score(y_test, gbr_pred)"
   ]
  },
  {
   "cell_type": "markdown",
   "metadata": {},
   "source": [
    "# Conclusion\n",
    "with this data, even with normalization, we cannot get good score to predict popularity of the song."
   ]
  },
  {
   "cell_type": "markdown",
   "metadata": {},
   "source": [
    "# Trying classification\n",
    "instead of trying to guess the song popularity as a number, we can divide create three different class and try to guess the class using ML."
   ]
  },
  {
   "cell_type": "code",
   "execution_count": 46,
   "metadata": {},
   "outputs": [],
   "source": [
    "def classer(x):\n",
    "    if x > 70:\n",
    "       return \"good\"\n",
    "    elif x < 70 and x > 40:\n",
    "       return \"mid\"\n",
    "    else:\n",
    "       return \"not_good\""
   ]
  },
  {
   "cell_type": "code",
   "execution_count": 47,
   "metadata": {},
   "outputs": [],
   "source": [
    "df[\"pop_class\"] = df[\"song_popularity\"].apply(classer)"
   ]
  },
  {
   "cell_type": "code",
   "execution_count": 48,
   "metadata": {},
   "outputs": [
    {
     "data": {
      "text/html": [
       "<div>\n",
       "<style scoped>\n",
       "    .dataframe tbody tr th:only-of-type {\n",
       "        vertical-align: middle;\n",
       "    }\n",
       "\n",
       "    .dataframe tbody tr th {\n",
       "        vertical-align: top;\n",
       "    }\n",
       "\n",
       "    .dataframe thead th {\n",
       "        text-align: right;\n",
       "    }\n",
       "</style>\n",
       "<table border=\"1\" class=\"dataframe\">\n",
       "  <thead>\n",
       "    <tr style=\"text-align: right;\">\n",
       "      <th></th>\n",
       "      <th>song_name</th>\n",
       "      <th>song_popularity</th>\n",
       "      <th>song_duration_ms</th>\n",
       "      <th>acousticness</th>\n",
       "      <th>danceability</th>\n",
       "      <th>energy</th>\n",
       "      <th>instrumentalness</th>\n",
       "      <th>key</th>\n",
       "      <th>liveness</th>\n",
       "      <th>loudness</th>\n",
       "      <th>audio_mode</th>\n",
       "      <th>speechiness</th>\n",
       "      <th>tempo</th>\n",
       "      <th>time_signature</th>\n",
       "      <th>audio_valence</th>\n",
       "      <th>pop_class</th>\n",
       "    </tr>\n",
       "  </thead>\n",
       "  <tbody>\n",
       "    <tr>\n",
       "      <th>0</th>\n",
       "      <td>Boulevard of Broken Dreams</td>\n",
       "      <td>73</td>\n",
       "      <td>262333</td>\n",
       "      <td>0.005520</td>\n",
       "      <td>0.496</td>\n",
       "      <td>0.682</td>\n",
       "      <td>0.000029</td>\n",
       "      <td>8</td>\n",
       "      <td>0.0589</td>\n",
       "      <td>-4.095</td>\n",
       "      <td>1</td>\n",
       "      <td>0.0294</td>\n",
       "      <td>167.060</td>\n",
       "      <td>4</td>\n",
       "      <td>0.474</td>\n",
       "      <td>good</td>\n",
       "    </tr>\n",
       "    <tr>\n",
       "      <th>1</th>\n",
       "      <td>In The End</td>\n",
       "      <td>66</td>\n",
       "      <td>216933</td>\n",
       "      <td>0.010300</td>\n",
       "      <td>0.542</td>\n",
       "      <td>0.853</td>\n",
       "      <td>0.000000</td>\n",
       "      <td>3</td>\n",
       "      <td>0.1080</td>\n",
       "      <td>-6.407</td>\n",
       "      <td>0</td>\n",
       "      <td>0.0498</td>\n",
       "      <td>105.256</td>\n",
       "      <td>4</td>\n",
       "      <td>0.370</td>\n",
       "      <td>mid</td>\n",
       "    </tr>\n",
       "    <tr>\n",
       "      <th>2</th>\n",
       "      <td>Seven Nation Army</td>\n",
       "      <td>76</td>\n",
       "      <td>231733</td>\n",
       "      <td>0.008170</td>\n",
       "      <td>0.737</td>\n",
       "      <td>0.463</td>\n",
       "      <td>0.447000</td>\n",
       "      <td>0</td>\n",
       "      <td>0.2550</td>\n",
       "      <td>-7.828</td>\n",
       "      <td>1</td>\n",
       "      <td>0.0792</td>\n",
       "      <td>123.881</td>\n",
       "      <td>4</td>\n",
       "      <td>0.324</td>\n",
       "      <td>good</td>\n",
       "    </tr>\n",
       "    <tr>\n",
       "      <th>3</th>\n",
       "      <td>By The Way</td>\n",
       "      <td>74</td>\n",
       "      <td>216933</td>\n",
       "      <td>0.026400</td>\n",
       "      <td>0.451</td>\n",
       "      <td>0.970</td>\n",
       "      <td>0.003550</td>\n",
       "      <td>0</td>\n",
       "      <td>0.1020</td>\n",
       "      <td>-4.938</td>\n",
       "      <td>1</td>\n",
       "      <td>0.1070</td>\n",
       "      <td>122.444</td>\n",
       "      <td>4</td>\n",
       "      <td>0.198</td>\n",
       "      <td>good</td>\n",
       "    </tr>\n",
       "    <tr>\n",
       "      <th>4</th>\n",
       "      <td>How You Remind Me</td>\n",
       "      <td>56</td>\n",
       "      <td>223826</td>\n",
       "      <td>0.000954</td>\n",
       "      <td>0.447</td>\n",
       "      <td>0.766</td>\n",
       "      <td>0.000000</td>\n",
       "      <td>10</td>\n",
       "      <td>0.1130</td>\n",
       "      <td>-5.065</td>\n",
       "      <td>1</td>\n",
       "      <td>0.0313</td>\n",
       "      <td>172.011</td>\n",
       "      <td>4</td>\n",
       "      <td>0.574</td>\n",
       "      <td>mid</td>\n",
       "    </tr>\n",
       "    <tr>\n",
       "      <th>...</th>\n",
       "      <td>...</td>\n",
       "      <td>...</td>\n",
       "      <td>...</td>\n",
       "      <td>...</td>\n",
       "      <td>...</td>\n",
       "      <td>...</td>\n",
       "      <td>...</td>\n",
       "      <td>...</td>\n",
       "      <td>...</td>\n",
       "      <td>...</td>\n",
       "      <td>...</td>\n",
       "      <td>...</td>\n",
       "      <td>...</td>\n",
       "      <td>...</td>\n",
       "      <td>...</td>\n",
       "      <td>...</td>\n",
       "    </tr>\n",
       "    <tr>\n",
       "      <th>18830</th>\n",
       "      <td>Let It Breathe</td>\n",
       "      <td>60</td>\n",
       "      <td>159645</td>\n",
       "      <td>0.893000</td>\n",
       "      <td>0.500</td>\n",
       "      <td>0.151</td>\n",
       "      <td>0.000065</td>\n",
       "      <td>11</td>\n",
       "      <td>0.1110</td>\n",
       "      <td>-16.107</td>\n",
       "      <td>1</td>\n",
       "      <td>0.0348</td>\n",
       "      <td>113.969</td>\n",
       "      <td>4</td>\n",
       "      <td>0.300</td>\n",
       "      <td>mid</td>\n",
       "    </tr>\n",
       "    <tr>\n",
       "      <th>18831</th>\n",
       "      <td>Answers</td>\n",
       "      <td>60</td>\n",
       "      <td>205666</td>\n",
       "      <td>0.765000</td>\n",
       "      <td>0.495</td>\n",
       "      <td>0.161</td>\n",
       "      <td>0.000001</td>\n",
       "      <td>11</td>\n",
       "      <td>0.1050</td>\n",
       "      <td>-14.078</td>\n",
       "      <td>0</td>\n",
       "      <td>0.0301</td>\n",
       "      <td>94.286</td>\n",
       "      <td>4</td>\n",
       "      <td>0.265</td>\n",
       "      <td>mid</td>\n",
       "    </tr>\n",
       "    <tr>\n",
       "      <th>18832</th>\n",
       "      <td>Sudden Love (Acoustic)</td>\n",
       "      <td>23</td>\n",
       "      <td>182211</td>\n",
       "      <td>0.847000</td>\n",
       "      <td>0.719</td>\n",
       "      <td>0.325</td>\n",
       "      <td>0.000000</td>\n",
       "      <td>0</td>\n",
       "      <td>0.1250</td>\n",
       "      <td>-12.222</td>\n",
       "      <td>1</td>\n",
       "      <td>0.0355</td>\n",
       "      <td>130.534</td>\n",
       "      <td>4</td>\n",
       "      <td>0.286</td>\n",
       "      <td>not_good</td>\n",
       "    </tr>\n",
       "    <tr>\n",
       "      <th>18833</th>\n",
       "      <td>Gentle on My Mind</td>\n",
       "      <td>55</td>\n",
       "      <td>352280</td>\n",
       "      <td>0.945000</td>\n",
       "      <td>0.488</td>\n",
       "      <td>0.326</td>\n",
       "      <td>0.015700</td>\n",
       "      <td>3</td>\n",
       "      <td>0.1190</td>\n",
       "      <td>-12.020</td>\n",
       "      <td>1</td>\n",
       "      <td>0.0328</td>\n",
       "      <td>106.063</td>\n",
       "      <td>4</td>\n",
       "      <td>0.323</td>\n",
       "      <td>mid</td>\n",
       "    </tr>\n",
       "    <tr>\n",
       "      <th>18834</th>\n",
       "      <td>Up to Me</td>\n",
       "      <td>60</td>\n",
       "      <td>193533</td>\n",
       "      <td>0.911000</td>\n",
       "      <td>0.640</td>\n",
       "      <td>0.381</td>\n",
       "      <td>0.000254</td>\n",
       "      <td>4</td>\n",
       "      <td>0.1040</td>\n",
       "      <td>-11.790</td>\n",
       "      <td>1</td>\n",
       "      <td>0.0302</td>\n",
       "      <td>91.490</td>\n",
       "      <td>4</td>\n",
       "      <td>0.581</td>\n",
       "      <td>mid</td>\n",
       "    </tr>\n",
       "  </tbody>\n",
       "</table>\n",
       "<p>14926 rows × 16 columns</p>\n",
       "</div>"
      ],
      "text/plain": [
       "                        song_name  song_popularity  song_duration_ms  \\\n",
       "0      Boulevard of Broken Dreams               73            262333   \n",
       "1                      In The End               66            216933   \n",
       "2               Seven Nation Army               76            231733   \n",
       "3                      By The Way               74            216933   \n",
       "4               How You Remind Me               56            223826   \n",
       "...                           ...              ...               ...   \n",
       "18830              Let It Breathe               60            159645   \n",
       "18831                     Answers               60            205666   \n",
       "18832      Sudden Love (Acoustic)               23            182211   \n",
       "18833           Gentle on My Mind               55            352280   \n",
       "18834                    Up to Me               60            193533   \n",
       "\n",
       "       acousticness  danceability  energy  instrumentalness  key  liveness  \\\n",
       "0          0.005520         0.496   0.682          0.000029    8    0.0589   \n",
       "1          0.010300         0.542   0.853          0.000000    3    0.1080   \n",
       "2          0.008170         0.737   0.463          0.447000    0    0.2550   \n",
       "3          0.026400         0.451   0.970          0.003550    0    0.1020   \n",
       "4          0.000954         0.447   0.766          0.000000   10    0.1130   \n",
       "...             ...           ...     ...               ...  ...       ...   \n",
       "18830      0.893000         0.500   0.151          0.000065   11    0.1110   \n",
       "18831      0.765000         0.495   0.161          0.000001   11    0.1050   \n",
       "18832      0.847000         0.719   0.325          0.000000    0    0.1250   \n",
       "18833      0.945000         0.488   0.326          0.015700    3    0.1190   \n",
       "18834      0.911000         0.640   0.381          0.000254    4    0.1040   \n",
       "\n",
       "       loudness  audio_mode  speechiness    tempo  time_signature  \\\n",
       "0        -4.095           1       0.0294  167.060               4   \n",
       "1        -6.407           0       0.0498  105.256               4   \n",
       "2        -7.828           1       0.0792  123.881               4   \n",
       "3        -4.938           1       0.1070  122.444               4   \n",
       "4        -5.065           1       0.0313  172.011               4   \n",
       "...         ...         ...          ...      ...             ...   \n",
       "18830   -16.107           1       0.0348  113.969               4   \n",
       "18831   -14.078           0       0.0301   94.286               4   \n",
       "18832   -12.222           1       0.0355  130.534               4   \n",
       "18833   -12.020           1       0.0328  106.063               4   \n",
       "18834   -11.790           1       0.0302   91.490               4   \n",
       "\n",
       "       audio_valence pop_class  \n",
       "0              0.474      good  \n",
       "1              0.370       mid  \n",
       "2              0.324      good  \n",
       "3              0.198      good  \n",
       "4              0.574       mid  \n",
       "...              ...       ...  \n",
       "18830          0.300       mid  \n",
       "18831          0.265       mid  \n",
       "18832          0.286  not_good  \n",
       "18833          0.323       mid  \n",
       "18834          0.581       mid  \n",
       "\n",
       "[14926 rows x 16 columns]"
      ]
     },
     "execution_count": 48,
     "metadata": {},
     "output_type": "execute_result"
    }
   ],
   "source": [
    "df"
   ]
  },
  {
   "cell_type": "markdown",
   "metadata": {},
   "source": [
    "# let's take all features again"
   ]
  },
  {
   "cell_type": "code",
   "execution_count": 49,
   "metadata": {},
   "outputs": [],
   "source": [
    "X = df[['song_duration_ms',\n",
    " 'acousticness',\n",
    " 'danceability',\n",
    " 'energy',\n",
    " 'instrumentalness',\n",
    " 'key',\n",
    " 'liveness',\n",
    " 'loudness',\n",
    " 'audio_mode',\n",
    " 'speechiness',\n",
    " 'tempo',\n",
    " 'time_signature',\n",
    " 'audio_valence']]\n",
    "y = df['pop_class']\n",
    "\n",
    "from sklearn.model_selection import train_test_split\n",
    "X_train, X_test, y_train, y_test = train_test_split(X, y, test_size = 0.2, random_state = 0)"
   ]
  },
  {
   "cell_type": "markdown",
   "metadata": {},
   "source": [
    "# Randomforest"
   ]
  },
  {
   "cell_type": "code",
   "execution_count": 50,
   "metadata": {},
   "outputs": [
    {
     "name": "stdout",
     "output_type": "stream",
     "text": [
      "classification_report:\n",
      "              precision    recall  f1-score   support\n",
      "\n",
      "        good       0.24      0.04      0.07       399\n",
      "         mid       0.57      0.90      0.70      1669\n",
      "    not_good       0.42      0.14      0.21       918\n",
      "\n",
      "   micro avg       0.55      0.55      0.55      2986\n",
      "   macro avg       0.41      0.36      0.33      2986\n",
      "weighted avg       0.48      0.55      0.46      2986\n",
      "\n",
      "\n",
      "Accuracy score is 0.55\n",
      "Accuracy score is 0.55\n"
     ]
    }
   ],
   "source": [
    "from sklearn.ensemble import RandomForestClassifier\n",
    "from sklearn.metrics import r2_score\n",
    "from sklearn.metrics import classification_report,confusion_matrix, accuracy_score\n",
    "#from sklearn.preprocessing import StandardScaler\n",
    "\n",
    "\n",
    "calssifier = RandomForestClassifier(n_estimators = 100)\n",
    "rfc_model = calssifier.fit(X_train, y_train)\n",
    "rfc_predictions = rfc_model.predict(X_test)\n",
    "print(\"classification_report:\")\n",
    "print(classification_report(y_test, rfc_predictions))\n",
    "print(\"\")\n",
    "\n",
    "accuracy = accuracy_score(y_test, rfc_predictions)\n",
    "print(\"Accuracy score is {:.2f}\".format(accuracy_score(y_test, rfc_predictions)))\n",
    "print(f'Accuracy score is {accuracy:.2f}')\n"
   ]
  },
  {
   "cell_type": "code",
   "execution_count": 51,
   "metadata": {},
   "outputs": [
    {
     "data": {
      "image/png": "[encoded data removed]",
      "text/plain": [
       "<Figure size 720x504 with 2 Axes>"
      ]
     },
     "metadata": {
      "needs_background": "light"
     },
     "output_type": "display_data"
    }
   ],
   "source": [
    "rfc_cm = confusion_matrix(y_test, rfc_predictions)\n",
    "rfc_labels = rfc_model.classes_\n",
    "plt.figure(figsize=(10,7))\n",
    "\n",
    "ax= plt.subplot()\n",
    "sns.heatmap(rfc_cm, annot=True, ax = ax,fmt=\"d\");\n",
    "\n",
    "# labels, title and ticks\n",
    "ax.set_xlabel('Predicted labels');\n",
    "ax.set_ylabel('True labels'); \n",
    "ax.set_title('Confusion Matrix');\n",
    "ax.yaxis.set_tick_params(rotation=360)\n",
    "ax.xaxis.set_tick_params(rotation=90)\n",
    "\n",
    "ax.xaxis.set_ticklabels(rfc_labels); \n",
    "ax.yaxis.set_ticklabels(rfc_labels);"
   ]
  },
  {
   "cell_type": "markdown",
   "metadata": {},
   "source": [
    "# LogisticRegression"
   ]
  },
  {
   "cell_type": "code",
   "execution_count": 52,
   "metadata": {},
   "outputs": [
    {
     "name": "stdout",
     "output_type": "stream",
     "text": [
      "classification_report:\n",
      "              precision    recall  f1-score   support\n",
      "\n",
      "        good       0.00      0.00      0.00       399\n",
      "         mid       0.56      1.00      0.72      1669\n",
      "    not_good       0.00      0.00      0.00       918\n",
      "\n",
      "   micro avg       0.56      0.56      0.56      2986\n",
      "   macro avg       0.19      0.33      0.24      2986\n",
      "weighted avg       0.31      0.56      0.40      2986\n",
      "\n",
      "\n",
      "Accuracy score is 0.56\n",
      "Accuracy score is 0.56\n"
     ]
    },
    {
     "name": "stderr",
     "output_type": "stream",
     "text": [
      "/home/iduru/anaconda3/lib/python3.7/site-packages/sklearn/linear_model/logistic.py:433: FutureWarning: Default solver will be changed to 'lbfgs' in 0.22. Specify a solver to silence this warning.\n",
      "  FutureWarning)\n",
      "/home/iduru/anaconda3/lib/python3.7/site-packages/sklearn/linear_model/logistic.py:460: FutureWarning: Default multi_class will be changed to 'auto' in 0.22. Specify the multi_class option to silence this warning.\n",
      "  \"this warning.\", FutureWarning)\n",
      "/home/iduru/anaconda3/lib/python3.7/site-packages/sklearn/metrics/classification.py:1143: UndefinedMetricWarning: Precision and F-score are ill-defined and being set to 0.0 in labels with no predicted samples.\n",
      "  'precision', 'predicted', average, warn_for)\n",
      "/home/iduru/anaconda3/lib/python3.7/site-packages/sklearn/metrics/classification.py:1143: UndefinedMetricWarning: Precision and F-score are ill-defined and being set to 0.0 in labels with no predicted samples.\n",
      "  'precision', 'predicted', average, warn_for)\n",
      "/home/iduru/anaconda3/lib/python3.7/site-packages/sklearn/metrics/classification.py:1143: UndefinedMetricWarning: Precision and F-score are ill-defined and being set to 0.0 in labels with no predicted samples.\n",
      "  'precision', 'predicted', average, warn_for)\n"
     ]
    }
   ],
   "source": [
    "from sklearn.linear_model import LogisticRegression\n",
    "log_reg = LogisticRegression()\n",
    "log_model=log_reg.fit(X_train, y_train)\n",
    "log_reg_pred = log_reg.predict(X_test)\n",
    "print(\"classification_report:\")\n",
    "print(classification_report(y_test, log_reg_pred))\n",
    "print(\"\")\n",
    "\n",
    "accuracy = accuracy_score(y_test, log_reg_pred)\n",
    "print(\"Accuracy score is {:.2f}\".format(accuracy_score(y_test, log_reg_pred)))\n",
    "print(f'Accuracy score is {accuracy:.2f}')"
   ]
  },
  {
   "cell_type": "code",
   "execution_count": 53,
   "metadata": {},
   "outputs": [
    {
     "data": {
      "image/png": "[encoded data removed]",
      "text/plain": [
       "<Figure size 720x504 with 2 Axes>"
      ]
     },
     "metadata": {
      "needs_background": "light"
     },
     "output_type": "display_data"
    }
   ],
   "source": [
    "log_cm = confusion_matrix(y_test, log_reg_pred)\n",
    "log_labels = log_model.classes_\n",
    "plt.figure(figsize=(10,7))\n",
    "\n",
    "ax= plt.subplot()\n",
    "sns.heatmap(log_cm, annot=True, ax = ax,fmt=\"d\");\n",
    "\n",
    "# labels, title and ticks\n",
    "ax.set_xlabel('Predicted labels');\n",
    "ax.set_ylabel('True labels'); \n",
    "ax.set_title('Confusion Matrix');\n",
    "ax.yaxis.set_tick_params(rotation=360)\n",
    "ax.xaxis.set_tick_params(rotation=90)\n",
    "\n",
    "ax.xaxis.set_ticklabels(log_labels); \n",
    "ax.yaxis.set_ticklabels(log_labels);"
   ]
  },
  {
   "cell_type": "markdown",
   "metadata": {},
   "source": [
    "# KNeighborsClassification"
   ]
  },
  {
   "cell_type": "code",
   "execution_count": 54,
   "metadata": {},
   "outputs": [
    {
     "name": "stdout",
     "output_type": "stream",
     "text": [
      "classification_report:\n",
      "              precision    recall  f1-score   support\n",
      "\n",
      "        good       0.17      0.03      0.05       399\n",
      "         mid       0.56      0.86      0.68      1669\n",
      "    not_good       0.32      0.13      0.19       918\n",
      "\n",
      "   micro avg       0.52      0.52      0.52      2986\n",
      "   macro avg       0.35      0.34      0.31      2986\n",
      "weighted avg       0.43      0.52      0.44      2986\n",
      "\n",
      "\n",
      "Accuracy score is 0.52\n",
      "Accuracy score is 0.52\n"
     ]
    }
   ],
   "source": [
    "from sklearn.neighbors import KNeighborsClassifier\n",
    "neigh = KNeighborsClassifier(n_neighbors=10)\n",
    "neigh_model = neigh.fit(X_train, y_train)\n",
    "neigh_pred = neigh.predict(X_test)\n",
    "print(\"classification_report:\")\n",
    "print(classification_report(y_test, neigh_pred))\n",
    "print(\"\")\n",
    "\n",
    "accuracy = accuracy_score(y_test, neigh_pred)\n",
    "print(\"Accuracy score is {:.2f}\".format(accuracy_score(y_test, neigh_pred)))\n",
    "print(f'Accuracy score is {accuracy:.2f}')"
   ]
  },
  {
   "cell_type": "code",
   "execution_count": 55,
   "metadata": {},
   "outputs": [
    {
     "data": {
      "image/png": "[encoded data removed]",
      "text/plain": [
       "<Figure size 720x504 with 2 Axes>"
      ]
     },
     "metadata": {
      "needs_background": "light"
     },
     "output_type": "display_data"
    }
   ],
   "source": [
    "neigh_cm = confusion_matrix(y_test, neigh_pred)\n",
    "neigh_labels = neigh_model.classes_\n",
    "plt.figure(figsize=(10,7))\n",
    "\n",
    "ax= plt.subplot()\n",
    "sns.heatmap(neigh_cm, annot=True, ax = ax,fmt=\"d\");\n",
    "\n",
    "# labels, title and ticks\n",
    "ax.set_xlabel('Predicted labels');\n",
    "ax.set_ylabel('True labels'); \n",
    "ax.set_title('Confusion Matrix');\n",
    "ax.yaxis.set_tick_params(rotation=360)\n",
    "ax.xaxis.set_tick_params(rotation=90)\n",
    "\n",
    "ax.xaxis.set_ticklabels(neigh_labels); \n",
    "ax.yaxis.set_ticklabels(neigh_labels);"
   ]
  },
  {
   "cell_type": "markdown",
   "metadata": {},
   "source": [
    "# Conclusion"
   ]
  },
  {
   "cell_type": "markdown",
   "metadata": {},
   "source": [
    "classification was also tested with the data, it is difficult to predict the song popularity with this data. the most correlated feature with the popularity is \"danceability\" but the correlation score is quite low."
   ]
  },
  {
   "cell_type": "code",
   "execution_count": null,
   "metadata": {},
   "outputs": [],
   "source": []
  }
 ],
 "metadata": {
  "kernelspec": {
   "display_name": "Python 3",
   "language": "python",
   "name": "python3"
  },
  "language_info": {
   "codemirror_mode": {
    "name": "ipython",
    "version": 3
   },
   "file_extension": ".py",
   "mimetype": "text/x-python",
   "name": "python",
   "nbconvert_exporter": "python",
   "pygments_lexer": "ipython3",
   "version": "3.7.3"
  }
 },
 "nbformat": 4,
 "nbformat_minor": 5
}
